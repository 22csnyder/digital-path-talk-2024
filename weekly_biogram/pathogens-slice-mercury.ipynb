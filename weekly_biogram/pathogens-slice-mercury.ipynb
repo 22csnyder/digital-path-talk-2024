{
 "cells": [
  {
   "cell_type": "markdown",
   "metadata": {},
   "source": [
    "# \n",
    "*Seizing the means of deduction*"
   ]
  },
  {
   "cell_type": "code",
   "execution_count": 2,
   "metadata": {},
   "outputs": [
    {
     "data": {
      "application/mercury+json": {
       "allow_download": true,
       "allow_share": true,
       "code_uid": "App.0.50.110.6-randef1d035a",
       "continuous_update": true,
       "description": "biogram from https://diorama.wustl.edu/weekly-report",
       "full_screen": true,
       "model_id": "mercury-app",
       "notify": "{}",
       "output": "app",
       "schedule": "",
       "show_code": false,
       "show_prompt": false,
       "show_sidebar": true,
       "static_notebook": false,
       "stop_on_error": false,
       "title": "App: Weekly Pathogen Report: \n09/15/2024 - 09/21/2024",
       "widget": "App"
      },
      "text/html": [
       "<h3>Mercury Application</h3><small>This output won't appear in the web app.</small>"
      ],
      "text/plain": [
       "mercury.App"
      ]
     },
     "metadata": {},
     "output_type": "display_data"
    }
   ],
   "source": [
    "# from IPython.display import display, HTML, IFrame\n",
    "# import ipywidgets as widgets\n",
    "# from ipywidgets.embed import embed_minimal_html\n",
    "import mercury as mr\n",
    "\n",
    "app = mr.App(\n",
    "    title=\"App: Weekly Pathogen Report: \\n09/15/2024 - 09/21/2024\",\n",
    "    description=\"biogram from https://diorama.wustl.edu/weekly-report\",\n",
    "    # static_notebook=True,\n",
    "    show_code=False,\n",
    ")"
   ]
  },
  {
   "cell_type": "code",
   "execution_count": null,
   "metadata": {
    "jupyter": {
     "source_hidden": true
    }
   },
   "outputs": [],
   "source": []
  },
  {
   "cell_type": "markdown",
   "metadata": {
    "slideshow": {
     "slide_type": "skip"
    }
   },
   "source": [
    "### weekly_biogram\n",
    "biogram from https://diorama.wustl.edu/weekly-report"
   ]
  },
  {
   "cell_type": "markdown",
   "metadata": {},
   "source": [
    "<!-- ### 1. Specification -->\n",
    "<!-- ### 2. Manipulation -->\n",
    "<!-- ### 3. Presentation -->"
   ]
  },
  {
   "cell_type": "code",
   "execution_count": 3,
   "metadata": {
    "jupyter": {
     "source_hidden": true
    }
   },
   "outputs": [],
   "source": [
    "import os, pandas as pd\n",
    "import numpy as np, pandas as pd, matplotlib.pyplot as plt, seaborn as sns\n",
    "import sys, json\n",
    "from pprint import pprint\n",
    "from rich import print as rprint\n",
    "from dotenv import load_dotenv\n",
    "from pathlib import Path\n",
    "from pydantic import BaseModel\n",
    "\n",
    "from typing import Any\n",
    "\n",
    "load_dotenv()\n",
    "\n",
    "import marvin, openai, requests, json\n",
    "from pydantic import BaseModel\n",
    "\n",
    "\n",
    "pd.set_option(\"display.max_columns\", 100)\n",
    "pd.set_option(\"display.width\", 1000)\n",
    "pd.set_option(\"display.max_colwidth\", 200)\n",
    "\n",
    "\n",
    "from marvin.utilities.logging import get_logger\n",
    "\n",
    "logger = get_logger(\"bug_marvin\")\n",
    "kv_logger = get_logger(\"bug_marvin_kv\")\n",
    "\n",
    "load_dotenv()\n",
    "DATA_PATH = Path(os.getenv(\"DATA\"))"
   ]
  },
  {
   "cell_type": "code",
   "execution_count": 4,
   "metadata": {
    "jupyter": {
     "source_hidden": true
    },
    "slideshow": {
     "slide_type": "subslide"
    }
   },
   "outputs": [
    {
     "data": {
      "text/html": [
       "<pre style=\"white-space:pre;overflow-x:auto;line-height:normal;font-family:Menlo,'DejaVu Sans Mono',consolas,'Courier New',monospace\">                          Pathogen  Number Positives  Number Tests Positivity Trend <span style=\"color: #008080; text-decoration-color: #008080; font-weight: bold\">4</span> Wk Avg\n",
       "<span style=\"color: #008080; text-decoration-color: #008080; font-weight: bold\">0</span>                       Adenovirus                <span style=\"color: #008080; text-decoration-color: #008080; font-weight: bold\">12</span>          <span style=\"color: #008080; text-decoration-color: #008080; font-weight: bold\">1299</span>      <span style=\"color: #008080; text-decoration-color: #008080; font-weight: bold\">0.92</span>%  down    <span style=\"color: #008080; text-decoration-color: #008080; font-weight: bold\">1.13</span>%\n",
       "<span style=\"color: #008080; text-decoration-color: #008080; font-weight: bold\">1</span>   <span style=\"font-weight: bold\">[</span>Grouped<span style=\"font-weight: bold\">]</span> Seasonal Coronavirus                <span style=\"color: #008080; text-decoration-color: #008080; font-weight: bold\">14</span>          <span style=\"color: #008080; text-decoration-color: #008080; font-weight: bold\">1326</span>      <span style=\"color: #008080; text-decoration-color: #008080; font-weight: bold\">1.06</span>%    up    <span style=\"color: #008080; text-decoration-color: #008080; font-weight: bold\">0.91</span>%\n",
       "<span style=\"color: #008080; text-decoration-color: #008080; font-weight: bold\">2</span>                         COVID-<span style=\"color: #008080; text-decoration-color: #008080; font-weight: bold\">19</span>               <span style=\"color: #008080; text-decoration-color: #008080; font-weight: bold\">261</span>          <span style=\"color: #008080; text-decoration-color: #008080; font-weight: bold\">2678</span>      <span style=\"color: #008080; text-decoration-color: #008080; font-weight: bold\">9.75</span>%  down   <span style=\"color: #008080; text-decoration-color: #008080; font-weight: bold\">13.09</span>%\n",
       "<span style=\"color: #008080; text-decoration-color: #008080; font-weight: bold\">3</span>                  Metapneumovirus                 <span style=\"color: #008080; text-decoration-color: #008080; font-weight: bold\">0</span>          <span style=\"color: #008080; text-decoration-color: #008080; font-weight: bold\">1298</span>       <span style=\"color: #008080; text-decoration-color: #008080; font-weight: bold\">0.0</span>%  same    <span style=\"color: #008080; text-decoration-color: #008080; font-weight: bold\">0.18</span>%\n",
       "<span style=\"color: #008080; text-decoration-color: #008080; font-weight: bold\">4</span>   <span style=\"font-weight: bold\">[</span>Grouped<span style=\"font-weight: bold\">]</span> Influenza A Subtypes                 <span style=\"color: #008080; text-decoration-color: #008080; font-weight: bold\">3</span>          <span style=\"color: #008080; text-decoration-color: #008080; font-weight: bold\">2424</span>      <span style=\"color: #008080; text-decoration-color: #008080; font-weight: bold\">0.12</span>%  down    <span style=\"color: #008080; text-decoration-color: #008080; font-weight: bold\">0.23</span>%\n",
       "<span style=\"color: #008080; text-decoration-color: #008080; font-weight: bold\">5</span>                      Influenza B                 <span style=\"color: #008080; text-decoration-color: #008080; font-weight: bold\">0</span>          <span style=\"color: #008080; text-decoration-color: #008080; font-weight: bold\">2424</span>       <span style=\"color: #008080; text-decoration-color: #008080; font-weight: bold\">0.0</span>%  same     <span style=\"color: #008080; text-decoration-color: #008080; font-weight: bold\">0.0</span>%\n",
       "<span style=\"color: #008080; text-decoration-color: #008080; font-weight: bold\">6</span>    <span style=\"font-weight: bold\">[</span>Grouped<span style=\"font-weight: bold\">]</span> Parainfluenza Virus                <span style=\"color: #008080; text-decoration-color: #008080; font-weight: bold\">23</span>          <span style=\"color: #008080; text-decoration-color: #008080; font-weight: bold\">1326</span>      <span style=\"color: #008080; text-decoration-color: #008080; font-weight: bold\">1.73</span>%    up    <span style=\"color: #008080; text-decoration-color: #008080; font-weight: bold\">1.34</span>%\n",
       "<span style=\"color: #008080; text-decoration-color: #008080; font-weight: bold\">7</span>           Rhinovirus/Enterovirus               <span style=\"color: #008080; text-decoration-color: #008080; font-weight: bold\">277</span>          <span style=\"color: #008080; text-decoration-color: #008080; font-weight: bold\">1298</span>     <span style=\"color: #008080; text-decoration-color: #008080; font-weight: bold\">21.34</span>%  same    <span style=\"color: #008080; text-decoration-color: #008080; font-weight: bold\">19.6</span>%\n",
       "<span style=\"color: #008080; text-decoration-color: #008080; font-weight: bold\">8</span>                              RSV                 <span style=\"color: #008080; text-decoration-color: #008080; font-weight: bold\">9</span>          <span style=\"color: #008080; text-decoration-color: #008080; font-weight: bold\">2424</span>      <span style=\"color: #008080; text-decoration-color: #008080; font-weight: bold\">0.37</span>%    up    <span style=\"color: #008080; text-decoration-color: #008080; font-weight: bold\">0.27</span>%\n",
       "<span style=\"color: #008080; text-decoration-color: #008080; font-weight: bold\">9</span>             Bordetella pertussis                 <span style=\"color: #008080; text-decoration-color: #008080; font-weight: bold\">1</span>          <span style=\"color: #008080; text-decoration-color: #008080; font-weight: bold\">1257</span>      <span style=\"color: #008080; text-decoration-color: #008080; font-weight: bold\">0.08</span>%  same    <span style=\"color: #008080; text-decoration-color: #008080; font-weight: bold\">0.18</span>%\n",
       "<span style=\"color: #008080; text-decoration-color: #008080; font-weight: bold\">10</span>        Bordetella parapertussis                 <span style=\"color: #008080; text-decoration-color: #008080; font-weight: bold\">0</span>          <span style=\"color: #008080; text-decoration-color: #008080; font-weight: bold\">1257</span>       <span style=\"color: #008080; text-decoration-color: #008080; font-weight: bold\">0.0</span>%  same     <span style=\"color: #008080; text-decoration-color: #008080; font-weight: bold\">0.0</span>%\n",
       "<span style=\"color: #008080; text-decoration-color: #008080; font-weight: bold\">11</span>            Chlamydia pneumoniae                 <span style=\"color: #008080; text-decoration-color: #008080; font-weight: bold\">0</span>          <span style=\"color: #008080; text-decoration-color: #008080; font-weight: bold\">1298</span>       <span style=\"color: #008080; text-decoration-color: #008080; font-weight: bold\">0.0</span>%  same     <span style=\"color: #008080; text-decoration-color: #008080; font-weight: bold\">0.0</span>%\n",
       "<span style=\"color: #008080; text-decoration-color: #008080; font-weight: bold\">12</span>           Mycoplasma pneumoniae                <span style=\"color: #008080; text-decoration-color: #008080; font-weight: bold\">18</span>          <span style=\"color: #008080; text-decoration-color: #008080; font-weight: bold\">1307</span>      <span style=\"color: #008080; text-decoration-color: #008080; font-weight: bold\">1.38</span>%  same    <span style=\"color: #008080; text-decoration-color: #008080; font-weight: bold\">1.49</span>%\n",
       "</pre>\n"
      ],
      "text/plain": [
       "                          Pathogen  Number Positives  Number Tests Positivity Trend \u001b[1;36m4\u001b[0m Wk Avg\n",
       "\u001b[1;36m0\u001b[0m                       Adenovirus                \u001b[1;36m12\u001b[0m          \u001b[1;36m1299\u001b[0m      \u001b[1;36m0.92\u001b[0m%  down    \u001b[1;36m1.13\u001b[0m%\n",
       "\u001b[1;36m1\u001b[0m   \u001b[1m[\u001b[0mGrouped\u001b[1m]\u001b[0m Seasonal Coronavirus                \u001b[1;36m14\u001b[0m          \u001b[1;36m1326\u001b[0m      \u001b[1;36m1.06\u001b[0m%    up    \u001b[1;36m0.91\u001b[0m%\n",
       "\u001b[1;36m2\u001b[0m                         COVID-\u001b[1;36m19\u001b[0m               \u001b[1;36m261\u001b[0m          \u001b[1;36m2678\u001b[0m      \u001b[1;36m9.75\u001b[0m%  down   \u001b[1;36m13.09\u001b[0m%\n",
       "\u001b[1;36m3\u001b[0m                  Metapneumovirus                 \u001b[1;36m0\u001b[0m          \u001b[1;36m1298\u001b[0m       \u001b[1;36m0.0\u001b[0m%  same    \u001b[1;36m0.18\u001b[0m%\n",
       "\u001b[1;36m4\u001b[0m   \u001b[1m[\u001b[0mGrouped\u001b[1m]\u001b[0m Influenza A Subtypes                 \u001b[1;36m3\u001b[0m          \u001b[1;36m2424\u001b[0m      \u001b[1;36m0.12\u001b[0m%  down    \u001b[1;36m0.23\u001b[0m%\n",
       "\u001b[1;36m5\u001b[0m                      Influenza B                 \u001b[1;36m0\u001b[0m          \u001b[1;36m2424\u001b[0m       \u001b[1;36m0.0\u001b[0m%  same     \u001b[1;36m0.0\u001b[0m%\n",
       "\u001b[1;36m6\u001b[0m    \u001b[1m[\u001b[0mGrouped\u001b[1m]\u001b[0m Parainfluenza Virus                \u001b[1;36m23\u001b[0m          \u001b[1;36m1326\u001b[0m      \u001b[1;36m1.73\u001b[0m%    up    \u001b[1;36m1.34\u001b[0m%\n",
       "\u001b[1;36m7\u001b[0m           Rhinovirus/Enterovirus               \u001b[1;36m277\u001b[0m          \u001b[1;36m1298\u001b[0m     \u001b[1;36m21.34\u001b[0m%  same    \u001b[1;36m19.6\u001b[0m%\n",
       "\u001b[1;36m8\u001b[0m                              RSV                 \u001b[1;36m9\u001b[0m          \u001b[1;36m2424\u001b[0m      \u001b[1;36m0.37\u001b[0m%    up    \u001b[1;36m0.27\u001b[0m%\n",
       "\u001b[1;36m9\u001b[0m             Bordetella pertussis                 \u001b[1;36m1\u001b[0m          \u001b[1;36m1257\u001b[0m      \u001b[1;36m0.08\u001b[0m%  same    \u001b[1;36m0.18\u001b[0m%\n",
       "\u001b[1;36m10\u001b[0m        Bordetella parapertussis                 \u001b[1;36m0\u001b[0m          \u001b[1;36m1257\u001b[0m       \u001b[1;36m0.0\u001b[0m%  same     \u001b[1;36m0.0\u001b[0m%\n",
       "\u001b[1;36m11\u001b[0m            Chlamydia pneumoniae                 \u001b[1;36m0\u001b[0m          \u001b[1;36m1298\u001b[0m       \u001b[1;36m0.0\u001b[0m%  same     \u001b[1;36m0.0\u001b[0m%\n",
       "\u001b[1;36m12\u001b[0m           Mycoplasma pneumoniae                \u001b[1;36m18\u001b[0m          \u001b[1;36m1307\u001b[0m      \u001b[1;36m1.38\u001b[0m%  same    \u001b[1;36m1.49\u001b[0m%\n"
      ]
     },
     "metadata": {},
     "output_type": "display_data"
    }
   ],
   "source": [
    "# pathogen_dataframe: pd.DataFrame = pd.read_csv(DATA_PATH / \"raw\" / \"pathogens.csv\")\n",
    "pathogen_dataframe: pd.DataFrame = pd.read_csv(\"pathogens.csv\")\n",
    "pathogen_columns = pathogen_dataframe.columns\n",
    "df = pathogen_dataframe\n",
    "rprint(pathogen_dataframe)"
   ]
  },
  {
   "cell_type": "code",
   "execution_count": 5,
   "metadata": {
    "jupyter": {
     "source_hidden": true
    },
    "slideshow": {
     "slide_type": "slide"
    }
   },
   "outputs": [],
   "source": [
    "# LLM Magic\n",
    "@marvin.fn\n",
    "def code_data_slicing(\n",
    "    subset_description: str = \"all data\", df=pathogen_dataframe\n",
    ") -> str:\n",
    "    \"\"\"\n",
    "    returns a string parsing as valid python code\\\n",
    "    which slices the dataframe `df` based on the `subset_description`,\\\n",
    "    both interpreting and implementing the informatics request.\n",
    "\n",
    "    example:\n",
    "    condition: \"bugs with increasing positivity\"\n",
    "    return_string: 'df.query(Trend == \"up\")'\n",
    "    \"\"\"\n",
    "    if subset_description == \"all data\":\n",
    "        return \"df\"\n",
    "    string_code: str = \"\"  # placeholder (logging hack)\n",
    "    return string_code\n",
    "\n",
    "\n",
    "_ = \"-\""
   ]
  },
  {
   "cell_type": "markdown",
   "metadata": {},
   "source": [
    "---"
   ]
  },
  {
   "cell_type": "code",
   "execution_count": null,
   "metadata": {},
   "outputs": [],
   "source": []
  },
  {
   "cell_type": "code",
   "execution_count": 14,
   "metadata": {},
   "outputs": [
    {
     "data": {
      "text/markdown": [
       "## query='highest percent positivity'\n",
       "\n",
       "## llm_code=\"df.loc[df['Positivity'].str.rstrip('%').astype(float).idxmax()]\"\n"
      ],
      "text/plain": [
       "<IPython.core.display.Markdown object>"
      ]
     },
     "metadata": {},
     "output_type": "display_data"
    },
    {
     "data": {
      "text/html": [
       "<pre style=\"white-space:pre;overflow-x:auto;line-height:normal;font-family:Menlo,'DejaVu Sans Mono',consolas,'Courier New',monospace\">## <span style=\"color: #808000; text-decoration-color: #808000\">query</span>=<span style=\"color: #008000; text-decoration-color: #008000\">'highest percent positivity'</span>\n",
       "\n",
       "## <span style=\"color: #808000; text-decoration-color: #808000\">llm_code</span>=<span style=\"color: #008000; text-decoration-color: #008000\">\"df.loc[df['Positivity'].str.rstrip('%').astype(float).idxmax()]\"</span>\n",
       "\n",
       "</pre>\n"
      ],
      "text/plain": [
       "## \u001b[33mquery\u001b[0m=\u001b[32m'highest percent positivity'\u001b[0m\n",
       "\n",
       "## \u001b[33mllm_code\u001b[0m=\u001b[32m\"df\u001b[0m\u001b[32m.loc\u001b[0m\u001b[32m[\u001b[0m\u001b[32mdf\u001b[0m\u001b[32m[\u001b[0m\u001b[32m'Positivity'\u001b[0m\u001b[32m]\u001b[0m\u001b[32m.str.rstrip\u001b[0m\u001b[32m(\u001b[0m\u001b[32m'%'\u001b[0m\u001b[32m)\u001b[0m\u001b[32m.astype\u001b[0m\u001b[32m(\u001b[0m\u001b[32mfloat\u001b[0m\u001b[32m)\u001b[0m\u001b[32m.idxmax\u001b[0m\u001b[32m(\u001b[0m\u001b[32m)\u001b[0m\u001b[32m]\u001b[0m\u001b[32m\"\u001b[0m\n",
       "\n"
      ]
     },
     "metadata": {},
     "output_type": "display_data"
    },
    {
     "data": {
      "text/html": [
       "<pre style=\"white-space:pre;overflow-x:auto;line-height:normal;font-family:Menlo,'DejaVu Sans Mono',consolas,'Courier New',monospace\">Pathogen            Rhinovirus/Enterovirus\n",
       "Number Positives                       <span style=\"color: #008080; text-decoration-color: #008080; font-weight: bold\">277</span>\n",
       "Number Tests                          <span style=\"color: #008080; text-decoration-color: #008080; font-weight: bold\">1298</span>\n",
       "Positivity                          <span style=\"color: #008080; text-decoration-color: #008080; font-weight: bold\">21.34</span>%\n",
       "Trend                                 same\n",
       "<span style=\"color: #008080; text-decoration-color: #008080; font-weight: bold\">4</span> Wk Avg                             <span style=\"color: #008080; text-decoration-color: #008080; font-weight: bold\">19.6</span>%\n",
       "Name: <span style=\"color: #008080; text-decoration-color: #008080; font-weight: bold\">7</span>, dtype: object\n",
       "</pre>\n"
      ],
      "text/plain": [
       "Pathogen            Rhinovirus/Enterovirus\n",
       "Number Positives                       \u001b[1;36m277\u001b[0m\n",
       "Number Tests                          \u001b[1;36m1298\u001b[0m\n",
       "Positivity                          \u001b[1;36m21.34\u001b[0m%\n",
       "Trend                                 same\n",
       "\u001b[1;36m4\u001b[0m Wk Avg                             \u001b[1;36m19.6\u001b[0m%\n",
       "Name: \u001b[1;36m7\u001b[0m, dtype: object\n"
      ]
     },
     "metadata": {},
     "output_type": "display_data"
    }
   ],
   "source": [
    "# query = \"all data\"\n",
    "# query = \"just viruses\"\n",
    "# query = \"Pathogens that are getting worse\"\n",
    "query = \"highest percent positivity\"\n",
    "\n",
    "\n",
    "#####-----------------------------------\n",
    "# # display\n",
    "df: pd.DataFrame = pathogen_dataframe.copy()\n",
    "llm_code = code_data_slicing(query, df)\n",
    "df = eval(llm_code)\n",
    "\n",
    "# print result:\n",
    "md_code = f\"\"\"## LLM-Code:\\n```python\\n{llm_code}\\n```\"\"\"\n",
    "# markdown_code = mr.Markdown( md_code)\n",
    "\n",
    "mr.Md(f\"## {query=}\\n\\n## {llm_code=}\\n\")\n",
    "\n",
    "\n",
    "rprint(f\"## {query=}\\n\\n## {llm_code=}\\n\")\n",
    "# rprint(\"```md---```\")\n",
    "rprint(df)"
   ]
  },
  {
   "cell_type": "markdown",
   "metadata": {},
   "source": [
    "\n",
    "\n",
    "\n",
    "\n",
    "\n",
    "\n",
    "\n",
    "\n"
   ]
  },
  {
   "cell_type": "code",
   "execution_count": null,
   "metadata": {},
   "outputs": [],
   "source": []
  },
  {
   "cell_type": "code",
   "execution_count": null,
   "metadata": {},
   "outputs": [],
   "source": []
  },
  {
   "cell_type": "markdown",
   "metadata": {},
   "source": [
    "---"
   ]
  },
  {
   "cell_type": "code",
   "execution_count": 7,
   "metadata": {},
   "outputs": [
    {
     "ename": "NameError",
     "evalue": "name 'stophere' is not defined",
     "output_type": "error",
     "traceback": [
      "\u001b[0;31m---------------------------------------------------------------------------\u001b[0m",
      "\u001b[0;31mNameError\u001b[0m                                 Traceback (most recent call last)",
      "Cell \u001b[0;32mIn[7], line 1\u001b[0m\n\u001b[0;32m----> 1\u001b[0m \u001b[43mstophere\u001b[49m\n",
      "\u001b[0;31mNameError\u001b[0m: name 'stophere' is not defined"
     ]
    }
   ],
   "source": [
    "stophere"
   ]
  },
  {
   "cell_type": "code",
   "execution_count": null,
   "metadata": {
    "jupyter": {
     "source_hidden": true
    }
   },
   "outputs": [
    {
     "ename": "NameError",
     "evalue": "name 'mr' is not defined",
     "output_type": "error",
     "traceback": [
      "\u001b[0;31m---------------------------------------------------------------------------\u001b[0m",
      "\u001b[0;31mNameError\u001b[0m                                 Traceback (most recent call last)",
      "Cell \u001b[0;32mIn[20], line 1\u001b[0m\n\u001b[0;32m----> 1\u001b[0m \u001b[43mmr\u001b[49m\u001b[38;5;241m.\u001b[39mMd(\u001b[38;5;124m\"\u001b[39m\u001b[38;5;124m## LLM-Assited Data Query\u001b[39m\u001b[38;5;124m\"\u001b[39m)\n\u001b[1;32m      2\u001b[0m text \u001b[38;5;241m=\u001b[39m text_data \u001b[38;5;241m=\u001b[39m mr\u001b[38;5;241m.\u001b[39mText(value\u001b[38;5;241m=\u001b[39m\u001b[38;5;124m\"\u001b[39m\u001b[38;5;124mall data\u001b[39m\u001b[38;5;124m\"\u001b[39m, label\u001b[38;5;241m=\u001b[39m\u001b[38;5;124m\"\u001b[39m\u001b[38;5;124mQuery\u001b[39m\u001b[38;5;124m\"\u001b[39m, rows\u001b[38;5;241m=\u001b[39m\u001b[38;5;241m5\u001b[39m, sanitize\u001b[38;5;241m=\u001b[39m\u001b[38;5;28;01mTrue\u001b[39;00m)\n\u001b[1;32m      3\u001b[0m ai_df: pd\u001b[38;5;241m.\u001b[39mDataFrame \u001b[38;5;241m=\u001b[39m pathogen_dataframe\u001b[38;5;241m.\u001b[39mcopy()\n",
      "\u001b[0;31mNameError\u001b[0m: name 'mr' is not defined"
     ]
    }
   ],
   "source": [
    "mr.Md(\"## LLM-Assited Data Query\")\n",
    "text = text_data = mr.Text(value=\"all data\", label=\"Query\", rows=5, sanitize=True)\n",
    "ai_df: pd.DataFrame = pathogen_dataframe.copy()\n",
    "llm_code = code_data_slicing(text_data.value, pathogen_dataframe)\n",
    "\n",
    "\n",
    "markdown_code = mr.Markdown(\n",
    "    f\"\"\"## LLM-Code:\\n```python\\n{llm_code}\\n```\"\"\",\n",
    ")\n",
    "\n",
    "ai_df = eval(llm_code)\n",
    "big_table = mr.Table(\n",
    "    # pathogen_dataframe\n",
    "    ai_df,\n",
    ")  # description=\"All pathogen data available in the dataset\")\n",
    "\n",
    "\n",
    "# ai_table = mr.Table(\n",
    "#     ai_df\n",
    "# )  # ,title=\"Sliced Pathogen Data\",description=\"LLM-Assited Data Query\")"
   ]
  },
  {
   "cell_type": "code",
   "execution_count": null,
   "metadata": {},
   "outputs": [],
   "source": [
    "# logger.info(f\"Generated code {llm_code=}\")\n",
    "# kv_logger.info_kv(\"Generated df\", ai_df, \"bug_marvin_kv\")"
   ]
  },
  {
   "cell_type": "code",
   "execution_count": null,
   "metadata": {},
   "outputs": [],
   "source": []
  },
  {
   "cell_type": "markdown",
   "metadata": {},
   "source": [
    "---"
   ]
  },
  {
   "cell_type": "code",
   "execution_count": null,
   "metadata": {},
   "outputs": [],
   "source": []
  },
  {
   "cell_type": "code",
   "execution_count": null,
   "metadata": {},
   "outputs": [],
   "source": []
  }
 ],
 "metadata": {
  "kernelspec": {
   "display_name": "Python 3 (ipykernel)",
   "language": "python",
   "name": "python3"
  },
  "language_info": {
   "codemirror_mode": {
    "name": "ipython",
    "version": 3
   },
   "file_extension": ".py",
   "mimetype": "text/x-python",
   "name": "python",
   "nbconvert_exporter": "python",
   "pygments_lexer": "ipython3",
   "version": "3.11.9"
  }
 },
 "nbformat": 4,
 "nbformat_minor": 4
}
