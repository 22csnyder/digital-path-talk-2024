{
 "cells": [
  {
   "cell_type": "raw",
   "metadata": {
    "vscode": {
     "languageId": "raw"
    }
   },
   "source": [
    "---\n",
    "title: Call Logger with AI Application\n",
    "format: html\n",
    "  code-fold: true\n",
    "  highlight-style: arrow\n",
    "jupyter: python3\n",
    "execute:\n",
    "  echo: false\n",
    "  warning: false\n",
    "  error: false\n",
    "---"
   ]
  },
  {
   "cell_type": "code",
   "execution_count": 20,
   "metadata": {},
   "outputs": [],
   "source": [
    "import os\n",
    "import sys\n",
    "import json\n",
    "import pandas as pd\n",
    "import numpy as np\n",
    "import matplotlib.pyplot as plt\n",
    "from dotenv import load_dotenv\n",
    "\n",
    "# Load environment variables\n",
    "load_dotenv()\n",
    "\n",
    "# Set up logging\n",
    "import logging\n",
    "logging.basicConfig(level=logging.INFO, format='%(asctime)s - %(levelname)s - %(message)s')\n",
    "import seaborn as sns\n",
    "# Jupyter specific settings\n",
    "%matplotlib inline\n",
    "# 'seaborn' is not a valid style. Use a built-in style or a custom style sheet.\n",
    "# You can list available styles with plt.style.available\n",
    "# For now, let's use a default style that's similar to seaborn\n",
    "plt.style.use('default')\n",
    "\n",
    "from rich import print as rprint\n",
    "from pprint import pprint\n",
    "\n",
    "\n",
    "# ai\n",
    "import marvin\n",
    "import marvin.audio\n",
    "\n",
    "from entries import *\n",
    "\n"
   ]
  },
  {
   "cell_type": "code",
   "execution_count": 16,
   "metadata": {},
   "outputs": [
    {
     "data": {
      "text/html": [
       "<pre style=\"white-space:pre;overflow-x:auto;line-height:normal;font-family:Menlo,'DejaVu Sans Mono',consolas,'Courier New',monospace\">\n",
       "    Bull Halsey - medical student on gen neuro service\n",
       "    call back\n",
       "    <span style=\"color: #008080; text-decoration-color: #008080; font-weight: bold\">831</span> <span style=\"color: #008080; text-decoration-color: #008080; font-weight: bold\">060</span> <span style=\"color: #008080; text-decoration-color: #008080; font-weight: bold\">5026</span>\n",
       "\n",
       "\n",
       "    Panel sent to Mayo\n",
       "    Does mayo still have \n",
       "\n",
       "    neuro general service\n",
       "\n",
       "    frank george marshal\n",
       "    <span style=\"color: #008080; text-decoration-color: #008080; font-weight: bold\">242317722</span>\n",
       "    serum\n",
       "\n",
       "    want to do FGQ1B antibody, serum \n",
       "    currently undergoing plasmapheresis exchange\n",
       "\n",
       "    <span style=\"color: #008080; text-decoration-color: #008080; font-weight: bold\">1</span>. do we have serum\n",
       "    <span style=\"color: #008080; text-decoration-color: #008080; font-weight: bold\">2</span>. does mayo have serum\n",
       "\n",
       "    \n",
       "</pre>\n"
      ],
      "text/plain": [
       "\n",
       "    Bull Halsey - medical student on gen neuro service\n",
       "    call back\n",
       "    \u001b[1;36m831\u001b[0m \u001b[1;36m060\u001b[0m \u001b[1;36m5026\u001b[0m\n",
       "\n",
       "\n",
       "    Panel sent to Mayo\n",
       "    Does mayo still have \n",
       "\n",
       "    neuro general service\n",
       "\n",
       "    frank george marshal\n",
       "    \u001b[1;36m242317722\u001b[0m\n",
       "    serum\n",
       "\n",
       "    want to do FGQ1B antibody, serum \n",
       "    currently undergoing plasmapheresis exchange\n",
       "\n",
       "    \u001b[1;36m1\u001b[0m. do we have serum\n",
       "    \u001b[1;36m2\u001b[0m. does mayo have serum\n",
       "\n",
       "    \n"
      ]
     },
     "metadata": {},
     "output_type": "display_data"
    }
   ],
   "source": [
    "call_script = \"\"\"\\\n",
    "\n",
    "    Bull Halsey - medical student on gen neuro service\n",
    "    call back\n",
    "    831 060 5026\n",
    "\n",
    "\n",
    "    Panel sent to Mayo\n",
    "    Does mayo still have \n",
    "\n",
    "    neuro general service\n",
    "\n",
    "    frank george marshal\n",
    "    242317722\n",
    "    serum\n",
    "\n",
    "    want to do FGQ1B antibody, serum \n",
    "    currently undergoing plasmapheresis exchange\n",
    "\n",
    "    1. do we have serum\n",
    "    2. does mayo have serum\n",
    "\n",
    "    \"\"\"\n",
    "\n",
    "rprint(call_script)"
   ]
  },
  {
   "cell_type": "code",
   "execution_count": 4,
   "metadata": {},
   "outputs": [
    {
     "data": {
      "text/html": [
       "<pre style=\"white-space:pre;overflow-x:auto;line-height:normal;font-family:Menlo,'DejaVu Sans Mono',consolas,'Courier New',monospace\"><span style=\"color: #7fbfbf; text-decoration-color: #7fbfbf\">[09/30/24 21:16:40] </span><span style=\"color: #000080; text-decoration-color: #000080\">INFO    </span> marvin.audio: Recording<span style=\"color: #808000; text-decoration-color: #808000\">...</span>                                                <a href=\"file:///Users/christophersnyder/opt/anaconda3/envs/digi-path/lib/python3.11/site-packages/marvin/audio.py\" target=\"_blank\"><span style=\"color: #7f7f7f; text-decoration-color: #7f7f7f\">audio.py</span></a><span style=\"color: #7f7f7f; text-decoration-color: #7f7f7f\">:</span><a href=\"file:///Users/christophersnyder/opt/anaconda3/envs/digi-path/lib/python3.11/site-packages/marvin/audio.py#153\" target=\"_blank\"><span style=\"color: #7f7f7f; text-decoration-color: #7f7f7f\">153</span></a>\n",
       "</pre>\n"
      ],
      "text/plain": [
       "\u001b[2;36m[09/30/24 21:16:40]\u001b[0m\u001b[2;36m \u001b[0m\u001b[34mINFO    \u001b[0m marvin.audio: Recording\u001b[33m...\u001b[0m                                                \u001b]8;id=329856;file:///Users/christophersnyder/opt/anaconda3/envs/digi-path/lib/python3.11/site-packages/marvin/audio.py\u001b\\\u001b[2maudio.py\u001b[0m\u001b]8;;\u001b\\\u001b[2m:\u001b[0m\u001b]8;id=975575;file:///Users/christophersnyder/opt/anaconda3/envs/digi-path/lib/python3.11/site-packages/marvin/audio.py#153\u001b\\\u001b[2m153\u001b[0m\u001b]8;;\u001b\\\n"
      ]
     },
     "metadata": {},
     "output_type": "display_data"
    },
    {
     "data": {
      "text/html": [
       "<pre style=\"white-space:pre;overflow-x:auto;line-height:normal;font-family:Menlo,'DejaVu Sans Mono',consolas,'Courier New',monospace\"><span style=\"color: #7fbfbf; text-decoration-color: #7fbfbf\">[09/30/24 21:17:45] </span><span style=\"color: #000080; text-decoration-color: #000080\">INFO    </span> marvin.audio: Recording finished.                                         <a href=\"file:///Users/christophersnyder/opt/anaconda3/envs/digi-path/lib/python3.11/site-packages/marvin/audio.py\" target=\"_blank\"><span style=\"color: #7f7f7f; text-decoration-color: #7f7f7f\">audio.py</span></a><span style=\"color: #7f7f7f; text-decoration-color: #7f7f7f\">:</span><a href=\"file:///Users/christophersnyder/opt/anaconda3/envs/digi-path/lib/python3.11/site-packages/marvin/audio.py#155\" target=\"_blank\"><span style=\"color: #7f7f7f; text-decoration-color: #7f7f7f\">155</span></a>\n",
       "</pre>\n"
      ],
      "text/plain": [
       "\u001b[2;36m[09/30/24 21:17:45]\u001b[0m\u001b[2;36m \u001b[0m\u001b[34mINFO    \u001b[0m marvin.audio: Recording finished.                                         \u001b]8;id=438144;file:///Users/christophersnyder/opt/anaconda3/envs/digi-path/lib/python3.11/site-packages/marvin/audio.py\u001b\\\u001b[2maudio.py\u001b[0m\u001b]8;;\u001b\\\u001b[2m:\u001b[0m\u001b]8;id=292808;file:///Users/christophersnyder/opt/anaconda3/envs/digi-path/lib/python3.11/site-packages/marvin/audio.py#155\u001b\\\u001b[2m155\u001b[0m\u001b]8;;\u001b\\\n"
      ]
     },
     "metadata": {},
     "output_type": "display_data"
    }
   ],
   "source": [
    "raise Exception(\"dont run this block\")  # record the user\n",
    "\n",
    "\n",
    "user_audio = marvin.audio.record_phrase(after_phrase_silence=8)  # Record for 15 seconds\n",
    "user_audio.save(\"call_audio_copy.wav\")"
   ]
  },
  {
   "cell_type": "code",
   "execution_count": 22,
   "metadata": {},
   "outputs": [
    {
     "name": "stderr",
     "output_type": "stream",
     "text": [
      "2024-09-30 21:46:52,670 - INFO - HTTP Request: POST https://api.openai.com/v1/audio/transcriptions \"HTTP/1.1 200 OK\"\n"
     ]
    }
   ],
   "source": [
    "call_audio = marvin.audio.Audio.from_path(\"call_audio.wav\")\n",
    "\n",
    "# call_audio.play()  # .play()\n",
    "# transcribe the text\n",
    "call_text = marvin.transcribe(call_audio)"
   ]
  },
  {
   "cell_type": "code",
   "execution_count": 23,
   "metadata": {},
   "outputs": [
    {
     "data": {
      "text/html": [
       "<pre style=\"white-space:pre;overflow-x:auto;line-height:normal;font-family:Menlo,'DejaVu Sans Mono',consolas,'Courier New',monospace\">Hey this is Bill Halsey, I'm a medical student on the General Neuroservice. I'm calling about a patient Frank \n",
       "George Marshall, MRN <span style=\"color: #008080; text-decoration-color: #008080; font-weight: bold\">242317722</span>, date of birth March 1st <span style=\"color: #008080; text-decoration-color: #008080; font-weight: bold\">1977</span>. This patient had a serum sample sent to Mayo three \n",
       "days ago and since then has had plasmapheresis and we'd like to test the FGQ1B antibody on serum. That's the test \n",
       "we want to do but again we're having trouble because we did plasmapheresis and now we can't detect the antibody so \n",
       "we're looking for an old sample. So we're wondering if either we in the lab at BGH have a sample or at Mayo they \n",
       "have a sample we could add on or send to Mayo to get the FGQ1B antibody. Thanks.\n",
       "</pre>\n"
      ],
      "text/plain": [
       "Hey this is Bill Halsey, I'm a medical student on the General Neuroservice. I'm calling about a patient Frank \n",
       "George Marshall, MRN \u001b[1;36m242317722\u001b[0m, date of birth March 1st \u001b[1;36m1977\u001b[0m. This patient had a serum sample sent to Mayo three \n",
       "days ago and since then has had plasmapheresis and we'd like to test the FGQ1B antibody on serum. That's the test \n",
       "we want to do but again we're having trouble because we did plasmapheresis and now we can't detect the antibody so \n",
       "we're looking for an old sample. So we're wondering if either we in the lab at BGH have a sample or at Mayo they \n",
       "have a sample we could add on or send to Mayo to get the FGQ1B antibody. Thanks.\n"
      ]
     },
     "metadata": {},
     "output_type": "display_data"
    }
   ],
   "source": [
    "# Transcribed audio\n",
    "# | echo: true\n",
    "rprint(call_text)"
   ]
  },
  {
   "cell_type": "markdown",
   "metadata": {},
   "source": [
    "---"
   ]
  },
  {
   "cell_type": "markdown",
   "metadata": {},
   "source": [
    "# | ![](../src/ai_logger/ss_service-literal.png){width=450px} ![t](<../src/ai_logger/Screenshot 2024-09-30 at 21.42.28.png>){width=450px}  ![](<../src/ai_logger/Screenshot 2024-09-30 at 21.46.07.png>){width=450px}\n"
   ]
  },
  {
   "cell_type": "markdown",
   "metadata": {},
   "source": [
    "----"
   ]
  },
  {
   "cell_type": "markdown",
   "metadata": {},
   "source": [
    "## Extract Patient Info"
   ]
  },
  {
   "cell_type": "code",
   "execution_count": 64,
   "metadata": {},
   "outputs": [
    {
     "name": "stderr",
     "output_type": "stream",
     "text": [
      "2024-09-30 22:19:16,803 - INFO - HTTP Request: POST https://api.openai.com/v1/chat/completions \"HTTP/1.1 200 OK\"\n"
     ]
    },
    {
     "data": {
      "text/html": [
       "<pre style=\"white-space:pre;overflow-x:auto;line-height:normal;font-family:Menlo,'DejaVu Sans Mono',consolas,'Courier New',monospace\">Hey this is Bill Halsey, I'm a medical student on the General Neuroservice. I'm calling about a patient Frank \n",
       "George Marshall, MRN <span style=\"color: #008080; text-decoration-color: #008080; font-weight: bold\">242317722</span>, date of birth March 1st <span style=\"color: #008080; text-decoration-color: #008080; font-weight: bold\">1977</span>. This patient had a serum sample sent to Mayo three \n",
       "days ago and since then has had plasmapheresis and we'd like to test the FGQ1B antibody on serum. That's the test \n",
       "we want to do but again we're having trouble because we did plasmapheresis and now we can't detect the antibody so \n",
       "we're looking for an old sample. So we're wondering if either we in the lab at BGH have a sample or at Mayo they \n",
       "have a sample we could add on or send to Mayo to get the FGQ1B antibody. Thanks.\n",
       "</pre>\n"
      ],
      "text/plain": [
       "Hey this is Bill Halsey, I'm a medical student on the General Neuroservice. I'm calling about a patient Frank \n",
       "George Marshall, MRN \u001b[1;36m242317722\u001b[0m, date of birth March 1st \u001b[1;36m1977\u001b[0m. This patient had a serum sample sent to Mayo three \n",
       "days ago and since then has had plasmapheresis and we'd like to test the FGQ1B antibody on serum. That's the test \n",
       "we want to do but again we're having trouble because we did plasmapheresis and now we can't detect the antibody so \n",
       "we're looking for an old sample. So we're wondering if either we in the lab at BGH have a sample or at Mayo they \n",
       "have a sample we could add on or send to Mayo to get the FGQ1B antibody. Thanks.\n"
      ]
     },
     "metadata": {},
     "output_type": "display_data"
    },
    {
     "data": {
      "text/html": [
       "<pre style=\"white-space:pre;overflow-x:auto;line-height:normal;font-family:Menlo,'DejaVu Sans Mono',consolas,'Courier New',monospace\"><span style=\"font-weight: bold\">[</span>\n",
       "    <span style=\"color: #800080; text-decoration-color: #800080; font-weight: bold\">Patient</span><span style=\"font-weight: bold\">(</span>\n",
       "        <span style=\"color: #808000; text-decoration-color: #808000\">last_name</span>=<span style=\"color: #008000; text-decoration-color: #008000\">'marshall'</span>,\n",
       "        <span style=\"color: #808000; text-decoration-color: #808000\">first_name</span>=<span style=\"color: #008000; text-decoration-color: #008000\">'frank george'</span>,\n",
       "        <span style=\"color: #808000; text-decoration-color: #808000\">dob</span>=<span style=\"color: #800080; text-decoration-color: #800080; font-weight: bold\">datetime</span><span style=\"color: #800080; text-decoration-color: #800080; font-weight: bold\">.datetime</span><span style=\"font-weight: bold\">(</span><span style=\"color: #008080; text-decoration-color: #008080; font-weight: bold\">1977</span>, <span style=\"color: #008080; text-decoration-color: #008080; font-weight: bold\">3</span>, <span style=\"color: #008080; text-decoration-color: #008080; font-weight: bold\">1</span>, <span style=\"color: #008080; text-decoration-color: #008080; font-weight: bold\">0</span>, <span style=\"color: #008080; text-decoration-color: #008080; font-weight: bold\">0</span>, <span style=\"color: #808000; text-decoration-color: #808000\">tzinfo</span>=<span style=\"color: #800080; text-decoration-color: #800080; font-weight: bold\">TzInfo</span><span style=\"font-weight: bold\">(</span>UTC<span style=\"font-weight: bold\">))</span>,\n",
       "        <span style=\"color: #808000; text-decoration-color: #808000\">mrn</span>=<span style=\"color: #008080; text-decoration-color: #008080; font-weight: bold\">242317722</span>,\n",
       "        <span style=\"color: #808000; text-decoration-color: #808000\">sex</span>=<span style=\"color: #800080; text-decoration-color: #800080; font-style: italic\">None</span>,\n",
       "        <span style=\"color: #808000; text-decoration-color: #808000\">age</span>=<span style=\"color: #800080; text-decoration-color: #800080; font-style: italic\">None</span>\n",
       "    <span style=\"font-weight: bold\">)</span>\n",
       "<span style=\"font-weight: bold\">]</span>\n",
       "</pre>\n"
      ],
      "text/plain": [
       "\u001b[1m[\u001b[0m\n",
       "    \u001b[1;35mPatient\u001b[0m\u001b[1m(\u001b[0m\n",
       "        \u001b[33mlast_name\u001b[0m=\u001b[32m'marshall'\u001b[0m,\n",
       "        \u001b[33mfirst_name\u001b[0m=\u001b[32m'frank george'\u001b[0m,\n",
       "        \u001b[33mdob\u001b[0m=\u001b[1;35mdatetime\u001b[0m\u001b[1;35m.datetime\u001b[0m\u001b[1m(\u001b[0m\u001b[1;36m1977\u001b[0m, \u001b[1;36m3\u001b[0m, \u001b[1;36m1\u001b[0m, \u001b[1;36m0\u001b[0m, \u001b[1;36m0\u001b[0m, \u001b[33mtzinfo\u001b[0m=\u001b[1;35mTzInfo\u001b[0m\u001b[1m(\u001b[0mUTC\u001b[1m)\u001b[0m\u001b[1m)\u001b[0m,\n",
       "        \u001b[33mmrn\u001b[0m=\u001b[1;36m242317722\u001b[0m,\n",
       "        \u001b[33msex\u001b[0m=\u001b[3;35mNone\u001b[0m,\n",
       "        \u001b[33mage\u001b[0m=\u001b[3;35mNone\u001b[0m\n",
       "    \u001b[1m)\u001b[0m\n",
       "\u001b[1m]\u001b[0m\n"
      ]
     },
     "metadata": {},
     "output_type": "display_data"
    }
   ],
   "source": [
    "patinfo = marvin.extract(\n",
    "    call_text, target=Patient, instructions=\"get the patient information\"\n",
    ")\n",
    "rprint(call_text)\n",
    "rprint(patinfo)"
   ]
  },
  {
   "cell_type": "markdown",
   "metadata": {},
   "source": [
    "## Extract Caller Info"
   ]
  },
  {
   "cell_type": "code",
   "execution_count": 65,
   "metadata": {},
   "outputs": [
    {
     "name": "stderr",
     "output_type": "stream",
     "text": [
      "2024-09-30 22:20:47,955 - INFO - HTTP Request: POST https://api.openai.com/v1/chat/completions \"HTTP/1.1 200 OK\"\n"
     ]
    },
    {
     "data": {
      "text/html": [
       "<pre style=\"white-space:pre;overflow-x:auto;line-height:normal;font-family:Menlo,'DejaVu Sans Mono',consolas,'Courier New',monospace\">Hey this is Bill Halsey, I'm a medical student on the General Neuroservice. I'm calling about a patient Frank \n",
       "George Marshall, MRN <span style=\"color: #008080; text-decoration-color: #008080; font-weight: bold\">242317722</span>, date of birth March 1st <span style=\"color: #008080; text-decoration-color: #008080; font-weight: bold\">1977</span>. This patient had a serum sample sent to Mayo three \n",
       "days ago and since then has had plasmapheresis and we'd like to test the FGQ1B antibody on serum. That's the test \n",
       "we want to do but again we're having trouble because we did plasmapheresis and now we can't detect the antibody so \n",
       "we're looking for an old sample. So we're wondering if either we in the lab at BGH have a sample or at Mayo they \n",
       "have a sample we could add on or send to Mayo to get the FGQ1B antibody. Thanks.\n",
       "</pre>\n"
      ],
      "text/plain": [
       "Hey this is Bill Halsey, I'm a medical student on the General Neuroservice. I'm calling about a patient Frank \n",
       "George Marshall, MRN \u001b[1;36m242317722\u001b[0m, date of birth March 1st \u001b[1;36m1977\u001b[0m. This patient had a serum sample sent to Mayo three \n",
       "days ago and since then has had plasmapheresis and we'd like to test the FGQ1B antibody on serum. That's the test \n",
       "we want to do but again we're having trouble because we did plasmapheresis and now we can't detect the antibody so \n",
       "we're looking for an old sample. So we're wondering if either we in the lab at BGH have a sample or at Mayo they \n",
       "have a sample we could add on or send to Mayo to get the FGQ1B antibody. Thanks.\n"
      ]
     },
     "metadata": {},
     "output_type": "display_data"
    },
    {
     "data": {
      "text/html": [
       "<pre style=\"white-space:pre;overflow-x:auto;line-height:normal;font-family:Menlo,'DejaVu Sans Mono',consolas,'Courier New',monospace\"><span style=\"font-weight: bold\">[</span>\n",
       "    <span style=\"color: #800080; text-decoration-color: #800080; font-weight: bold\">Caller</span><span style=\"font-weight: bold\">(</span>\n",
       "        <span style=\"color: #808000; text-decoration-color: #808000\">last_name</span>=<span style=\"color: #008000; text-decoration-color: #008000\">'halsey'</span>,\n",
       "        <span style=\"color: #808000; text-decoration-color: #808000\">first_name</span>=<span style=\"color: #008000; text-decoration-color: #008000\">'bill'</span>,\n",
       "        <span style=\"color: #808000; text-decoration-color: #808000\">callback_number</span>=<span style=\"color: #008000; text-decoration-color: #008000\">''</span>,\n",
       "        <span style=\"color: #808000; text-decoration-color: #808000\">clinical_service</span>=<span style=\"color: #008000; text-decoration-color: #008000\">'Neurology'</span>,\n",
       "        <span style=\"color: #808000; text-decoration-color: #808000\">attending_doctor</span>=<span style=\"color: #800080; text-decoration-color: #800080; font-style: italic\">None</span>,\n",
       "        <span style=\"color: #808000; text-decoration-color: #808000\">caller_details</span>=<span style=\"color: #008000; text-decoration-color: #008000\">'medical student on the general neuroservice'</span>\n",
       "    <span style=\"font-weight: bold\">)</span>\n",
       "<span style=\"font-weight: bold\">]</span>\n",
       "</pre>\n"
      ],
      "text/plain": [
       "\u001b[1m[\u001b[0m\n",
       "    \u001b[1;35mCaller\u001b[0m\u001b[1m(\u001b[0m\n",
       "        \u001b[33mlast_name\u001b[0m=\u001b[32m'halsey'\u001b[0m,\n",
       "        \u001b[33mfirst_name\u001b[0m=\u001b[32m'bill'\u001b[0m,\n",
       "        \u001b[33mcallback_number\u001b[0m=\u001b[32m''\u001b[0m,\n",
       "        \u001b[33mclinical_service\u001b[0m=\u001b[32m'Neurology'\u001b[0m,\n",
       "        \u001b[33mattending_doctor\u001b[0m=\u001b[3;35mNone\u001b[0m,\n",
       "        \u001b[33mcaller_details\u001b[0m=\u001b[32m'medical student on the general neuroservice'\u001b[0m\n",
       "    \u001b[1m)\u001b[0m\n",
       "\u001b[1m]\u001b[0m\n"
      ]
     },
     "metadata": {},
     "output_type": "display_data"
    }
   ],
   "source": [
    "callerinfo = marvin.extract(\n",
    "    call_text, target=Caller, instructions=\"get the caller's information\"\n",
    ")\n",
    "rprint(call_text)\n",
    "rprint(callerinfo)"
   ]
  },
  {
   "cell_type": "markdown",
   "metadata": {},
   "source": [
    "## DataBase Integrity Checks"
   ]
  },
  {
   "cell_type": "code",
   "execution_count": 42,
   "metadata": {},
   "outputs": [
    {
     "name": "stderr",
     "output_type": "stream",
     "text": [
      "2024-09-30 22:00:34,250 - INFO - HTTP Request: POST https://api.openai.com/v1/chat/completions \"HTTP/1.1 200 OK\"\n"
     ]
    },
    {
     "data": {
      "text/plain": [
       "'a real call'"
      ]
     },
     "execution_count": 42,
     "metadata": {},
     "output_type": "execute_result"
    }
   ],
   "source": [
    "marvin.classify(call_text, labels=[\"a real call\", \"an audio test\"])"
   ]
  },
  {
   "cell_type": "code",
   "execution_count": 45,
   "metadata": {},
   "outputs": [
    {
     "name": "stderr",
     "output_type": "stream",
     "text": [
      "2024-09-30 22:02:15,769 - INFO - HTTP Request: POST https://api.openai.com/v1/chat/completions \"HTTP/1.1 200 OK\"\n"
     ]
    },
    {
     "data": {
      "text/plain": [
       "'an audio test'"
      ]
     },
     "execution_count": 45,
     "metadata": {},
     "output_type": "execute_result"
    }
   ],
   "source": [
    "marvin.classify(\"this is a \", labels=[\"a real call\", \"an audio test\"])"
   ]
  },
  {
   "cell_type": "markdown",
   "metadata": {},
   "source": [
    "## Summarizing Text"
   ]
  },
  {
   "cell_type": "code",
   "execution_count": 67,
   "metadata": {},
   "outputs": [
    {
     "name": "stderr",
     "output_type": "stream",
     "text": [
      "2024-09-30 22:22:23,956 - INFO - HTTP Request: POST https://api.openai.com/v1/chat/completions \"HTTP/1.1 200 OK\"\n"
     ]
    },
    {
     "data": {
      "text/html": [
       "<pre style=\"white-space:pre;overflow-x:auto;line-height:normal;font-family:Menlo,'DejaVu Sans Mono',consolas,'Courier New',monospace\">Hey this is Bill Halsey, I'm a medical student on the General Neuroservice. I'm calling about a patient Frank \n",
       "George Marshall, MRN <span style=\"color: #008080; text-decoration-color: #008080; font-weight: bold\">242317722</span>, date of birth March 1st <span style=\"color: #008080; text-decoration-color: #008080; font-weight: bold\">1977</span>. This patient had a serum sample sent to Mayo three \n",
       "days ago and since then has had plasmapheresis and we'd like to test the FGQ1B antibody on serum. That's the test \n",
       "we want to do but again we're having trouble because we did plasmapheresis and now we can't detect the antibody so \n",
       "we're looking for an old sample. So we're wondering if either we in the lab at BGH have a sample or at Mayo they \n",
       "have a sample we could add on or send to Mayo to get the FGQ1B antibody. Thanks.\n",
       "</pre>\n"
      ],
      "text/plain": [
       "Hey this is Bill Halsey, I'm a medical student on the General Neuroservice. I'm calling about a patient Frank \n",
       "George Marshall, MRN \u001b[1;36m242317722\u001b[0m, date of birth March 1st \u001b[1;36m1977\u001b[0m. This patient had a serum sample sent to Mayo three \n",
       "days ago and since then has had plasmapheresis and we'd like to test the FGQ1B antibody on serum. That's the test \n",
       "we want to do but again we're having trouble because we did plasmapheresis and now we can't detect the antibody so \n",
       "we're looking for an old sample. So we're wondering if either we in the lab at BGH have a sample or at Mayo they \n",
       "have a sample we could add on or send to Mayo to get the FGQ1B antibody. Thanks.\n"
      ]
     },
     "metadata": {},
     "output_type": "display_data"
    },
    {
     "data": {
      "text/html": [
       "<pre style=\"white-space:pre;overflow-x:auto;line-height:normal;font-family:Menlo,'DejaVu Sans Mono',consolas,'Courier New',monospace\">Need old serum sample for FGQ1B antibody test.\n",
       "</pre>\n"
      ],
      "text/plain": [
       "Need old serum sample for FGQ1B antibody test.\n"
      ]
     },
     "metadata": {},
     "output_type": "display_data"
    }
   ],
   "source": [
    "summary_text = marvin.cast(\n",
    "    call_text, instructions=\"summarize briefly in 10 words or less\"\n",
    ")\n",
    "rprint(call_text)\n",
    "rprint(summary_text)"
   ]
  },
  {
   "cell_type": "markdown",
   "metadata": {},
   "source": [
    "## Finally, Extract all Call Data \n"
   ]
  },
  {
   "cell_type": "code",
   "execution_count": 69,
   "metadata": {},
   "outputs": [
    {
     "name": "stderr",
     "output_type": "stream",
     "text": [
      "2024-09-30 22:23:59,196 - INFO - HTTP Request: POST https://api.openai.com/v1/chat/completions \"HTTP/1.1 200 OK\"\n"
     ]
    },
    {
     "data": {
      "text/html": [
       "<pre style=\"white-space:pre;overflow-x:auto;line-height:normal;font-family:Menlo,'DejaVu Sans Mono',consolas,'Courier New',monospace\">Hey this is Bill Halsey, I'm a medical student on the General Neuroservice. I'm calling about a patient Frank \n",
       "George Marshall, MRN <span style=\"color: #008080; text-decoration-color: #008080; font-weight: bold\">242317722</span>, date of birth March 1st <span style=\"color: #008080; text-decoration-color: #008080; font-weight: bold\">1977</span>. This patient had a serum sample sent to Mayo three \n",
       "days ago and since then has had plasmapheresis and we'd like to test the FGQ1B antibody on serum. That's the test \n",
       "we want to do but again we're having trouble because we did plasmapheresis and now we can't detect the antibody so \n",
       "we're looking for an old sample. So we're wondering if either we in the lab at BGH have a sample or at Mayo they \n",
       "have a sample we could add on or send to Mayo to get the FGQ1B antibody. Thanks.\n",
       "</pre>\n"
      ],
      "text/plain": [
       "Hey this is Bill Halsey, I'm a medical student on the General Neuroservice. I'm calling about a patient Frank \n",
       "George Marshall, MRN \u001b[1;36m242317722\u001b[0m, date of birth March 1st \u001b[1;36m1977\u001b[0m. This patient had a serum sample sent to Mayo three \n",
       "days ago and since then has had plasmapheresis and we'd like to test the FGQ1B antibody on serum. That's the test \n",
       "we want to do but again we're having trouble because we did plasmapheresis and now we can't detect the antibody so \n",
       "we're looking for an old sample. So we're wondering if either we in the lab at BGH have a sample or at Mayo they \n",
       "have a sample we could add on or send to Mayo to get the FGQ1B antibody. Thanks.\n"
      ]
     },
     "metadata": {},
     "output_type": "display_data"
    },
    {
     "data": {
      "text/html": [
       "<pre style=\"white-space:pre;overflow-x:auto;line-height:normal;font-family:Menlo,'DejaVu Sans Mono',consolas,'Courier New',monospace\"><span style=\"color: #800080; text-decoration-color: #800080; font-weight: bold\">CallEntry</span><span style=\"font-weight: bold\">(</span>\n",
       "    <span style=\"color: #808000; text-decoration-color: #808000\">service</span>=<span style=\"color: #008000; text-decoration-color: #008000\">'Chemistry'</span>,\n",
       "    <span style=\"color: #808000; text-decoration-color: #808000\">patient</span>=<span style=\"color: #800080; text-decoration-color: #800080; font-weight: bold\">Patient</span><span style=\"font-weight: bold\">(</span>\n",
       "        <span style=\"color: #808000; text-decoration-color: #808000\">last_name</span>=<span style=\"color: #008000; text-decoration-color: #008000\">'marshall'</span>,\n",
       "        <span style=\"color: #808000; text-decoration-color: #808000\">first_name</span>=<span style=\"color: #008000; text-decoration-color: #008000\">'frank george'</span>,\n",
       "        <span style=\"color: #808000; text-decoration-color: #808000\">dob</span>=<span style=\"color: #800080; text-decoration-color: #800080; font-weight: bold\">datetime</span><span style=\"color: #800080; text-decoration-color: #800080; font-weight: bold\">.datetime</span><span style=\"font-weight: bold\">(</span><span style=\"color: #008080; text-decoration-color: #008080; font-weight: bold\">1977</span>, <span style=\"color: #008080; text-decoration-color: #008080; font-weight: bold\">3</span>, <span style=\"color: #008080; text-decoration-color: #008080; font-weight: bold\">1</span>, <span style=\"color: #008080; text-decoration-color: #008080; font-weight: bold\">0</span>, <span style=\"color: #008080; text-decoration-color: #008080; font-weight: bold\">0</span>, <span style=\"color: #808000; text-decoration-color: #808000\">tzinfo</span>=<span style=\"color: #800080; text-decoration-color: #800080; font-weight: bold\">TzInfo</span><span style=\"font-weight: bold\">(</span>UTC<span style=\"font-weight: bold\">))</span>,\n",
       "        <span style=\"color: #808000; text-decoration-color: #808000\">mrn</span>=<span style=\"color: #008080; text-decoration-color: #008080; font-weight: bold\">242317722</span>,\n",
       "        <span style=\"color: #808000; text-decoration-color: #808000\">sex</span>=<span style=\"color: #800080; text-decoration-color: #800080; font-style: italic\">None</span>,\n",
       "        <span style=\"color: #808000; text-decoration-color: #808000\">age</span>=<span style=\"color: #800080; text-decoration-color: #800080; font-style: italic\">None</span>\n",
       "    <span style=\"font-weight: bold\">)</span>,\n",
       "    <span style=\"color: #808000; text-decoration-color: #808000\">caller</span>=<span style=\"color: #800080; text-decoration-color: #800080; font-weight: bold\">Caller</span><span style=\"font-weight: bold\">(</span>\n",
       "        <span style=\"color: #808000; text-decoration-color: #808000\">last_name</span>=<span style=\"color: #008000; text-decoration-color: #008000\">'halsey'</span>,\n",
       "        <span style=\"color: #808000; text-decoration-color: #808000\">first_name</span>=<span style=\"color: #008000; text-decoration-color: #008000\">'bill'</span>,\n",
       "        <span style=\"color: #808000; text-decoration-color: #808000\">callback_number</span>=<span style=\"color: #008000; text-decoration-color: #008000\">''</span>,\n",
       "        <span style=\"color: #808000; text-decoration-color: #808000\">clinical_service</span>=<span style=\"color: #008000; text-decoration-color: #008000\">'Neurology'</span>,\n",
       "        <span style=\"color: #808000; text-decoration-color: #808000\">attending_doctor</span>=<span style=\"color: #800080; text-decoration-color: #800080; font-style: italic\">None</span>,\n",
       "        <span style=\"color: #808000; text-decoration-color: #808000\">caller_details</span>=<span style=\"color: #008000; text-decoration-color: #008000\">'medical student on the general neuroservice'</span>\n",
       "    <span style=\"font-weight: bold\">)</span>,\n",
       "    <span style=\"color: #808000; text-decoration-color: #808000\">laboratory_test</span>=<span style=\"color: #008000; text-decoration-color: #008000\">'FGQ1B antibody'</span>,\n",
       "    <span style=\"color: #808000; text-decoration-color: #808000\">call_category</span>=<span style=\"color: #008000; text-decoration-color: #008000\">'Lab Problem'</span>,\n",
       "    <span style=\"color: #808000; text-decoration-color: #808000\">call_details</span>=<span style=\"color: #008000; text-decoration-color: #008000\">\"This patient had a serum sample sent to Mayo three days ago and since then has had plasmapheresis</span>\n",
       "<span style=\"color: #008000; text-decoration-color: #008000\">and we'd like to test the FGQ1B antibody on serum. We're having trouble because we did plasmapheresis and now we </span>\n",
       "<span style=\"color: #008000; text-decoration-color: #008000\">can't detect the antibody so we're looking for an old sample. We're wondering if either we in the lab at BGH have a</span>\n",
       "<span style=\"color: #008000; text-decoration-color: #008000\">sample or at Mayo they have a sample we could add on or send to Mayo to get the FGQ1B antibody.\"</span>,\n",
       "    <span style=\"color: #808000; text-decoration-color: #808000\">specimen_type</span>=<span style=\"color: #008000; text-decoration-color: #008000\">'serum'</span>,\n",
       "    <span style=\"color: #808000; text-decoration-color: #808000\">resolution</span>=<span style=\"color: #008000; text-decoration-color: #008000\">'New'</span>\n",
       "<span style=\"font-weight: bold\">)</span>\n",
       "</pre>\n"
      ],
      "text/plain": [
       "\u001b[1;35mCallEntry\u001b[0m\u001b[1m(\u001b[0m\n",
       "    \u001b[33mservice\u001b[0m=\u001b[32m'Chemistry'\u001b[0m,\n",
       "    \u001b[33mpatient\u001b[0m=\u001b[1;35mPatient\u001b[0m\u001b[1m(\u001b[0m\n",
       "        \u001b[33mlast_name\u001b[0m=\u001b[32m'marshall'\u001b[0m,\n",
       "        \u001b[33mfirst_name\u001b[0m=\u001b[32m'frank george'\u001b[0m,\n",
       "        \u001b[33mdob\u001b[0m=\u001b[1;35mdatetime\u001b[0m\u001b[1;35m.datetime\u001b[0m\u001b[1m(\u001b[0m\u001b[1;36m1977\u001b[0m, \u001b[1;36m3\u001b[0m, \u001b[1;36m1\u001b[0m, \u001b[1;36m0\u001b[0m, \u001b[1;36m0\u001b[0m, \u001b[33mtzinfo\u001b[0m=\u001b[1;35mTzInfo\u001b[0m\u001b[1m(\u001b[0mUTC\u001b[1m)\u001b[0m\u001b[1m)\u001b[0m,\n",
       "        \u001b[33mmrn\u001b[0m=\u001b[1;36m242317722\u001b[0m,\n",
       "        \u001b[33msex\u001b[0m=\u001b[3;35mNone\u001b[0m,\n",
       "        \u001b[33mage\u001b[0m=\u001b[3;35mNone\u001b[0m\n",
       "    \u001b[1m)\u001b[0m,\n",
       "    \u001b[33mcaller\u001b[0m=\u001b[1;35mCaller\u001b[0m\u001b[1m(\u001b[0m\n",
       "        \u001b[33mlast_name\u001b[0m=\u001b[32m'halsey'\u001b[0m,\n",
       "        \u001b[33mfirst_name\u001b[0m=\u001b[32m'bill'\u001b[0m,\n",
       "        \u001b[33mcallback_number\u001b[0m=\u001b[32m''\u001b[0m,\n",
       "        \u001b[33mclinical_service\u001b[0m=\u001b[32m'Neurology'\u001b[0m,\n",
       "        \u001b[33mattending_doctor\u001b[0m=\u001b[3;35mNone\u001b[0m,\n",
       "        \u001b[33mcaller_details\u001b[0m=\u001b[32m'medical student on the general neuroservice'\u001b[0m\n",
       "    \u001b[1m)\u001b[0m,\n",
       "    \u001b[33mlaboratory_test\u001b[0m=\u001b[32m'FGQ1B antibody'\u001b[0m,\n",
       "    \u001b[33mcall_category\u001b[0m=\u001b[32m'Lab Problem'\u001b[0m,\n",
       "    \u001b[33mcall_details\u001b[0m=\u001b[32m\"This\u001b[0m\u001b[32m patient had a serum sample sent to Mayo three days ago and since then has had plasmapheresis\u001b[0m\n",
       "\u001b[32mand we'd like to test the FGQ1B antibody on serum. We're having trouble because we did plasmapheresis and now we \u001b[0m\n",
       "\u001b[32mcan't detect the antibody so we're looking for an old sample. We're wondering if either we in the lab at BGH have a\u001b[0m\n",
       "\u001b[32msample or at Mayo they have a sample we could add on or send to Mayo to get the FGQ1B antibody.\"\u001b[0m,\n",
       "    \u001b[33mspecimen_type\u001b[0m=\u001b[32m'serum'\u001b[0m,\n",
       "    \u001b[33mresolution\u001b[0m=\u001b[32m'New'\u001b[0m\n",
       "\u001b[1m)\u001b[0m\n"
      ]
     },
     "metadata": {},
     "output_type": "display_data"
    }
   ],
   "source": [
    "call_entry = marvin.cast(\n",
    "    call_text,\n",
    "    target=CallEntry,\n",
    "    instructions=\"cast as much of the call text dialog as possible\",\n",
    ")\n",
    "rprint(call_text)\n",
    "rprint(call_entry)"
   ]
  },
  {
   "cell_type": "markdown",
   "metadata": {},
   "source": [
    "## Save Entry\n",
    "### append to the json file"
   ]
  },
  {
   "cell_type": "code",
   "execution_count": 59,
   "metadata": {},
   "outputs": [],
   "source": [
    "from matplotlib.font_manager import json_dump\n",
    "\n",
    "call_log_path = \"call_log.json\"\n",
    "json_entry = call_entry.model_dump_json(indent=4)\n",
    "with open(call_log_path, \"a\") as f:\n",
    "    f.write(json_entry)"
   ]
  },
  {
   "cell_type": "code",
   "execution_count": 63,
   "metadata": {},
   "outputs": [
    {
     "data": {
      "text/html": [
       "<pre style=\"white-space:pre;overflow-x:auto;line-height:normal;font-family:Menlo,'DejaVu Sans Mono',consolas,'Courier New',monospace\"><span style=\"font-weight: bold\">{</span>\n",
       "    <span style=\"color: #008000; text-decoration-color: #008000\">'service'</span>: <span style=\"color: #008000; text-decoration-color: #008000\">'Chemistry'</span>,\n",
       "    <span style=\"color: #008000; text-decoration-color: #008000\">'patient'</span>: <span style=\"font-weight: bold\">{</span>\n",
       "        <span style=\"color: #008000; text-decoration-color: #008000\">'last_name'</span>: <span style=\"color: #008000; text-decoration-color: #008000\">'marshall'</span>,\n",
       "        <span style=\"color: #008000; text-decoration-color: #008000\">'first_name'</span>: <span style=\"color: #008000; text-decoration-color: #008000\">'frank george'</span>,\n",
       "        <span style=\"color: #008000; text-decoration-color: #008000\">'dob'</span>: <span style=\"color: #008000; text-decoration-color: #008000\">'1977-03-01T00:00:00Z'</span>,\n",
       "        <span style=\"color: #008000; text-decoration-color: #008000\">'mrn'</span>: <span style=\"color: #008080; text-decoration-color: #008080; font-weight: bold\">242317722</span>,\n",
       "        <span style=\"color: #008000; text-decoration-color: #008000\">'sex'</span>: <span style=\"color: #800080; text-decoration-color: #800080; font-style: italic\">None</span>,\n",
       "        <span style=\"color: #008000; text-decoration-color: #008000\">'age'</span>: <span style=\"color: #800080; text-decoration-color: #800080; font-style: italic\">None</span>\n",
       "    <span style=\"font-weight: bold\">}</span>,\n",
       "    <span style=\"color: #008000; text-decoration-color: #008000\">'caller'</span>: <span style=\"font-weight: bold\">{</span>\n",
       "        <span style=\"color: #008000; text-decoration-color: #008000\">'last_name'</span>: <span style=\"color: #008000; text-decoration-color: #008000\">'halsey'</span>,\n",
       "        <span style=\"color: #008000; text-decoration-color: #008000\">'first_name'</span>: <span style=\"color: #008000; text-decoration-color: #008000\">'bill'</span>,\n",
       "        <span style=\"color: #008000; text-decoration-color: #008000\">'callback_number'</span>: <span style=\"color: #008000; text-decoration-color: #008000\">''</span>,\n",
       "        <span style=\"color: #008000; text-decoration-color: #008000\">'clinical_service'</span>: <span style=\"color: #008000; text-decoration-color: #008000\">'Neurology'</span>,\n",
       "        <span style=\"color: #008000; text-decoration-color: #008000\">'attending_doctor'</span>: <span style=\"color: #800080; text-decoration-color: #800080; font-style: italic\">None</span>,\n",
       "        <span style=\"color: #008000; text-decoration-color: #008000\">'caller_details'</span>: <span style=\"color: #008000; text-decoration-color: #008000\">'medical student on the general neuroservice'</span>\n",
       "    <span style=\"font-weight: bold\">}</span>,\n",
       "    <span style=\"color: #008000; text-decoration-color: #008000\">'laboratory_test'</span>: <span style=\"color: #008000; text-decoration-color: #008000\">'FGQ1B antibody'</span>,\n",
       "    <span style=\"color: #008000; text-decoration-color: #008000\">'call_category'</span>: <span style=\"color: #008000; text-decoration-color: #008000\">'Lab Problem'</span>,\n",
       "    <span style=\"color: #008000; text-decoration-color: #008000\">'call_details'</span>: <span style=\"color: #008000; text-decoration-color: #008000\">\"This patient had a serum sample sent to Mayo three days ago and since then has had </span>\n",
       "<span style=\"color: #008000; text-decoration-color: #008000\">plasmapheresis and we'd like to test the FGQ1B antibody on serum. We're having trouble because we did </span>\n",
       "<span style=\"color: #008000; text-decoration-color: #008000\">plasmapheresis and now we can't detect the antibody so we're looking for an old sample. We're wondering if either </span>\n",
       "<span style=\"color: #008000; text-decoration-color: #008000\">we in the lab at BGH have a sample or at Mayo they have a sample we could add on or send to Mayo to get the FGQ1B </span>\n",
       "<span style=\"color: #008000; text-decoration-color: #008000\">antibody.\"</span>,\n",
       "    <span style=\"color: #008000; text-decoration-color: #008000\">'specimen_type'</span>: <span style=\"color: #008000; text-decoration-color: #008000\">'serum'</span>,\n",
       "    <span style=\"color: #008000; text-decoration-color: #008000\">'resolution'</span>: <span style=\"color: #008000; text-decoration-color: #008000\">'New'</span>\n",
       "<span style=\"font-weight: bold\">}</span>\n",
       "</pre>\n"
      ],
      "text/plain": [
       "\u001b[1m{\u001b[0m\n",
       "    \u001b[32m'service'\u001b[0m: \u001b[32m'Chemistry'\u001b[0m,\n",
       "    \u001b[32m'patient'\u001b[0m: \u001b[1m{\u001b[0m\n",
       "        \u001b[32m'last_name'\u001b[0m: \u001b[32m'marshall'\u001b[0m,\n",
       "        \u001b[32m'first_name'\u001b[0m: \u001b[32m'frank george'\u001b[0m,\n",
       "        \u001b[32m'dob'\u001b[0m: \u001b[32m'1977-03-01T00:00:00Z'\u001b[0m,\n",
       "        \u001b[32m'mrn'\u001b[0m: \u001b[1;36m242317722\u001b[0m,\n",
       "        \u001b[32m'sex'\u001b[0m: \u001b[3;35mNone\u001b[0m,\n",
       "        \u001b[32m'age'\u001b[0m: \u001b[3;35mNone\u001b[0m\n",
       "    \u001b[1m}\u001b[0m,\n",
       "    \u001b[32m'caller'\u001b[0m: \u001b[1m{\u001b[0m\n",
       "        \u001b[32m'last_name'\u001b[0m: \u001b[32m'halsey'\u001b[0m,\n",
       "        \u001b[32m'first_name'\u001b[0m: \u001b[32m'bill'\u001b[0m,\n",
       "        \u001b[32m'callback_number'\u001b[0m: \u001b[32m''\u001b[0m,\n",
       "        \u001b[32m'clinical_service'\u001b[0m: \u001b[32m'Neurology'\u001b[0m,\n",
       "        \u001b[32m'attending_doctor'\u001b[0m: \u001b[3;35mNone\u001b[0m,\n",
       "        \u001b[32m'caller_details'\u001b[0m: \u001b[32m'medical student on the general neuroservice'\u001b[0m\n",
       "    \u001b[1m}\u001b[0m,\n",
       "    \u001b[32m'laboratory_test'\u001b[0m: \u001b[32m'FGQ1B antibody'\u001b[0m,\n",
       "    \u001b[32m'call_category'\u001b[0m: \u001b[32m'Lab Problem'\u001b[0m,\n",
       "    \u001b[32m'call_details'\u001b[0m: \u001b[32m\"This patient had a serum sample sent to Mayo three days ago and since then has had \u001b[0m\n",
       "\u001b[32mplasmapheresis and we'd like to test the FGQ1B antibody on serum. We're having trouble because we did \u001b[0m\n",
       "\u001b[32mplasmapheresis and now we can't detect the antibody so we're looking for an old sample. We're wondering if either \u001b[0m\n",
       "\u001b[32mwe in the lab at BGH have a sample or at Mayo they have a sample we could add on or send to Mayo to get the FGQ1B \u001b[0m\n",
       "\u001b[32mantibody.\"\u001b[0m,\n",
       "    \u001b[32m'specimen_type'\u001b[0m: \u001b[32m'serum'\u001b[0m,\n",
       "    \u001b[32m'resolution'\u001b[0m: \u001b[32m'New'\u001b[0m\n",
       "\u001b[1m}\u001b[0m\n"
      ]
     },
     "metadata": {},
     "output_type": "display_data"
    }
   ],
   "source": [
    "# Show scrollable JSON call_log.json\n",
    "\n",
    "\n",
    "with open(\"call_log.json\", \"r\") as f:\n",
    "    call_log_data = json.load(f)\n",
    "\n",
    "rprint(call_log_data)"
   ]
  },
  {
   "cell_type": "code",
   "execution_count": 44,
   "metadata": {},
   "outputs": [
    {
     "name": "stderr",
     "output_type": "stream",
     "text": [
      "2024-09-30 22:01:09,424 - INFO - HTTP Request: POST https://api.openai.com/v1/chat/completions \"HTTP/1.1 200 OK\"\n",
      "2024-09-30 22:01:12,091 - INFO - HTTP Request: POST https://api.openai.com/v1/audio/speech \"HTTP/1.1 200 OK\"\n"
     ]
    }
   ],
   "source": [
    "# cast the language to a more formal style\n",
    "\n",
    "\n",
    "# generate AI speech\n",
    "ai_audio = marvin.speak(ai_text)\n",
    "\n",
    "# play the result\n",
    "ai_audio.play()"
   ]
  },
  {
   "cell_type": "code",
   "execution_count": 71,
   "metadata": {},
   "outputs": [
    {
     "data": {
      "text/html": [
       "<pre style=\"white-space:pre;overflow-x:auto;line-height:normal;font-family:Menlo,'DejaVu Sans Mono',consolas,'Courier New',monospace\"><span style=\"font-weight: bold\">[</span>\n",
       "    <span style=\"color: #800080; text-decoration-color: #800080; font-weight: bold\">CallEntry</span><span style=\"font-weight: bold\">(</span>\n",
       "        <span style=\"color: #808000; text-decoration-color: #808000\">service</span>=<span style=\"color: #008000; text-decoration-color: #008000\">'Chemistry'</span>,\n",
       "        <span style=\"color: #808000; text-decoration-color: #808000\">patient</span>=<span style=\"color: #800080; text-decoration-color: #800080; font-weight: bold\">Patient</span><span style=\"font-weight: bold\">(</span>\n",
       "            <span style=\"color: #808000; text-decoration-color: #808000\">last_name</span>=<span style=\"color: #008000; text-decoration-color: #008000\">'marshall'</span>,\n",
       "            <span style=\"color: #808000; text-decoration-color: #808000\">first_name</span>=<span style=\"color: #008000; text-decoration-color: #008000\">'frank george'</span>,\n",
       "            <span style=\"color: #808000; text-decoration-color: #808000\">dob</span>=<span style=\"color: #800080; text-decoration-color: #800080; font-weight: bold\">datetime</span><span style=\"color: #800080; text-decoration-color: #800080; font-weight: bold\">.datetime</span><span style=\"font-weight: bold\">(</span><span style=\"color: #008080; text-decoration-color: #008080; font-weight: bold\">1977</span>, <span style=\"color: #008080; text-decoration-color: #008080; font-weight: bold\">3</span>, <span style=\"color: #008080; text-decoration-color: #008080; font-weight: bold\">1</span>, <span style=\"color: #008080; text-decoration-color: #008080; font-weight: bold\">0</span>, <span style=\"color: #008080; text-decoration-color: #008080; font-weight: bold\">0</span>, <span style=\"color: #808000; text-decoration-color: #808000\">tzinfo</span>=<span style=\"color: #800080; text-decoration-color: #800080; font-weight: bold\">TzInfo</span><span style=\"font-weight: bold\">(</span>UTC<span style=\"font-weight: bold\">))</span>,\n",
       "            <span style=\"color: #808000; text-decoration-color: #808000\">mrn</span>=<span style=\"color: #008080; text-decoration-color: #008080; font-weight: bold\">242317722</span>,\n",
       "            <span style=\"color: #808000; text-decoration-color: #808000\">sex</span>=<span style=\"color: #800080; text-decoration-color: #800080; font-style: italic\">None</span>,\n",
       "            <span style=\"color: #808000; text-decoration-color: #808000\">age</span>=<span style=\"color: #800080; text-decoration-color: #800080; font-style: italic\">None</span>\n",
       "        <span style=\"font-weight: bold\">)</span>,\n",
       "        <span style=\"color: #808000; text-decoration-color: #808000\">caller</span>=<span style=\"color: #800080; text-decoration-color: #800080; font-weight: bold\">Caller</span><span style=\"font-weight: bold\">(</span>\n",
       "            <span style=\"color: #808000; text-decoration-color: #808000\">last_name</span>=<span style=\"color: #008000; text-decoration-color: #008000\">'halsey'</span>,\n",
       "            <span style=\"color: #808000; text-decoration-color: #808000\">first_name</span>=<span style=\"color: #008000; text-decoration-color: #008000\">'bill'</span>,\n",
       "            <span style=\"color: #808000; text-decoration-color: #808000\">callback_number</span>=<span style=\"color: #008000; text-decoration-color: #008000\">''</span>,\n",
       "            <span style=\"color: #808000; text-decoration-color: #808000\">clinical_service</span>=<span style=\"color: #008000; text-decoration-color: #008000\">'Neurology'</span>,\n",
       "            <span style=\"color: #808000; text-decoration-color: #808000\">attending_doctor</span>=<span style=\"color: #800080; text-decoration-color: #800080; font-style: italic\">None</span>,\n",
       "            <span style=\"color: #808000; text-decoration-color: #808000\">caller_details</span>=<span style=\"color: #008000; text-decoration-color: #008000\">'medical student on the general neuroservice'</span>\n",
       "        <span style=\"font-weight: bold\">)</span>,\n",
       "        <span style=\"color: #808000; text-decoration-color: #808000\">laboratory_test</span>=<span style=\"color: #008000; text-decoration-color: #008000\">'FGQ1B antibody'</span>,\n",
       "        <span style=\"color: #808000; text-decoration-color: #808000\">call_category</span>=<span style=\"color: #008000; text-decoration-color: #008000\">'Lab Problem'</span>,\n",
       "        <span style=\"color: #808000; text-decoration-color: #808000\">call_details</span>=<span style=\"color: #008000; text-decoration-color: #008000\">\"This patient had a serum sample sent to Mayo three days ago and since then has had </span>\n",
       "<span style=\"color: #008000; text-decoration-color: #008000\">plasmapheresis and we'd like to test the FGQ1B antibody on serum. We're having trouble because we did </span>\n",
       "<span style=\"color: #008000; text-decoration-color: #008000\">plasmapheresis and now we can't detect the antibody so we're looking for an old sample. We're wondering if either </span>\n",
       "<span style=\"color: #008000; text-decoration-color: #008000\">we in the lab at BGH have a sample or at Mayo they have a sample we could add on or send to Mayo to get the FGQ1B </span>\n",
       "<span style=\"color: #008000; text-decoration-color: #008000\">antibody.\"</span>,\n",
       "        <span style=\"color: #808000; text-decoration-color: #808000\">specimen_type</span>=<span style=\"color: #008000; text-decoration-color: #008000\">'serum'</span>,\n",
       "        <span style=\"color: #808000; text-decoration-color: #808000\">resolution</span>=<span style=\"color: #008000; text-decoration-color: #008000\">'New'</span>\n",
       "    <span style=\"font-weight: bold\">)</span>,\n",
       "    <span style=\"color: #800080; text-decoration-color: #800080; font-weight: bold\">CallEntry</span><span style=\"font-weight: bold\">(</span>\n",
       "        <span style=\"color: #808000; text-decoration-color: #808000\">service</span>=<span style=\"color: #008000; text-decoration-color: #008000\">'Chemistry'</span>,\n",
       "        <span style=\"color: #808000; text-decoration-color: #808000\">patient</span>=<span style=\"color: #800080; text-decoration-color: #800080; font-weight: bold\">Patient</span><span style=\"font-weight: bold\">(</span>\n",
       "            <span style=\"color: #808000; text-decoration-color: #808000\">last_name</span>=<span style=\"color: #008000; text-decoration-color: #008000\">'marshall'</span>,\n",
       "            <span style=\"color: #808000; text-decoration-color: #808000\">first_name</span>=<span style=\"color: #008000; text-decoration-color: #008000\">'frank george'</span>,\n",
       "            <span style=\"color: #808000; text-decoration-color: #808000\">dob</span>=<span style=\"color: #800080; text-decoration-color: #800080; font-weight: bold\">datetime</span><span style=\"color: #800080; text-decoration-color: #800080; font-weight: bold\">.datetime</span><span style=\"font-weight: bold\">(</span><span style=\"color: #008080; text-decoration-color: #008080; font-weight: bold\">1977</span>, <span style=\"color: #008080; text-decoration-color: #008080; font-weight: bold\">3</span>, <span style=\"color: #008080; text-decoration-color: #008080; font-weight: bold\">1</span>, <span style=\"color: #008080; text-decoration-color: #008080; font-weight: bold\">0</span>, <span style=\"color: #008080; text-decoration-color: #008080; font-weight: bold\">0</span>, <span style=\"color: #808000; text-decoration-color: #808000\">tzinfo</span>=<span style=\"color: #800080; text-decoration-color: #800080; font-weight: bold\">TzInfo</span><span style=\"font-weight: bold\">(</span>UTC<span style=\"font-weight: bold\">))</span>,\n",
       "            <span style=\"color: #808000; text-decoration-color: #808000\">mrn</span>=<span style=\"color: #008080; text-decoration-color: #008080; font-weight: bold\">242317722</span>,\n",
       "            <span style=\"color: #808000; text-decoration-color: #808000\">sex</span>=<span style=\"color: #800080; text-decoration-color: #800080; font-style: italic\">None</span>,\n",
       "            <span style=\"color: #808000; text-decoration-color: #808000\">age</span>=<span style=\"color: #800080; text-decoration-color: #800080; font-style: italic\">None</span>\n",
       "        <span style=\"font-weight: bold\">)</span>,\n",
       "        <span style=\"color: #808000; text-decoration-color: #808000\">caller</span>=<span style=\"color: #800080; text-decoration-color: #800080; font-weight: bold\">Caller</span><span style=\"font-weight: bold\">(</span>\n",
       "            <span style=\"color: #808000; text-decoration-color: #808000\">last_name</span>=<span style=\"color: #008000; text-decoration-color: #008000\">'halsey'</span>,\n",
       "            <span style=\"color: #808000; text-decoration-color: #808000\">first_name</span>=<span style=\"color: #008000; text-decoration-color: #008000\">'bill'</span>,\n",
       "            <span style=\"color: #808000; text-decoration-color: #808000\">callback_number</span>=<span style=\"color: #008000; text-decoration-color: #008000\">''</span>,\n",
       "            <span style=\"color: #808000; text-decoration-color: #808000\">clinical_service</span>=<span style=\"color: #008000; text-decoration-color: #008000\">'Neurology'</span>,\n",
       "            <span style=\"color: #808000; text-decoration-color: #808000\">attending_doctor</span>=<span style=\"color: #800080; text-decoration-color: #800080; font-style: italic\">None</span>,\n",
       "            <span style=\"color: #808000; text-decoration-color: #808000\">caller_details</span>=<span style=\"color: #008000; text-decoration-color: #008000\">'medical student on the general neuroservice'</span>\n",
       "        <span style=\"font-weight: bold\">)</span>,\n",
       "        <span style=\"color: #808000; text-decoration-color: #808000\">laboratory_test</span>=<span style=\"color: #008000; text-decoration-color: #008000\">'FGQ1B antibody'</span>,\n",
       "        <span style=\"color: #808000; text-decoration-color: #808000\">call_category</span>=<span style=\"color: #008000; text-decoration-color: #008000\">'Lab Problem'</span>,\n",
       "        <span style=\"color: #808000; text-decoration-color: #808000\">call_details</span>=<span style=\"color: #008000; text-decoration-color: #008000\">\"This patient had a serum sample sent to Mayo three days ago and since then has had </span>\n",
       "<span style=\"color: #008000; text-decoration-color: #008000\">plasmapheresis and we'd like to test the FGQ1B antibody on serum. We're having trouble because we did </span>\n",
       "<span style=\"color: #008000; text-decoration-color: #008000\">plasmapheresis and now we can't detect the antibody so we're looking for an old sample. We're wondering if either </span>\n",
       "<span style=\"color: #008000; text-decoration-color: #008000\">we in the lab at BGH have a sample or at Mayo they have a sample we could add on or send to Mayo to get the FGQ1B </span>\n",
       "<span style=\"color: #008000; text-decoration-color: #008000\">antibody.\"</span>,\n",
       "        <span style=\"color: #808000; text-decoration-color: #808000\">specimen_type</span>=<span style=\"color: #008000; text-decoration-color: #008000\">'serum'</span>,\n",
       "        <span style=\"color: #808000; text-decoration-color: #808000\">resolution</span>=<span style=\"color: #008000; text-decoration-color: #008000\">'New'</span>\n",
       "    <span style=\"font-weight: bold\">)</span>,\n",
       "    <span style=\"color: #800080; text-decoration-color: #800080; font-weight: bold\">CallEntry</span><span style=\"font-weight: bold\">(</span>\n",
       "        <span style=\"color: #808000; text-decoration-color: #808000\">service</span>=<span style=\"color: #008000; text-decoration-color: #008000\">'Chemistry'</span>,\n",
       "        <span style=\"color: #808000; text-decoration-color: #808000\">patient</span>=<span style=\"color: #800080; text-decoration-color: #800080; font-weight: bold\">Patient</span><span style=\"font-weight: bold\">(</span>\n",
       "            <span style=\"color: #808000; text-decoration-color: #808000\">last_name</span>=<span style=\"color: #008000; text-decoration-color: #008000\">'marshall'</span>,\n",
       "            <span style=\"color: #808000; text-decoration-color: #808000\">first_name</span>=<span style=\"color: #008000; text-decoration-color: #008000\">'frank george'</span>,\n",
       "            <span style=\"color: #808000; text-decoration-color: #808000\">dob</span>=<span style=\"color: #800080; text-decoration-color: #800080; font-weight: bold\">datetime</span><span style=\"color: #800080; text-decoration-color: #800080; font-weight: bold\">.datetime</span><span style=\"font-weight: bold\">(</span><span style=\"color: #008080; text-decoration-color: #008080; font-weight: bold\">1977</span>, <span style=\"color: #008080; text-decoration-color: #008080; font-weight: bold\">3</span>, <span style=\"color: #008080; text-decoration-color: #008080; font-weight: bold\">1</span>, <span style=\"color: #008080; text-decoration-color: #008080; font-weight: bold\">0</span>, <span style=\"color: #008080; text-decoration-color: #008080; font-weight: bold\">0</span>, <span style=\"color: #808000; text-decoration-color: #808000\">tzinfo</span>=<span style=\"color: #800080; text-decoration-color: #800080; font-weight: bold\">TzInfo</span><span style=\"font-weight: bold\">(</span>UTC<span style=\"font-weight: bold\">))</span>,\n",
       "            <span style=\"color: #808000; text-decoration-color: #808000\">mrn</span>=<span style=\"color: #008080; text-decoration-color: #008080; font-weight: bold\">242317722</span>,\n",
       "            <span style=\"color: #808000; text-decoration-color: #808000\">sex</span>=<span style=\"color: #800080; text-decoration-color: #800080; font-style: italic\">None</span>,\n",
       "            <span style=\"color: #808000; text-decoration-color: #808000\">age</span>=<span style=\"color: #800080; text-decoration-color: #800080; font-style: italic\">None</span>\n",
       "        <span style=\"font-weight: bold\">)</span>,\n",
       "        <span style=\"color: #808000; text-decoration-color: #808000\">caller</span>=<span style=\"color: #800080; text-decoration-color: #800080; font-weight: bold\">Caller</span><span style=\"font-weight: bold\">(</span>\n",
       "            <span style=\"color: #808000; text-decoration-color: #808000\">last_name</span>=<span style=\"color: #008000; text-decoration-color: #008000\">'halsey'</span>,\n",
       "            <span style=\"color: #808000; text-decoration-color: #808000\">first_name</span>=<span style=\"color: #008000; text-decoration-color: #008000\">'bill'</span>,\n",
       "            <span style=\"color: #808000; text-decoration-color: #808000\">callback_number</span>=<span style=\"color: #008000; text-decoration-color: #008000\">''</span>,\n",
       "            <span style=\"color: #808000; text-decoration-color: #808000\">clinical_service</span>=<span style=\"color: #008000; text-decoration-color: #008000\">'Neurology'</span>,\n",
       "            <span style=\"color: #808000; text-decoration-color: #808000\">attending_doctor</span>=<span style=\"color: #800080; text-decoration-color: #800080; font-style: italic\">None</span>,\n",
       "            <span style=\"color: #808000; text-decoration-color: #808000\">caller_details</span>=<span style=\"color: #008000; text-decoration-color: #008000\">'medical student on the general neuroservice'</span>\n",
       "        <span style=\"font-weight: bold\">)</span>,\n",
       "        <span style=\"color: #808000; text-decoration-color: #808000\">laboratory_test</span>=<span style=\"color: #008000; text-decoration-color: #008000\">'FGQ1B antibody'</span>,\n",
       "        <span style=\"color: #808000; text-decoration-color: #808000\">call_category</span>=<span style=\"color: #008000; text-decoration-color: #008000\">'Lab Problem'</span>,\n",
       "        <span style=\"color: #808000; text-decoration-color: #808000\">call_details</span>=<span style=\"color: #008000; text-decoration-color: #008000\">\"This patient had a serum sample sent to Mayo three days ago and since then has had </span>\n",
       "<span style=\"color: #008000; text-decoration-color: #008000\">plasmapheresis and we'd like to test the FGQ1B antibody on serum. We're having trouble because we did </span>\n",
       "<span style=\"color: #008000; text-decoration-color: #008000\">plasmapheresis and now we can't detect the antibody so we're looking for an old sample. We're wondering if either </span>\n",
       "<span style=\"color: #008000; text-decoration-color: #008000\">we in the lab at BGH have a sample or at Mayo they have a sample we could add on or send to Mayo to get the FGQ1B </span>\n",
       "<span style=\"color: #008000; text-decoration-color: #008000\">antibody.\"</span>,\n",
       "        <span style=\"color: #808000; text-decoration-color: #808000\">specimen_type</span>=<span style=\"color: #008000; text-decoration-color: #008000\">'serum'</span>,\n",
       "        <span style=\"color: #808000; text-decoration-color: #808000\">resolution</span>=<span style=\"color: #008000; text-decoration-color: #008000\">'New'</span>\n",
       "    <span style=\"font-weight: bold\">)</span>\n",
       "<span style=\"font-weight: bold\">]</span>\n",
       "</pre>\n"
      ],
      "text/plain": [
       "\u001b[1m[\u001b[0m\n",
       "    \u001b[1;35mCallEntry\u001b[0m\u001b[1m(\u001b[0m\n",
       "        \u001b[33mservice\u001b[0m=\u001b[32m'Chemistry'\u001b[0m,\n",
       "        \u001b[33mpatient\u001b[0m=\u001b[1;35mPatient\u001b[0m\u001b[1m(\u001b[0m\n",
       "            \u001b[33mlast_name\u001b[0m=\u001b[32m'marshall'\u001b[0m,\n",
       "            \u001b[33mfirst_name\u001b[0m=\u001b[32m'frank george'\u001b[0m,\n",
       "            \u001b[33mdob\u001b[0m=\u001b[1;35mdatetime\u001b[0m\u001b[1;35m.datetime\u001b[0m\u001b[1m(\u001b[0m\u001b[1;36m1977\u001b[0m, \u001b[1;36m3\u001b[0m, \u001b[1;36m1\u001b[0m, \u001b[1;36m0\u001b[0m, \u001b[1;36m0\u001b[0m, \u001b[33mtzinfo\u001b[0m=\u001b[1;35mTzInfo\u001b[0m\u001b[1m(\u001b[0mUTC\u001b[1m)\u001b[0m\u001b[1m)\u001b[0m,\n",
       "            \u001b[33mmrn\u001b[0m=\u001b[1;36m242317722\u001b[0m,\n",
       "            \u001b[33msex\u001b[0m=\u001b[3;35mNone\u001b[0m,\n",
       "            \u001b[33mage\u001b[0m=\u001b[3;35mNone\u001b[0m\n",
       "        \u001b[1m)\u001b[0m,\n",
       "        \u001b[33mcaller\u001b[0m=\u001b[1;35mCaller\u001b[0m\u001b[1m(\u001b[0m\n",
       "            \u001b[33mlast_name\u001b[0m=\u001b[32m'halsey'\u001b[0m,\n",
       "            \u001b[33mfirst_name\u001b[0m=\u001b[32m'bill'\u001b[0m,\n",
       "            \u001b[33mcallback_number\u001b[0m=\u001b[32m''\u001b[0m,\n",
       "            \u001b[33mclinical_service\u001b[0m=\u001b[32m'Neurology'\u001b[0m,\n",
       "            \u001b[33mattending_doctor\u001b[0m=\u001b[3;35mNone\u001b[0m,\n",
       "            \u001b[33mcaller_details\u001b[0m=\u001b[32m'medical student on the general neuroservice'\u001b[0m\n",
       "        \u001b[1m)\u001b[0m,\n",
       "        \u001b[33mlaboratory_test\u001b[0m=\u001b[32m'FGQ1B antibody'\u001b[0m,\n",
       "        \u001b[33mcall_category\u001b[0m=\u001b[32m'Lab Problem'\u001b[0m,\n",
       "        \u001b[33mcall_details\u001b[0m=\u001b[32m\"This\u001b[0m\u001b[32m patient had a serum sample sent to Mayo three days ago and since then has had \u001b[0m\n",
       "\u001b[32mplasmapheresis and we'd like to test the FGQ1B antibody on serum. We're having trouble because we did \u001b[0m\n",
       "\u001b[32mplasmapheresis and now we can't detect the antibody so we're looking for an old sample. We're wondering if either \u001b[0m\n",
       "\u001b[32mwe in the lab at BGH have a sample or at Mayo they have a sample we could add on or send to Mayo to get the FGQ1B \u001b[0m\n",
       "\u001b[32mantibody.\"\u001b[0m,\n",
       "        \u001b[33mspecimen_type\u001b[0m=\u001b[32m'serum'\u001b[0m,\n",
       "        \u001b[33mresolution\u001b[0m=\u001b[32m'New'\u001b[0m\n",
       "    \u001b[1m)\u001b[0m,\n",
       "    \u001b[1;35mCallEntry\u001b[0m\u001b[1m(\u001b[0m\n",
       "        \u001b[33mservice\u001b[0m=\u001b[32m'Chemistry'\u001b[0m,\n",
       "        \u001b[33mpatient\u001b[0m=\u001b[1;35mPatient\u001b[0m\u001b[1m(\u001b[0m\n",
       "            \u001b[33mlast_name\u001b[0m=\u001b[32m'marshall'\u001b[0m,\n",
       "            \u001b[33mfirst_name\u001b[0m=\u001b[32m'frank george'\u001b[0m,\n",
       "            \u001b[33mdob\u001b[0m=\u001b[1;35mdatetime\u001b[0m\u001b[1;35m.datetime\u001b[0m\u001b[1m(\u001b[0m\u001b[1;36m1977\u001b[0m, \u001b[1;36m3\u001b[0m, \u001b[1;36m1\u001b[0m, \u001b[1;36m0\u001b[0m, \u001b[1;36m0\u001b[0m, \u001b[33mtzinfo\u001b[0m=\u001b[1;35mTzInfo\u001b[0m\u001b[1m(\u001b[0mUTC\u001b[1m)\u001b[0m\u001b[1m)\u001b[0m,\n",
       "            \u001b[33mmrn\u001b[0m=\u001b[1;36m242317722\u001b[0m,\n",
       "            \u001b[33msex\u001b[0m=\u001b[3;35mNone\u001b[0m,\n",
       "            \u001b[33mage\u001b[0m=\u001b[3;35mNone\u001b[0m\n",
       "        \u001b[1m)\u001b[0m,\n",
       "        \u001b[33mcaller\u001b[0m=\u001b[1;35mCaller\u001b[0m\u001b[1m(\u001b[0m\n",
       "            \u001b[33mlast_name\u001b[0m=\u001b[32m'halsey'\u001b[0m,\n",
       "            \u001b[33mfirst_name\u001b[0m=\u001b[32m'bill'\u001b[0m,\n",
       "            \u001b[33mcallback_number\u001b[0m=\u001b[32m''\u001b[0m,\n",
       "            \u001b[33mclinical_service\u001b[0m=\u001b[32m'Neurology'\u001b[0m,\n",
       "            \u001b[33mattending_doctor\u001b[0m=\u001b[3;35mNone\u001b[0m,\n",
       "            \u001b[33mcaller_details\u001b[0m=\u001b[32m'medical student on the general neuroservice'\u001b[0m\n",
       "        \u001b[1m)\u001b[0m,\n",
       "        \u001b[33mlaboratory_test\u001b[0m=\u001b[32m'FGQ1B antibody'\u001b[0m,\n",
       "        \u001b[33mcall_category\u001b[0m=\u001b[32m'Lab Problem'\u001b[0m,\n",
       "        \u001b[33mcall_details\u001b[0m=\u001b[32m\"This\u001b[0m\u001b[32m patient had a serum sample sent to Mayo three days ago and since then has had \u001b[0m\n",
       "\u001b[32mplasmapheresis and we'd like to test the FGQ1B antibody on serum. We're having trouble because we did \u001b[0m\n",
       "\u001b[32mplasmapheresis and now we can't detect the antibody so we're looking for an old sample. We're wondering if either \u001b[0m\n",
       "\u001b[32mwe in the lab at BGH have a sample or at Mayo they have a sample we could add on or send to Mayo to get the FGQ1B \u001b[0m\n",
       "\u001b[32mantibody.\"\u001b[0m,\n",
       "        \u001b[33mspecimen_type\u001b[0m=\u001b[32m'serum'\u001b[0m,\n",
       "        \u001b[33mresolution\u001b[0m=\u001b[32m'New'\u001b[0m\n",
       "    \u001b[1m)\u001b[0m,\n",
       "    \u001b[1;35mCallEntry\u001b[0m\u001b[1m(\u001b[0m\n",
       "        \u001b[33mservice\u001b[0m=\u001b[32m'Chemistry'\u001b[0m,\n",
       "        \u001b[33mpatient\u001b[0m=\u001b[1;35mPatient\u001b[0m\u001b[1m(\u001b[0m\n",
       "            \u001b[33mlast_name\u001b[0m=\u001b[32m'marshall'\u001b[0m,\n",
       "            \u001b[33mfirst_name\u001b[0m=\u001b[32m'frank george'\u001b[0m,\n",
       "            \u001b[33mdob\u001b[0m=\u001b[1;35mdatetime\u001b[0m\u001b[1;35m.datetime\u001b[0m\u001b[1m(\u001b[0m\u001b[1;36m1977\u001b[0m, \u001b[1;36m3\u001b[0m, \u001b[1;36m1\u001b[0m, \u001b[1;36m0\u001b[0m, \u001b[1;36m0\u001b[0m, \u001b[33mtzinfo\u001b[0m=\u001b[1;35mTzInfo\u001b[0m\u001b[1m(\u001b[0mUTC\u001b[1m)\u001b[0m\u001b[1m)\u001b[0m,\n",
       "            \u001b[33mmrn\u001b[0m=\u001b[1;36m242317722\u001b[0m,\n",
       "            \u001b[33msex\u001b[0m=\u001b[3;35mNone\u001b[0m,\n",
       "            \u001b[33mage\u001b[0m=\u001b[3;35mNone\u001b[0m\n",
       "        \u001b[1m)\u001b[0m,\n",
       "        \u001b[33mcaller\u001b[0m=\u001b[1;35mCaller\u001b[0m\u001b[1m(\u001b[0m\n",
       "            \u001b[33mlast_name\u001b[0m=\u001b[32m'halsey'\u001b[0m,\n",
       "            \u001b[33mfirst_name\u001b[0m=\u001b[32m'bill'\u001b[0m,\n",
       "            \u001b[33mcallback_number\u001b[0m=\u001b[32m''\u001b[0m,\n",
       "            \u001b[33mclinical_service\u001b[0m=\u001b[32m'Neurology'\u001b[0m,\n",
       "            \u001b[33mattending_doctor\u001b[0m=\u001b[3;35mNone\u001b[0m,\n",
       "            \u001b[33mcaller_details\u001b[0m=\u001b[32m'medical student on the general neuroservice'\u001b[0m\n",
       "        \u001b[1m)\u001b[0m,\n",
       "        \u001b[33mlaboratory_test\u001b[0m=\u001b[32m'FGQ1B antibody'\u001b[0m,\n",
       "        \u001b[33mcall_category\u001b[0m=\u001b[32m'Lab Problem'\u001b[0m,\n",
       "        \u001b[33mcall_details\u001b[0m=\u001b[32m\"This\u001b[0m\u001b[32m patient had a serum sample sent to Mayo three days ago and since then has had \u001b[0m\n",
       "\u001b[32mplasmapheresis and we'd like to test the FGQ1B antibody on serum. We're having trouble because we did \u001b[0m\n",
       "\u001b[32mplasmapheresis and now we can't detect the antibody so we're looking for an old sample. We're wondering if either \u001b[0m\n",
       "\u001b[32mwe in the lab at BGH have a sample or at Mayo they have a sample we could add on or send to Mayo to get the FGQ1B \u001b[0m\n",
       "\u001b[32mantibody.\"\u001b[0m,\n",
       "        \u001b[33mspecimen_type\u001b[0m=\u001b[32m'serum'\u001b[0m,\n",
       "        \u001b[33mresolution\u001b[0m=\u001b[32m'New'\u001b[0m\n",
       "    \u001b[1m)\u001b[0m\n",
       "\u001b[1m]\u001b[0m\n"
      ]
     },
     "metadata": {},
     "output_type": "display_data"
    },
    {
     "name": "stderr",
     "output_type": "stream",
     "text": [
      "2024-09-30 22:29:05,445 - INFO - HTTP Request: POST https://api.openai.com/v1/chat/completions \"HTTP/1.1 200 OK\"\n"
     ]
    },
    {
     "name": "stdout",
     "output_type": "stream",
     "text": [
      "the ages are 138\n"
     ]
    }
   ],
   "source": [
    "call_entries = [call_entry, call_entry, call_entry]\n",
    "\n",
    "rprint(call_entries)\n",
    "\n",
    "\n",
    "@marvin.fn\n",
    "def add_patient_ages(call_entries: list[CallEntry]):\n",
    "    \"\"\"add up the ages of all the patients in the call log so far\"\"\"\n",
    "\n",
    "\n",
    "print(\"the ages are\", add_patient_ages(call_entries))"
   ]
  },
  {
   "cell_type": "markdown",
   "metadata": {},
   "source": [
    "3*47"
   ]
  },
  {
   "cell_type": "code",
   "execution_count": 75,
   "metadata": {},
   "outputs": [
    {
     "name": "stderr",
     "output_type": "stream",
     "text": [
      "2024-09-30 22:31:50,991 - INFO - HTTP Request: POST https://api.openai.com/v1/chat/completions \"HTTP/1.1 200 OK\"\n"
     ]
    },
    {
     "data": {
      "text/plain": [
       "[['halsey'], ['halsey'], ['halsey']]"
      ]
     },
     "execution_count": 75,
     "metadata": {},
     "output_type": "execute_result"
    }
   ],
   "source": [
    "marvin.extract(\n",
    "    call_entries,\n",
    "    target=list[str],\n",
    "    instructions=\"get the last names of all the callers so far\",\n",
    ")"
   ]
  },
  {
   "cell_type": "code",
   "execution_count": null,
   "metadata": {},
   "outputs": [],
   "source": [
    "# ai = marvin.Application(call_entries)"
   ]
  }
 ],
 "metadata": {
  "kernelspec": {
   "display_name": "digi-path",
   "language": "python",
   "name": "python3"
  },
  "language_info": {
   "codemirror_mode": {
    "name": "ipython",
    "version": 3
   },
   "file_extension": ".py",
   "mimetype": "text/x-python",
   "name": "python",
   "nbconvert_exporter": "python",
   "pygments_lexer": "ipython3",
   "version": "3.11.9"
  }
 },
 "nbformat": 4,
 "nbformat_minor": 2
}
