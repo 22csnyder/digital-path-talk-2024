{
 "cells": [
  {
   "cell_type": "raw",
   "metadata": {
    "vscode": {
     "languageId": "raw"
    }
   },
   "source": [
    "---\n",
    "title: \"Interactive - empowering physicians\"\n",
    "format: html\n",
    "---"
   ]
  },
  {
   "cell_type": "code",
   "execution_count": 1,
   "metadata": {},
   "outputs": [
    {
     "ename": "SyntaxError",
     "evalue": "invalid syntax (2853218782.py, line 53)",
     "output_type": "error",
     "traceback": [
      "\u001b[0;36m  Cell \u001b[0;32mIn[1], line 53\u001b[0;36m\u001b[0m\n\u001b[0;31m    input_widget.\u001b[0m\n\u001b[0m                 ^\u001b[0m\n\u001b[0;31mSyntaxError\u001b[0m\u001b[0;31m:\u001b[0m invalid syntax\n"
     ]
    }
   ],
   "source": [
    "#| echo: false\n",
    "from IPython.display import display, HTML\n",
    "import ipywidgets as widgets\n",
    "from ipywidgets.embed import embed_minimal_html\n",
    "\n",
    "from loguru import logger\n",
    "logger.add(\"logfile.log\", level=\"INFO\")\n",
    "import json\n",
    "\n",
    "input_widget = widgets.Text(description=\"Enter text:\", continuous_update=False)\n",
    "output_widget = widgets.Output(description=\"fn(input):\")\n",
    "\n",
    "\n",
    "def double_string(mystr):\n",
    "    return mystr + mystr\n",
    "\n",
    "def on_input_change(change: dict):\n",
    "  new_value = change['new']\n",
    "  logger.info(f\"{change=}\")\n",
    "  with output_widget:\n",
    "    # output_widget\n",
    "    result = double_string(change['new'])\n",
    "    print(f\"(print) Doubled string: {result}\")\n",
    "  with print_output_widget:\n",
    "    print_output_widget.clear_output()\n",
    "    print(f\"(captured print) Doubled string: {result}\")\n",
    "  return result\n",
    "\n",
    "\n",
    "\n",
    "display(HTML(\"<h3>Input:</h3>\"))\n",
    "display(input_widget)\n",
    "display(HTML(\"<h3>Output:</h3>\"))\n",
    "display(output_widget)\n",
    "display(HTML(\"<h3>Captured Print Output:</h3>\"))\n",
    "print_output_widget = widgets.Output()\n",
    "display(print_output_widget)\n",
    "\n",
    "\n",
    "def on_input_submit(sender):\n",
    "  new_value = sender.value\n",
    "  logger.info(f\"Input submitted: {new_value}\")\n",
    "  with output_widget:\n",
    "    output_widget.clear_output()\n",
    "    result = double_string(new_value)\n",
    "    print(f\"output widget::\\n Doubled string: {result}\")\n",
    "  with print_output_widget:\n",
    "    print_output_widget.clear_output()\n",
    "    print(f\"(captured print) Doubled string: {result}\")\n",
    "  return result\n",
    "\n",
    "# input_widget.on_submit(on_input_submit)\n",
    "input_widget.observe(on_input_change, names='value')\n",
    "\n",
    "\n",
    "# Embed the widgets into the HTML\n",
    "embed_minimal_html('export.html', views=[input_widget, output_widget], title=\"String Doubler\")\n",
    "display(HTML('<iframe src=\"export.html\" width=\"100%\" height=\"300px\"></iframe>'))\n"
   ]
  },
  {
   "cell_type": "code",
   "execution_count": null,
   "metadata": {},
   "outputs": [],
   "source": [
    "#| echo: false\n",
    "from IPython.display import display, HTML, IFrame\n",
    "import ipywidgets as widgets\n",
    "from ipywidgets.embed import embed_minimal_html\n",
    "\n",
    "def double_string(mystr):\n",
    "    return mystr + mystr\n",
    "\n",
    "display(HTML(\"<h3>Input:</h3>\"))\n",
    "input_widget = widgets.Text(description=\"Enter text:\", continuous_update=False)\n",
    "display(HTML(\"<h3>Output:</h3>\"))\n",
    "output_widget = widgets.Output(description=\"fn(input):\")\n",
    "\n",
    "def on_input_change(change):\n",
    "    with output_widget:\n",
    "        output_widget.clear_output()\n",
    "        result = double_string(change['new'])\n",
    "        print(f\"Doubled string: {result}\")\n",
    "\n",
    "input_widget.observe(on_input_change, names='value')\n",
    "\n",
    "# # Embed the widgets into the HTML\n",
    "# embed_minimal_html('export.html', views=[input_widget, output_widget], title=\"String Doubler\")\n",
    "\n",
    "# display(IFrame(src='export.html', width='100%', height='300px'))"
   ]
  }
 ],
 "metadata": {
  "kernelspec": {
   "display_name": "digi-path",
   "language": "python",
   "name": "python3"
  },
  "language_info": {
   "codemirror_mode": {
    "name": "ipython",
    "version": 3
   },
   "file_extension": ".py",
   "mimetype": "text/x-python",
   "name": "python",
   "nbconvert_exporter": "python",
   "pygments_lexer": "ipython3",
   "version": "3.11.9"
  }
 },
 "nbformat": 4,
 "nbformat_minor": 2
}
