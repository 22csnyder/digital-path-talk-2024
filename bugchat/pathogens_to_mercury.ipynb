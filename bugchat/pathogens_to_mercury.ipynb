{
 "cells": [
  {
   "cell_type": "markdown",
   "metadata": {},
   "source": [
    "# Data Analysis for all, quickly and cheaply\n",
    "*Seizing the means of deduction*"
   ]
  },
  {
   "cell_type": "code",
   "execution_count": 1,
   "metadata": {},
   "outputs": [
    {
     "data": {
      "application/mercury+json": {
       "allow_download": true,
       "allow_share": true,
       "code_uid": "App.0.50.110.5-rand8b8732ba",
       "continuous_update": false,
       "description": "biogram from https://diorama.wustl.edu/weekly-report",
       "full_screen": true,
       "model_id": "mercury-app",
       "notify": "{}",
       "output": "app",
       "schedule": "",
       "show_code": false,
       "show_prompt": false,
       "show_sidebar": true,
       "static_notebook": false,
       "stop_on_error": false,
       "title": "Weekly Pathogen Report: \n09/15/2024 - 09/21/2024",
       "widget": "App"
      },
      "text/html": [
       "<h3>Mercury Application</h3><small>This output won't appear in the web app.</small>"
      ],
      "text/plain": [
       "mercury.App"
      ]
     },
     "metadata": {},
     "output_type": "display_data"
    }
   ],
   "source": [
    "# from IPython.display import display, HTML, IFrame\n",
    "# import ipywidgets as widgets\n",
    "# from ipywidgets.embed import embed_minimal_html\n",
    "import mercury as mr\n",
    "app = mr.App(title=\"Weekly Pathogen Report: \\n09/15/2024 - 09/21/2024\", \n",
    "             description=\"biogram from https://diorama.wustl.edu/weekly-report\",\n",
    "             continuous_update=False,\n",
    "             )"
   ]
  },
  {
   "cell_type": "markdown",
   "metadata": {
    "slideshow": {
     "slide_type": "skip"
    }
   },
   "source": [
    "# Data Transformation as an Consequence of Instruction Translation"
   ]
  },
  {
   "cell_type": "code",
   "execution_count": 2,
   "metadata": {},
   "outputs": [],
   "source": [
    "import os, pandas as pd\n",
    "import numpy as np, pandas as pd, matplotlib.pyplot as plt, seaborn as sns\n",
    "import sys, json\n",
    "from pprint import pprint\n",
    "from rich import print as rprint\n",
    "from dotenv import load_dotenv\n",
    "from pathlib import Path\n",
    "\n",
    "from typing import Any\n",
    "\n",
    "\n",
    "# from loguru import logger\n",
    "# logger.remove()\n",
    "# logger.add(sys.stdout, level=\"SUCCESS\")\n",
    "# logger.add(\"path2merc.log\", level=\"INFO\")\n",
    "# logger.info(f\"Data path: {DATA_PATH}\")\n",
    "\n",
    "from marvin.utilities.logging import get_logger\n",
    "logger = get_logger(\"bug_marvin\")\n",
    "# logger.info(\"This is a test\") # Output: marvin.test: This is a test\n",
    "kv_logger = get_logger(\"bug_marvin_kv\")\n",
    "# kv_logger.debug_kv(\"TITLE\", \"log message\", \"green\")\n",
    "\n",
    "load_dotenv()\n",
    "DATA_PATH = Path(os.getenv(\"DATA\"))\n",
    "# logger.trace(f\"Data path: {DATA_PATH}\")\n",
    "\n",
    "import marvin, openai, requests, json\n",
    "from pydantic import BaseModel\n",
    "\n",
    "pd.set_option('display.max_columns', 100)\n",
    "pd.set_option('display.width', 1000)\n",
    "pd.set_option('display.max_colwidth', 200)\n",
    "\n",
    "\n"
   ]
  },
  {
   "cell_type": "code",
   "execution_count": 3,
   "metadata": {
    "slideshow": {
     "slide_type": "subslide"
    }
   },
   "outputs": [
    {
     "data": {
      "text/html": [
       "<pre style=\"white-space:pre;overflow-x:auto;line-height:normal;font-family:Menlo,'DejaVu Sans Mono',consolas,'Courier New',monospace\">    Pathogen                         Number Positives   Number Tests   Positivity   Trend  <span style=\"color: #008080; text-decoration-color: #008080; font-weight: bold\">4</span> Wk Avg\n",
       "<span style=\"color: #008080; text-decoration-color: #008080; font-weight: bold\">0</span>   Adenovirus                                      <span style=\"color: #008080; text-decoration-color: #008080; font-weight: bold\">12</span>           <span style=\"color: #008080; text-decoration-color: #008080; font-weight: bold\">1299</span>  <span style=\"color: #008080; text-decoration-color: #008080; font-weight: bold\">0.92</span>%        down      <span style=\"color: #008080; text-decoration-color: #008080; font-weight: bold\">1.13</span>%\n",
       "<span style=\"color: #008080; text-decoration-color: #008080; font-weight: bold\">1</span>   <span style=\"font-weight: bold\">[</span>Grouped<span style=\"font-weight: bold\">]</span> Seasonal Coronavirus                  <span style=\"color: #008080; text-decoration-color: #008080; font-weight: bold\">14</span>           <span style=\"color: #008080; text-decoration-color: #008080; font-weight: bold\">1326</span>  <span style=\"color: #008080; text-decoration-color: #008080; font-weight: bold\">1.06</span>%        up        <span style=\"color: #008080; text-decoration-color: #008080; font-weight: bold\">0.91</span>%\n",
       "<span style=\"color: #008080; text-decoration-color: #008080; font-weight: bold\">2</span>   COVID-<span style=\"color: #008080; text-decoration-color: #008080; font-weight: bold\">19</span>                                       <span style=\"color: #008080; text-decoration-color: #008080; font-weight: bold\">261</span>           <span style=\"color: #008080; text-decoration-color: #008080; font-weight: bold\">2678</span>  <span style=\"color: #008080; text-decoration-color: #008080; font-weight: bold\">9.75</span>%        down     <span style=\"color: #008080; text-decoration-color: #008080; font-weight: bold\">13.09</span>%\n",
       "<span style=\"color: #008080; text-decoration-color: #008080; font-weight: bold\">3</span>   Metapneumovirus                                  <span style=\"color: #008080; text-decoration-color: #008080; font-weight: bold\">0</span>           <span style=\"color: #008080; text-decoration-color: #008080; font-weight: bold\">1298</span>  <span style=\"color: #008080; text-decoration-color: #008080; font-weight: bold\">0.0</span>%         same      <span style=\"color: #008080; text-decoration-color: #008080; font-weight: bold\">0.18</span>%\n",
       "<span style=\"color: #008080; text-decoration-color: #008080; font-weight: bold\">4</span>   <span style=\"font-weight: bold\">[</span>Grouped<span style=\"font-weight: bold\">]</span> Influenza A Subtypes                   <span style=\"color: #008080; text-decoration-color: #008080; font-weight: bold\">3</span>           <span style=\"color: #008080; text-decoration-color: #008080; font-weight: bold\">2424</span>  <span style=\"color: #008080; text-decoration-color: #008080; font-weight: bold\">0.12</span>%        down      <span style=\"color: #008080; text-decoration-color: #008080; font-weight: bold\">0.23</span>%\n",
       "<span style=\"color: #008080; text-decoration-color: #008080; font-weight: bold\">5</span>   Influenza B                                      <span style=\"color: #008080; text-decoration-color: #008080; font-weight: bold\">0</span>           <span style=\"color: #008080; text-decoration-color: #008080; font-weight: bold\">2424</span>  <span style=\"color: #008080; text-decoration-color: #008080; font-weight: bold\">0.0</span>%         same       <span style=\"color: #008080; text-decoration-color: #008080; font-weight: bold\">0.0</span>%\n",
       "<span style=\"color: #008080; text-decoration-color: #008080; font-weight: bold\">6</span>   <span style=\"font-weight: bold\">[</span>Grouped<span style=\"font-weight: bold\">]</span> Parainfluenza Virus                   <span style=\"color: #008080; text-decoration-color: #008080; font-weight: bold\">23</span>           <span style=\"color: #008080; text-decoration-color: #008080; font-weight: bold\">1326</span>  <span style=\"color: #008080; text-decoration-color: #008080; font-weight: bold\">1.73</span>%        up        <span style=\"color: #008080; text-decoration-color: #008080; font-weight: bold\">1.34</span>%\n",
       "<span style=\"color: #008080; text-decoration-color: #008080; font-weight: bold\">7</span>   Rhinovirus/Enterovirus                         <span style=\"color: #008080; text-decoration-color: #008080; font-weight: bold\">277</span>           <span style=\"color: #008080; text-decoration-color: #008080; font-weight: bold\">1298</span>  <span style=\"color: #008080; text-decoration-color: #008080; font-weight: bold\">21.34</span>%       same      <span style=\"color: #008080; text-decoration-color: #008080; font-weight: bold\">19.6</span>%\n",
       "<span style=\"color: #008080; text-decoration-color: #008080; font-weight: bold\">8</span>   RSV                                              <span style=\"color: #008080; text-decoration-color: #008080; font-weight: bold\">9</span>           <span style=\"color: #008080; text-decoration-color: #008080; font-weight: bold\">2424</span>  <span style=\"color: #008080; text-decoration-color: #008080; font-weight: bold\">0.37</span>%        up        <span style=\"color: #008080; text-decoration-color: #008080; font-weight: bold\">0.27</span>%\n",
       "<span style=\"color: #008080; text-decoration-color: #008080; font-weight: bold\">9</span>   Bordetella pertussis                             <span style=\"color: #008080; text-decoration-color: #008080; font-weight: bold\">1</span>           <span style=\"color: #008080; text-decoration-color: #008080; font-weight: bold\">1257</span>  <span style=\"color: #008080; text-decoration-color: #008080; font-weight: bold\">0.08</span>%        same      <span style=\"color: #008080; text-decoration-color: #008080; font-weight: bold\">0.18</span>%\n",
       "<span style=\"color: #008080; text-decoration-color: #008080; font-weight: bold\">10</span>  Bordetella parapertussis                         <span style=\"color: #008080; text-decoration-color: #008080; font-weight: bold\">0</span>           <span style=\"color: #008080; text-decoration-color: #008080; font-weight: bold\">1257</span>  <span style=\"color: #008080; text-decoration-color: #008080; font-weight: bold\">0.0</span>%         same       <span style=\"color: #008080; text-decoration-color: #008080; font-weight: bold\">0.0</span>%\n",
       "<span style=\"color: #008080; text-decoration-color: #008080; font-weight: bold\">11</span>  Chlamydia pneumoniae                             <span style=\"color: #008080; text-decoration-color: #008080; font-weight: bold\">0</span>           <span style=\"color: #008080; text-decoration-color: #008080; font-weight: bold\">1298</span>  <span style=\"color: #008080; text-decoration-color: #008080; font-weight: bold\">0.0</span>%         same       <span style=\"color: #008080; text-decoration-color: #008080; font-weight: bold\">0.0</span>%\n",
       "<span style=\"color: #008080; text-decoration-color: #008080; font-weight: bold\">12</span>  Mycoplasma pneumoniae                           <span style=\"color: #008080; text-decoration-color: #008080; font-weight: bold\">18</span>           <span style=\"color: #008080; text-decoration-color: #008080; font-weight: bold\">1307</span>  <span style=\"color: #008080; text-decoration-color: #008080; font-weight: bold\">1.38</span>%        same      <span style=\"color: #008080; text-decoration-color: #008080; font-weight: bold\">1.49</span>%\n",
       "</pre>\n"
      ],
      "text/plain": [
       "    Pathogen                         Number Positives   Number Tests   Positivity   Trend  \u001b[1;36m4\u001b[0m Wk Avg\n",
       "\u001b[1;36m0\u001b[0m   Adenovirus                                      \u001b[1;36m12\u001b[0m           \u001b[1;36m1299\u001b[0m  \u001b[1;36m0.92\u001b[0m%        down      \u001b[1;36m1.13\u001b[0m%\n",
       "\u001b[1;36m1\u001b[0m   \u001b[1m[\u001b[0mGrouped\u001b[1m]\u001b[0m Seasonal Coronavirus                  \u001b[1;36m14\u001b[0m           \u001b[1;36m1326\u001b[0m  \u001b[1;36m1.06\u001b[0m%        up        \u001b[1;36m0.91\u001b[0m%\n",
       "\u001b[1;36m2\u001b[0m   COVID-\u001b[1;36m19\u001b[0m                                       \u001b[1;36m261\u001b[0m           \u001b[1;36m2678\u001b[0m  \u001b[1;36m9.75\u001b[0m%        down     \u001b[1;36m13.09\u001b[0m%\n",
       "\u001b[1;36m3\u001b[0m   Metapneumovirus                                  \u001b[1;36m0\u001b[0m           \u001b[1;36m1298\u001b[0m  \u001b[1;36m0.0\u001b[0m%         same      \u001b[1;36m0.18\u001b[0m%\n",
       "\u001b[1;36m4\u001b[0m   \u001b[1m[\u001b[0mGrouped\u001b[1m]\u001b[0m Influenza A Subtypes                   \u001b[1;36m3\u001b[0m           \u001b[1;36m2424\u001b[0m  \u001b[1;36m0.12\u001b[0m%        down      \u001b[1;36m0.23\u001b[0m%\n",
       "\u001b[1;36m5\u001b[0m   Influenza B                                      \u001b[1;36m0\u001b[0m           \u001b[1;36m2424\u001b[0m  \u001b[1;36m0.0\u001b[0m%         same       \u001b[1;36m0.0\u001b[0m%\n",
       "\u001b[1;36m6\u001b[0m   \u001b[1m[\u001b[0mGrouped\u001b[1m]\u001b[0m Parainfluenza Virus                   \u001b[1;36m23\u001b[0m           \u001b[1;36m1326\u001b[0m  \u001b[1;36m1.73\u001b[0m%        up        \u001b[1;36m1.34\u001b[0m%\n",
       "\u001b[1;36m7\u001b[0m   Rhinovirus/Enterovirus                         \u001b[1;36m277\u001b[0m           \u001b[1;36m1298\u001b[0m  \u001b[1;36m21.34\u001b[0m%       same      \u001b[1;36m19.6\u001b[0m%\n",
       "\u001b[1;36m8\u001b[0m   RSV                                              \u001b[1;36m9\u001b[0m           \u001b[1;36m2424\u001b[0m  \u001b[1;36m0.37\u001b[0m%        up        \u001b[1;36m0.27\u001b[0m%\n",
       "\u001b[1;36m9\u001b[0m   Bordetella pertussis                             \u001b[1;36m1\u001b[0m           \u001b[1;36m1257\u001b[0m  \u001b[1;36m0.08\u001b[0m%        same      \u001b[1;36m0.18\u001b[0m%\n",
       "\u001b[1;36m10\u001b[0m  Bordetella parapertussis                         \u001b[1;36m0\u001b[0m           \u001b[1;36m1257\u001b[0m  \u001b[1;36m0.0\u001b[0m%         same       \u001b[1;36m0.0\u001b[0m%\n",
       "\u001b[1;36m11\u001b[0m  Chlamydia pneumoniae                             \u001b[1;36m0\u001b[0m           \u001b[1;36m1298\u001b[0m  \u001b[1;36m0.0\u001b[0m%         same       \u001b[1;36m0.0\u001b[0m%\n",
       "\u001b[1;36m12\u001b[0m  Mycoplasma pneumoniae                           \u001b[1;36m18\u001b[0m           \u001b[1;36m1307\u001b[0m  \u001b[1;36m1.38\u001b[0m%        same      \u001b[1;36m1.49\u001b[0m%\n"
      ]
     },
     "metadata": {},
     "output_type": "display_data"
    }
   ],
   "source": [
    "pathogen_dataframe: pd.DataFrame = pd.read_csv(DATA_PATH / \"raw\" / \"pathogens.csv\")\n",
    "pathogen_columns= pathogen_dataframe.columns\n",
    "df= pathogen_dataframe\n",
    "rprint(pathogen_dataframe)\n",
    "\n"
   ]
  },
  {
   "cell_type": "code",
   "execution_count": 4,
   "metadata": {
    "slideshow": {
     "slide_type": "slide"
    }
   },
   "outputs": [
    {
     "data": {
      "text/plain": [
       "'    \"\"\"\\n    logger.info(f\"generating slicing code for {subset_description}\")\\n    string_code:str = \"\"  # placeholder (logging hack)\\n    logger.debug(f\"Sentiment analysis result: {string_code}\")\\n    return string_code'"
      ]
     },
     "execution_count": 4,
     "metadata": {},
     "output_type": "execute_result"
    }
   ],
   "source": [
    "#| echo\n",
    "\n",
    "@marvin.fn\n",
    "def code_data_slicing(subset_description:str='all data', df=pathogen_dataframe)->str:\n",
    "    \"\"\"\n",
    "    returns a string parsing as valid python code\\\n",
    "    which slices the dataframe `df` based on the `subset_description`,\\\n",
    "    both interpreting and implementing the informatics request.\n",
    "\n",
    "    example:\n",
    "    condition: \"bugs with increasing positivity\"\n",
    "    return_string: 'df.query(Trend == \"up\")'\n",
    "    \"\"\"\n",
    "    logger.info(f\"generating slicing code for {subset_description}\")\n",
    "    string_code:str = \"\"  # placeholder (logging hack)\n",
    "    logger.debug(f\"interpretation-equivalent code resulted: {string_code}\")\n",
    "    return string_code\n",
    "\n",
    "\n",
    "'''    \"\"\"\n",
    "    logger.info(f\"generating slicing code for {subset_description}\")\n",
    "    string_code:str = \"\"  # placeholder (logging hack)\n",
    "    logger.debug(f\"Sentiment analysis result: {string_code}\")\n",
    "    return string_code'''\n"
   ]
  },
  {
   "cell_type": "code",
   "execution_count": 5,
   "metadata": {},
   "outputs": [
    {
     "data": {
      "text/markdown": [
       "## LLM-Assited Data Query"
      ],
      "text/plain": [
       "<IPython.core.display.Markdown object>"
      ]
     },
     "metadata": {},
     "output_type": "display_data"
    },
    {
     "data": {
      "application/mercury+json": {
       "code_uid": "Text.0.50.78.2-rand352bd6d2",
       "disabled": false,
       "hidden": false,
       "label": "Tell me which data you want",
       "model_id": "9a015a5f1add4e9db770e02469616bd3",
       "rows": 3,
       "sanitize": true,
       "url_key": "",
       "value": "all data",
       "widget": "Text"
      },
      "application/vnd.jupyter.widget-view+json": {
       "model_id": "9a015a5f1add4e9db770e02469616bd3",
       "version_major": 2,
       "version_minor": 0
      },
      "text/plain": [
       "mercury.Text"
      ]
     },
     "metadata": {},
     "output_type": "display_data"
    },
    {
     "data": {
      "text/html": [
       "<table id=\"itables_484e2c98_0dff_4cb7_bdc6_e5bf465eed0e\" class=\"display cell-border\" data-quarto-disable-processing=\"true\" style=\"table-layout:auto;width:auto;margin:auto;caption-side:bottom\">\n",
       "<thead>\n",
       "    <tr style=\"text-align: right;\">\n",
       "      \n",
       "      <th>Pathogen</th>\n",
       "      <th>Number Positives</th>\n",
       "      <th>Number Tests</th>\n",
       "      <th>Positivity</th>\n",
       "      <th>Trend</th>\n",
       "      <th>4 Wk Avg</th>\n",
       "    </tr>\n",
       "  </thead><tbody><tr>\n",
       "<td style=\"vertical-align:middle; text-align:left\">\n",
       "<div style=\"float:left; margin-right: 10px;\">\n",
       "<a href=https://mwouts.github.io/itables/><svg class=\"main-svg\" xmlns=\"http://www.w3.org/2000/svg\" xmlns:xlink=\"http://www.w3.org/1999/xlink\"\n",
       "width=\"64\" viewBox=\"0 0 500 400\" style=\"font-family: 'Droid Sans', sans-serif;\">\n",
       "    <g style=\"fill:#d9d7fc\">\n",
       "        <path d=\"M100,400H500V357H100Z\" />\n",
       "        <path d=\"M100,300H400V257H100Z\" />\n",
       "        <path d=\"M0,200H400V157H0Z\" />\n",
       "        <path d=\"M100,100H500V57H100Z\" />\n",
       "        <path d=\"M100,350H500V307H100Z\" />\n",
       "        <path d=\"M100,250H400V207H100Z\" />\n",
       "        <path d=\"M0,150H400V107H0Z\" />\n",
       "        <path d=\"M100,50H500V7H100Z\" />\n",
       "    </g>\n",
       "    <g style=\"fill:#1a1366;stroke:#1a1366;\">\n",
       "   <rect x=\"100\" y=\"7\" width=\"400\" height=\"43\">\n",
       "    <animate\n",
       "      attributeName=\"width\"\n",
       "      values=\"0;400;0\"\n",
       "      dur=\"5s\"\n",
       "      repeatCount=\"indefinite\" />\n",
       "      <animate\n",
       "      attributeName=\"x\"\n",
       "      values=\"100;100;500\"\n",
       "      dur=\"5s\"\n",
       "      repeatCount=\"indefinite\" />\n",
       "  </rect>\n",
       "        <rect x=\"0\" y=\"107\" width=\"400\" height=\"43\">\n",
       "    <animate\n",
       "      attributeName=\"width\"\n",
       "      values=\"0;400;0\"\n",
       "      dur=\"3.5s\"\n",
       "      repeatCount=\"indefinite\" />\n",
       "    <animate\n",
       "      attributeName=\"x\"\n",
       "      values=\"0;0;400\"\n",
       "      dur=\"3.5s\"\n",
       "      repeatCount=\"indefinite\" />\n",
       "  </rect>\n",
       "        <rect x=\"100\" y=\"207\" width=\"300\" height=\"43\">\n",
       "    <animate\n",
       "      attributeName=\"width\"\n",
       "      values=\"0;300;0\"\n",
       "      dur=\"3s\"\n",
       "      repeatCount=\"indefinite\" />\n",
       "    <animate\n",
       "      attributeName=\"x\"\n",
       "      values=\"100;100;400\"\n",
       "      dur=\"3s\"\n",
       "      repeatCount=\"indefinite\" />\n",
       "  </rect>\n",
       "        <rect x=\"100\" y=\"307\" width=\"400\" height=\"43\">\n",
       "    <animate\n",
       "      attributeName=\"width\"\n",
       "      values=\"0;400;0\"\n",
       "      dur=\"4s\"\n",
       "      repeatCount=\"indefinite\" />\n",
       "      <animate\n",
       "      attributeName=\"x\"\n",
       "      values=\"100;100;500\"\n",
       "      dur=\"4s\"\n",
       "      repeatCount=\"indefinite\" />\n",
       "  </rect>\n",
       "        <g style=\"fill:transparent;stroke-width:8; stroke-linejoin:round\" rx=\"5\">\n",
       "            <g transform=\"translate(45 50) rotate(-45)\">\n",
       "                <circle r=\"33\" cx=\"0\" cy=\"0\" />\n",
       "                <rect x=\"-8\" y=\"32\" width=\"16\" height=\"30\" />\n",
       "            </g>\n",
       "\n",
       "            <g transform=\"translate(450 152)\">\n",
       "                <polyline points=\"-15,-20 -35,-20 -35,40 25,40 25,20\" />\n",
       "                <rect x=\"-15\" y=\"-40\" width=\"60\" height=\"60\" />\n",
       "            </g>\n",
       "\n",
       "            <g transform=\"translate(50 352)\">\n",
       "                <polygon points=\"-35,-5 0,-40 35,-5\" />\n",
       "                <polygon points=\"-35,10 0,45 35,10\" />\n",
       "            </g>\n",
       "\n",
       "            <g transform=\"translate(75 250)\">\n",
       "                <polyline points=\"-30,30 -60,0 -30,-30\" />\n",
       "                <polyline points=\"0,30 -30,0 0,-30\" />\n",
       "            </g>\n",
       "\n",
       "            <g transform=\"translate(425 250) rotate(180)\">\n",
       "                <polyline points=\"-30,30 -60,0 -30,-30\" />\n",
       "                <polyline points=\"0,30 -30,0 0,-30\" />\n",
       "            </g>\n",
       "        </g>\n",
       "    </g>\n",
       "</svg>\n",
       "</a>\n",
       "</div>\n",
       "<div>\n",
       "Loading ITables v2.2.1 from the internet...\n",
       "(need <a href=https://mwouts.github.io/itables/troubleshooting.html>help</a>?)</td>\n",
       "</div>\n",
       "</tr></tbody>\n",
       "\n",
       "</table>\n",
       "<link href=\"https://www.unpkg.com/dt_for_itables@2.0.13/dt_bundle.css\" rel=\"stylesheet\">\n",
       "<script type=\"module\">\n",
       "    import {DataTable, jQuery as $} from 'https://www.unpkg.com/dt_for_itables@2.0.13/dt_bundle.js';\n",
       "\n",
       "    document.querySelectorAll(\"#itables_484e2c98_0dff_4cb7_bdc6_e5bf465eed0e:not(.dataTable)\").forEach(table => {\n",
       "        // Define the table data\n",
       "        const data = [[\"Adenovirus                     \", 12, 1299, \"0.92%      \", \"down  \", \"1.13%\"], [\"[Grouped] Seasonal Coronavirus \", 14, 1326, \"1.06%      \", \"up    \", \"0.91%\"], [\"COVID-19                       \", 261, 2678, \"9.75%      \", \"down  \", \"13.09%\"], [\"Metapneumovirus                \", 0, 1298, \"0.0%       \", \"same  \", \"0.18%\"], [\"[Grouped] Influenza A Subtypes \", 3, 2424, \"0.12%      \", \"down  \", \"0.23%\"], [\"Influenza B                    \", 0, 2424, \"0.0%       \", \"same  \", \"0.0%\"], [\"[Grouped] Parainfluenza Virus  \", 23, 1326, \"1.73%      \", \"up    \", \"1.34%\"], [\"Rhinovirus/Enterovirus         \", 277, 1298, \"21.34%     \", \"same  \", \"19.6%\"], [\"RSV                            \", 9, 2424, \"0.37%      \", \"up    \", \"0.27%\"], [\"Bordetella pertussis           \", 1, 1257, \"0.08%      \", \"same  \", \"0.18%\"], [\"Bordetella parapertussis       \", 0, 1257, \"0.0%       \", \"same  \", \"0.0%\"], [\"Chlamydia pneumoniae           \", 0, 1298, \"0.0%       \", \"same  \", \"0.0%\"], [\"Mycoplasma pneumoniae          \", 18, 1307, \"1.38%      \", \"same  \", \"1.49%\"]];\n",
       "\n",
       "        // Define the dt_args\n",
       "        let dt_args = {\"columnDefs\": [{\"className\": \"dt-center\", \"width\": \"auto\", \"targets\": \"_all\"}], \"layout\": {\"topStart\": \"pageLength\", \"topEnd\": \"search\", \"bottomStart\": \"info\", \"bottomEnd\": \"paging\"}, \"order\": [], \"warn_on_selected_rows_not_rendered\": true};\n",
       "        dt_args[\"data\"] = data;\n",
       "\n",
       "        \n",
       "        new DataTable(table, dt_args);\n",
       "    });\n",
       "</script>\n"
      ],
      "text/plain": [
       "<IPython.core.display.HTML object>"
      ]
     },
     "metadata": {},
     "output_type": "display_data"
    },
    {
     "data": {
      "text/html": [
       "<pre style=\"white-space:pre;overflow-x:auto;line-height:normal;font-family:Menlo,'DejaVu Sans Mono',consolas,'Courier New',monospace\"><span style=\"color: #7fbfbf; text-decoration-color: #7fbfbf\">[09/25/24 02:02:07] </span><span style=\"color: #000080; text-decoration-color: #000080\">INFO    </span> marvin.bug_marvin: generating slicing code for all data                <a href=\"file:///var/folders/nl/1yzp9cxs5qvcn0_8zmfz1mdm0000gn/T/ipykernel_7733/272963907.py\" target=\"_blank\"><span style=\"color: #7f7f7f; text-decoration-color: #7f7f7f\">272963907.py</span></a><span style=\"color: #7f7f7f; text-decoration-color: #7f7f7f\">:</span><a href=\"file:///var/folders/nl/1yzp9cxs5qvcn0_8zmfz1mdm0000gn/T/ipykernel_7733/272963907.py#14\" target=\"_blank\"><span style=\"color: #7f7f7f; text-decoration-color: #7f7f7f\">14</span></a>\n",
       "</pre>\n"
      ],
      "text/plain": [
       "\u001b[2;36m[09/25/24 02:02:07]\u001b[0m\u001b[2;36m \u001b[0m\u001b[34mINFO    \u001b[0m marvin.bug_marvin: generating slicing code for all data                \u001b]8;id=931467;file:///var/folders/nl/1yzp9cxs5qvcn0_8zmfz1mdm0000gn/T/ipykernel_7733/272963907.py\u001b\\\u001b[2m272963907.py\u001b[0m\u001b]8;;\u001b\\\u001b[2m:\u001b[0m\u001b]8;id=164501;file:///var/folders/nl/1yzp9cxs5qvcn0_8zmfz1mdm0000gn/T/ipykernel_7733/272963907.py#14\u001b\\\u001b[2m14\u001b[0m\u001b]8;;\u001b\\\n"
      ]
     },
     "metadata": {},
     "output_type": "display_data"
    },
    {
     "data": {
      "application/mercury+json": {
       "code_uid": "Text.0.50.78.8-rand084a43f0",
       "disabled": false,
       "hidden": false,
       "label": "code that implements a 'reasonable' interpretation of the users request",
       "model_id": "d93720469b8f462ca6404de82e4e9b9c",
       "rows": 1,
       "sanitize": true,
       "url_key": "",
       "value": "df",
       "widget": "Text"
      },
      "application/vnd.jupyter.widget-view+json": {
       "model_id": "d93720469b8f462ca6404de82e4e9b9c",
       "version_major": 2,
       "version_minor": 0
      },
      "text/plain": [
       "mercury.Text"
      ]
     },
     "metadata": {},
     "output_type": "display_data"
    },
    {
     "data": {
      "text/html": [
       "<table id=\"itables_88ea09d2_f08e_41ae_a2fb_ae9d3f339a5e\" class=\"display cell-border\" data-quarto-disable-processing=\"true\" style=\"table-layout:auto;width:auto;margin:auto;caption-side:bottom\">\n",
       "<thead>\n",
       "    <tr style=\"text-align: right;\">\n",
       "      \n",
       "      <th>Pathogen</th>\n",
       "      <th>Number Positives</th>\n",
       "      <th>Number Tests</th>\n",
       "      <th>Positivity</th>\n",
       "      <th>Trend</th>\n",
       "      <th>4 Wk Avg</th>\n",
       "    </tr>\n",
       "  </thead><tbody><tr>\n",
       "<td style=\"vertical-align:middle; text-align:left\">\n",
       "<div style=\"float:left; margin-right: 10px;\">\n",
       "<a href=https://mwouts.github.io/itables/><svg class=\"main-svg\" xmlns=\"http://www.w3.org/2000/svg\" xmlns:xlink=\"http://www.w3.org/1999/xlink\"\n",
       "width=\"64\" viewBox=\"0 0 500 400\" style=\"font-family: 'Droid Sans', sans-serif;\">\n",
       "    <g style=\"fill:#d9d7fc\">\n",
       "        <path d=\"M100,400H500V357H100Z\" />\n",
       "        <path d=\"M100,300H400V257H100Z\" />\n",
       "        <path d=\"M0,200H400V157H0Z\" />\n",
       "        <path d=\"M100,100H500V57H100Z\" />\n",
       "        <path d=\"M100,350H500V307H100Z\" />\n",
       "        <path d=\"M100,250H400V207H100Z\" />\n",
       "        <path d=\"M0,150H400V107H0Z\" />\n",
       "        <path d=\"M100,50H500V7H100Z\" />\n",
       "    </g>\n",
       "    <g style=\"fill:#1a1366;stroke:#1a1366;\">\n",
       "   <rect x=\"100\" y=\"7\" width=\"400\" height=\"43\">\n",
       "    <animate\n",
       "      attributeName=\"width\"\n",
       "      values=\"0;400;0\"\n",
       "      dur=\"5s\"\n",
       "      repeatCount=\"indefinite\" />\n",
       "      <animate\n",
       "      attributeName=\"x\"\n",
       "      values=\"100;100;500\"\n",
       "      dur=\"5s\"\n",
       "      repeatCount=\"indefinite\" />\n",
       "  </rect>\n",
       "        <rect x=\"0\" y=\"107\" width=\"400\" height=\"43\">\n",
       "    <animate\n",
       "      attributeName=\"width\"\n",
       "      values=\"0;400;0\"\n",
       "      dur=\"3.5s\"\n",
       "      repeatCount=\"indefinite\" />\n",
       "    <animate\n",
       "      attributeName=\"x\"\n",
       "      values=\"0;0;400\"\n",
       "      dur=\"3.5s\"\n",
       "      repeatCount=\"indefinite\" />\n",
       "  </rect>\n",
       "        <rect x=\"100\" y=\"207\" width=\"300\" height=\"43\">\n",
       "    <animate\n",
       "      attributeName=\"width\"\n",
       "      values=\"0;300;0\"\n",
       "      dur=\"3s\"\n",
       "      repeatCount=\"indefinite\" />\n",
       "    <animate\n",
       "      attributeName=\"x\"\n",
       "      values=\"100;100;400\"\n",
       "      dur=\"3s\"\n",
       "      repeatCount=\"indefinite\" />\n",
       "  </rect>\n",
       "        <rect x=\"100\" y=\"307\" width=\"400\" height=\"43\">\n",
       "    <animate\n",
       "      attributeName=\"width\"\n",
       "      values=\"0;400;0\"\n",
       "      dur=\"4s\"\n",
       "      repeatCount=\"indefinite\" />\n",
       "      <animate\n",
       "      attributeName=\"x\"\n",
       "      values=\"100;100;500\"\n",
       "      dur=\"4s\"\n",
       "      repeatCount=\"indefinite\" />\n",
       "  </rect>\n",
       "        <g style=\"fill:transparent;stroke-width:8; stroke-linejoin:round\" rx=\"5\">\n",
       "            <g transform=\"translate(45 50) rotate(-45)\">\n",
       "                <circle r=\"33\" cx=\"0\" cy=\"0\" />\n",
       "                <rect x=\"-8\" y=\"32\" width=\"16\" height=\"30\" />\n",
       "            </g>\n",
       "\n",
       "            <g transform=\"translate(450 152)\">\n",
       "                <polyline points=\"-15,-20 -35,-20 -35,40 25,40 25,20\" />\n",
       "                <rect x=\"-15\" y=\"-40\" width=\"60\" height=\"60\" />\n",
       "            </g>\n",
       "\n",
       "            <g transform=\"translate(50 352)\">\n",
       "                <polygon points=\"-35,-5 0,-40 35,-5\" />\n",
       "                <polygon points=\"-35,10 0,45 35,10\" />\n",
       "            </g>\n",
       "\n",
       "            <g transform=\"translate(75 250)\">\n",
       "                <polyline points=\"-30,30 -60,0 -30,-30\" />\n",
       "                <polyline points=\"0,30 -30,0 0,-30\" />\n",
       "            </g>\n",
       "\n",
       "            <g transform=\"translate(425 250) rotate(180)\">\n",
       "                <polyline points=\"-30,30 -60,0 -30,-30\" />\n",
       "                <polyline points=\"0,30 -30,0 0,-30\" />\n",
       "            </g>\n",
       "        </g>\n",
       "    </g>\n",
       "</svg>\n",
       "</a>\n",
       "</div>\n",
       "<div>\n",
       "Loading ITables v2.2.1 from the internet...\n",
       "(need <a href=https://mwouts.github.io/itables/troubleshooting.html>help</a>?)</td>\n",
       "</div>\n",
       "</tr></tbody>\n",
       "\n",
       "</table>\n",
       "<link href=\"https://www.unpkg.com/dt_for_itables@2.0.13/dt_bundle.css\" rel=\"stylesheet\">\n",
       "<script type=\"module\">\n",
       "    import {DataTable, jQuery as $} from 'https://www.unpkg.com/dt_for_itables@2.0.13/dt_bundle.js';\n",
       "\n",
       "    document.querySelectorAll(\"#itables_88ea09d2_f08e_41ae_a2fb_ae9d3f339a5e:not(.dataTable)\").forEach(table => {\n",
       "        // Define the table data\n",
       "        const data = [[\"Adenovirus                     \", 12, 1299, \"0.92%      \", \"down  \", \"1.13%\"], [\"[Grouped] Seasonal Coronavirus \", 14, 1326, \"1.06%      \", \"up    \", \"0.91%\"], [\"COVID-19                       \", 261, 2678, \"9.75%      \", \"down  \", \"13.09%\"], [\"Metapneumovirus                \", 0, 1298, \"0.0%       \", \"same  \", \"0.18%\"], [\"[Grouped] Influenza A Subtypes \", 3, 2424, \"0.12%      \", \"down  \", \"0.23%\"], [\"Influenza B                    \", 0, 2424, \"0.0%       \", \"same  \", \"0.0%\"], [\"[Grouped] Parainfluenza Virus  \", 23, 1326, \"1.73%      \", \"up    \", \"1.34%\"], [\"Rhinovirus/Enterovirus         \", 277, 1298, \"21.34%     \", \"same  \", \"19.6%\"], [\"RSV                            \", 9, 2424, \"0.37%      \", \"up    \", \"0.27%\"], [\"Bordetella pertussis           \", 1, 1257, \"0.08%      \", \"same  \", \"0.18%\"], [\"Bordetella parapertussis       \", 0, 1257, \"0.0%       \", \"same  \", \"0.0%\"], [\"Chlamydia pneumoniae           \", 0, 1298, \"0.0%       \", \"same  \", \"0.0%\"], [\"Mycoplasma pneumoniae          \", 18, 1307, \"1.38%      \", \"same  \", \"1.49%\"]];\n",
       "\n",
       "        // Define the dt_args\n",
       "        let dt_args = {\"columnDefs\": [{\"className\": \"dt-center\", \"width\": \"auto\", \"targets\": \"_all\"}], \"layout\": {\"topStart\": \"pageLength\", \"topEnd\": \"search\", \"bottomStart\": \"info\", \"bottomEnd\": \"paging\"}, \"order\": [], \"warn_on_selected_rows_not_rendered\": true};\n",
       "        dt_args[\"data\"] = data;\n",
       "\n",
       "        \n",
       "        new DataTable(table, dt_args);\n",
       "    });\n",
       "</script>\n"
      ],
      "text/plain": [
       "<IPython.core.display.HTML object>"
      ]
     },
     "metadata": {},
     "output_type": "display_data"
    }
   ],
   "source": [
    "mr.Md(\"## LLM-Assited Data Query\")\n",
    "text=text_data = mr.Text(value=\"all data\", \n",
    "    label=\"Tell me which data you want\", rows=3, sanitize=True)\n",
    "big_table=mr.Table(pathogen_dataframe)# description=\"All pathogen data available in the dataset\")\n",
    "llm_code=code_data_slicing(text_data.value, pathogen_dataframe)\n",
    "\n",
    "\n",
    "text_code=mr.Text(value= llm_code,label=\"code that implements a 'reasonable' interpretation of the users request\")#,sanitize=True)\n",
    "\n",
    "ai_df = eval(text_code.value)\n",
    "ai_table = mr.Table(ai_df)#,title=\"Sliced Pathogen Data\",description=\"LLM-Assited Data Query\")\n"
   ]
  },
  {
   "cell_type": "code",
   "execution_count": 6,
   "metadata": {},
   "outputs": [
    {
     "data": {
      "text/html": [
       "<pre style=\"white-space:pre;overflow-x:auto;line-height:normal;font-family:Menlo,'DejaVu Sans Mono',consolas,'Courier New',monospace\"><span style=\"color: #7fbfbf; text-decoration-color: #7fbfbf\">[09/25/24 02:02:08] </span><span style=\"color: #000080; text-decoration-color: #000080\">INFO    </span> marvin.bug_marvin: Generated code <span style=\"color: #808000; text-decoration-color: #808000\">llm_code</span>=<span style=\"color: #008000; text-decoration-color: #008000\">'df'</span>                        <a href=\"file:///var/folders/nl/1yzp9cxs5qvcn0_8zmfz1mdm0000gn/T/ipykernel_7733/3264040374.py\" target=\"_blank\"><span style=\"color: #7f7f7f; text-decoration-color: #7f7f7f\">3264040374.py</span></a><span style=\"color: #7f7f7f; text-decoration-color: #7f7f7f\">:</span><a href=\"file:///var/folders/nl/1yzp9cxs5qvcn0_8zmfz1mdm0000gn/T/ipykernel_7733/3264040374.py#1\" target=\"_blank\"><span style=\"color: #7f7f7f; text-decoration-color: #7f7f7f\">1</span></a>\n",
       "</pre>\n"
      ],
      "text/plain": [
       "\u001b[2;36m[09/25/24 02:02:08]\u001b[0m\u001b[2;36m \u001b[0m\u001b[34mINFO    \u001b[0m marvin.bug_marvin: Generated code \u001b[33mllm_code\u001b[0m=\u001b[32m'df'\u001b[0m                        \u001b]8;id=267434;file:///var/folders/nl/1yzp9cxs5qvcn0_8zmfz1mdm0000gn/T/ipykernel_7733/3264040374.py\u001b\\\u001b[2m3264040374.py\u001b[0m\u001b]8;;\u001b\\\u001b[2m:\u001b[0m\u001b]8;id=225767;file:///var/folders/nl/1yzp9cxs5qvcn0_8zmfz1mdm0000gn/T/ipykernel_7733/3264040374.py#1\u001b\\\u001b[2m1\u001b[0m\u001b]8;;\u001b\\\n"
      ]
     },
     "metadata": {},
     "output_type": "display_data"
    },
    {
     "data": {
      "text/html": [
       "<pre style=\"white-space:pre;overflow-x:auto;line-height:normal;font-family:Menlo,'DejaVu Sans Mono',consolas,'Courier New',monospace\"><span style=\"color: #7fbfbf; text-decoration-color: #7fbfbf\">                    </span><span style=\"color: #000080; text-decoration-color: #000080\">INFO    </span> marvin.bug_marvin_kv: Generated df: <span style=\"color: #000000; text-decoration-color: #000000; background-color: #ffffff\">    Pathogen                        </span> <a href=\"file:///Users/christophersnyder/opt/anaconda3/envs/digi-path/lib/python3.11/site-packages/marvin/utilities/logging.py\" target=\"_blank\"><span style=\"color: #7f7f7f; text-decoration-color: #7f7f7f\">logging.py</span></a><span style=\"color: #7f7f7f; text-decoration-color: #7f7f7f\">:</span><a href=\"file:///Users/christophersnyder/opt/anaconda3/envs/digi-path/lib/python3.11/site-packages/marvin/utilities/logging.py#89\" target=\"_blank\"><span style=\"color: #7f7f7f; text-decoration-color: #7f7f7f\">89</span></a>\n",
       "<span style=\"color: #7fbfbf; text-decoration-color: #7fbfbf\">                    </span>         <span style=\"color: #000000; text-decoration-color: #000000; background-color: #ffffff\">Number Positives   Number Tests   Positivity   Trend  </span><span style=\"color: #008080; text-decoration-color: #008080; background-color: #ffffff; font-weight: bold\">4</span><span style=\"color: #000000; text-decoration-color: #000000; background-color: #ffffff\"> Wk Avg</span>           <span style=\"color: #7f7f7f; text-decoration-color: #7f7f7f\">             </span>\n",
       "<span style=\"color: #7fbfbf; text-decoration-color: #7fbfbf\">                    </span>         <span style=\"color: #008080; text-decoration-color: #008080; background-color: #ffffff; font-weight: bold\">0</span><span style=\"color: #000000; text-decoration-color: #000000; background-color: #ffffff\">   Adenovirus                                      </span><span style=\"color: #008080; text-decoration-color: #008080; background-color: #ffffff; font-weight: bold\">12</span><span style=\"color: #000000; text-decoration-color: #000000; background-color: #ffffff\">           </span><span style=\"color: #008080; text-decoration-color: #008080; background-color: #ffffff; font-weight: bold\">1299</span><span style=\"color: #000000; text-decoration-color: #000000; background-color: #ffffff\">  </span>  <span style=\"color: #7f7f7f; text-decoration-color: #7f7f7f\">             </span>\n",
       "<span style=\"color: #7fbfbf; text-decoration-color: #7fbfbf\">                    </span>         <span style=\"color: #008080; text-decoration-color: #008080; background-color: #ffffff; font-weight: bold\">0.92</span><span style=\"color: #000000; text-decoration-color: #000000; background-color: #ffffff\">%        down      </span><span style=\"color: #008080; text-decoration-color: #008080; background-color: #ffffff; font-weight: bold\">1.13</span><span style=\"color: #000000; text-decoration-color: #000000; background-color: #ffffff\">%</span>                                             <span style=\"color: #7f7f7f; text-decoration-color: #7f7f7f\">             </span>\n",
       "<span style=\"color: #7fbfbf; text-decoration-color: #7fbfbf\">                    </span>         <span style=\"color: #008080; text-decoration-color: #008080; background-color: #ffffff; font-weight: bold\">1</span><span style=\"color: #000000; text-decoration-color: #000000; background-color: #ffffff\">   </span><span style=\"color: #000000; text-decoration-color: #000000; background-color: #ffffff; font-weight: bold\">[</span><span style=\"color: #000000; text-decoration-color: #000000; background-color: #ffffff\">Grouped</span><span style=\"color: #000000; text-decoration-color: #000000; background-color: #ffffff; font-weight: bold\">]</span><span style=\"color: #000000; text-decoration-color: #000000; background-color: #ffffff\"> Seasonal Coronavirus                  </span><span style=\"color: #008080; text-decoration-color: #008080; background-color: #ffffff; font-weight: bold\">14</span><span style=\"color: #000000; text-decoration-color: #000000; background-color: #ffffff\">           </span><span style=\"color: #008080; text-decoration-color: #008080; background-color: #ffffff; font-weight: bold\">1326</span><span style=\"color: #000000; text-decoration-color: #000000; background-color: #ffffff\">  </span>  <span style=\"color: #7f7f7f; text-decoration-color: #7f7f7f\">             </span>\n",
       "<span style=\"color: #7fbfbf; text-decoration-color: #7fbfbf\">                    </span>         <span style=\"color: #008080; text-decoration-color: #008080; background-color: #ffffff; font-weight: bold\">1.06</span><span style=\"color: #000000; text-decoration-color: #000000; background-color: #ffffff\">%        up        </span><span style=\"color: #008080; text-decoration-color: #008080; background-color: #ffffff; font-weight: bold\">0.91</span><span style=\"color: #000000; text-decoration-color: #000000; background-color: #ffffff\">%</span>                                             <span style=\"color: #7f7f7f; text-decoration-color: #7f7f7f\">             </span>\n",
       "<span style=\"color: #7fbfbf; text-decoration-color: #7fbfbf\">                    </span>         <span style=\"color: #008080; text-decoration-color: #008080; background-color: #ffffff; font-weight: bold\">2</span><span style=\"color: #000000; text-decoration-color: #000000; background-color: #ffffff\">   COVID-</span><span style=\"color: #008080; text-decoration-color: #008080; background-color: #ffffff; font-weight: bold\">19</span><span style=\"color: #000000; text-decoration-color: #000000; background-color: #ffffff\">                                       </span><span style=\"color: #008080; text-decoration-color: #008080; background-color: #ffffff; font-weight: bold\">261</span><span style=\"color: #000000; text-decoration-color: #000000; background-color: #ffffff\">           </span><span style=\"color: #008080; text-decoration-color: #008080; background-color: #ffffff; font-weight: bold\">2678</span><span style=\"color: #000000; text-decoration-color: #000000; background-color: #ffffff\">  </span>  <span style=\"color: #7f7f7f; text-decoration-color: #7f7f7f\">             </span>\n",
       "<span style=\"color: #7fbfbf; text-decoration-color: #7fbfbf\">                    </span>         <span style=\"color: #008080; text-decoration-color: #008080; background-color: #ffffff; font-weight: bold\">9.75</span><span style=\"color: #000000; text-decoration-color: #000000; background-color: #ffffff\">%        down     </span><span style=\"color: #008080; text-decoration-color: #008080; background-color: #ffffff; font-weight: bold\">13.09</span><span style=\"color: #000000; text-decoration-color: #000000; background-color: #ffffff\">%</span>                                             <span style=\"color: #7f7f7f; text-decoration-color: #7f7f7f\">             </span>\n",
       "<span style=\"color: #7fbfbf; text-decoration-color: #7fbfbf\">                    </span>         <span style=\"color: #008080; text-decoration-color: #008080; background-color: #ffffff; font-weight: bold\">3</span><span style=\"color: #000000; text-decoration-color: #000000; background-color: #ffffff\">   Metapneumovirus                                  </span><span style=\"color: #008080; text-decoration-color: #008080; background-color: #ffffff; font-weight: bold\">0</span><span style=\"color: #000000; text-decoration-color: #000000; background-color: #ffffff\">           </span><span style=\"color: #008080; text-decoration-color: #008080; background-color: #ffffff; font-weight: bold\">1298</span><span style=\"color: #000000; text-decoration-color: #000000; background-color: #ffffff\">  </span>  <span style=\"color: #7f7f7f; text-decoration-color: #7f7f7f\">             </span>\n",
       "<span style=\"color: #7fbfbf; text-decoration-color: #7fbfbf\">                    </span>         <span style=\"color: #008080; text-decoration-color: #008080; background-color: #ffffff; font-weight: bold\">0.0</span><span style=\"color: #000000; text-decoration-color: #000000; background-color: #ffffff\">%         same      </span><span style=\"color: #008080; text-decoration-color: #008080; background-color: #ffffff; font-weight: bold\">0.18</span><span style=\"color: #000000; text-decoration-color: #000000; background-color: #ffffff\">%</span>                                             <span style=\"color: #7f7f7f; text-decoration-color: #7f7f7f\">             </span>\n",
       "<span style=\"color: #7fbfbf; text-decoration-color: #7fbfbf\">                    </span>         <span style=\"color: #008080; text-decoration-color: #008080; background-color: #ffffff; font-weight: bold\">4</span><span style=\"color: #000000; text-decoration-color: #000000; background-color: #ffffff\">   </span><span style=\"color: #000000; text-decoration-color: #000000; background-color: #ffffff; font-weight: bold\">[</span><span style=\"color: #000000; text-decoration-color: #000000; background-color: #ffffff\">Grouped</span><span style=\"color: #000000; text-decoration-color: #000000; background-color: #ffffff; font-weight: bold\">]</span><span style=\"color: #000000; text-decoration-color: #000000; background-color: #ffffff\"> Influenza A Subtypes                   </span><span style=\"color: #008080; text-decoration-color: #008080; background-color: #ffffff; font-weight: bold\">3</span><span style=\"color: #000000; text-decoration-color: #000000; background-color: #ffffff\">           </span><span style=\"color: #008080; text-decoration-color: #008080; background-color: #ffffff; font-weight: bold\">2424</span><span style=\"color: #000000; text-decoration-color: #000000; background-color: #ffffff\">  </span>  <span style=\"color: #7f7f7f; text-decoration-color: #7f7f7f\">             </span>\n",
       "<span style=\"color: #7fbfbf; text-decoration-color: #7fbfbf\">                    </span>         <span style=\"color: #008080; text-decoration-color: #008080; background-color: #ffffff; font-weight: bold\">0.12</span><span style=\"color: #000000; text-decoration-color: #000000; background-color: #ffffff\">%        down      </span><span style=\"color: #008080; text-decoration-color: #008080; background-color: #ffffff; font-weight: bold\">0.23</span><span style=\"color: #000000; text-decoration-color: #000000; background-color: #ffffff\">%</span>                                             <span style=\"color: #7f7f7f; text-decoration-color: #7f7f7f\">             </span>\n",
       "<span style=\"color: #7fbfbf; text-decoration-color: #7fbfbf\">                    </span>         <span style=\"color: #008080; text-decoration-color: #008080; background-color: #ffffff; font-weight: bold\">5</span><span style=\"color: #000000; text-decoration-color: #000000; background-color: #ffffff\">   Influenza B                                      </span><span style=\"color: #008080; text-decoration-color: #008080; background-color: #ffffff; font-weight: bold\">0</span><span style=\"color: #000000; text-decoration-color: #000000; background-color: #ffffff\">           </span><span style=\"color: #008080; text-decoration-color: #008080; background-color: #ffffff; font-weight: bold\">2424</span><span style=\"color: #000000; text-decoration-color: #000000; background-color: #ffffff\">  </span>  <span style=\"color: #7f7f7f; text-decoration-color: #7f7f7f\">             </span>\n",
       "<span style=\"color: #7fbfbf; text-decoration-color: #7fbfbf\">                    </span>         <span style=\"color: #008080; text-decoration-color: #008080; background-color: #ffffff; font-weight: bold\">0.0</span><span style=\"color: #000000; text-decoration-color: #000000; background-color: #ffffff\">%         same       </span><span style=\"color: #008080; text-decoration-color: #008080; background-color: #ffffff; font-weight: bold\">0.0</span><span style=\"color: #000000; text-decoration-color: #000000; background-color: #ffffff\">%</span>                                             <span style=\"color: #7f7f7f; text-decoration-color: #7f7f7f\">             </span>\n",
       "<span style=\"color: #7fbfbf; text-decoration-color: #7fbfbf\">                    </span>         <span style=\"color: #008080; text-decoration-color: #008080; background-color: #ffffff; font-weight: bold\">6</span><span style=\"color: #000000; text-decoration-color: #000000; background-color: #ffffff\">   </span><span style=\"color: #000000; text-decoration-color: #000000; background-color: #ffffff; font-weight: bold\">[</span><span style=\"color: #000000; text-decoration-color: #000000; background-color: #ffffff\">Grouped</span><span style=\"color: #000000; text-decoration-color: #000000; background-color: #ffffff; font-weight: bold\">]</span><span style=\"color: #000000; text-decoration-color: #000000; background-color: #ffffff\"> Parainfluenza Virus                   </span><span style=\"color: #008080; text-decoration-color: #008080; background-color: #ffffff; font-weight: bold\">23</span><span style=\"color: #000000; text-decoration-color: #000000; background-color: #ffffff\">           </span><span style=\"color: #008080; text-decoration-color: #008080; background-color: #ffffff; font-weight: bold\">1326</span><span style=\"color: #000000; text-decoration-color: #000000; background-color: #ffffff\">  </span>  <span style=\"color: #7f7f7f; text-decoration-color: #7f7f7f\">             </span>\n",
       "<span style=\"color: #7fbfbf; text-decoration-color: #7fbfbf\">                    </span>         <span style=\"color: #008080; text-decoration-color: #008080; background-color: #ffffff; font-weight: bold\">1.73</span><span style=\"color: #000000; text-decoration-color: #000000; background-color: #ffffff\">%        up        </span><span style=\"color: #008080; text-decoration-color: #008080; background-color: #ffffff; font-weight: bold\">1.34</span><span style=\"color: #000000; text-decoration-color: #000000; background-color: #ffffff\">%</span>                                             <span style=\"color: #7f7f7f; text-decoration-color: #7f7f7f\">             </span>\n",
       "<span style=\"color: #7fbfbf; text-decoration-color: #7fbfbf\">                    </span>         <span style=\"color: #008080; text-decoration-color: #008080; background-color: #ffffff; font-weight: bold\">7</span><span style=\"color: #000000; text-decoration-color: #000000; background-color: #ffffff\">   Rhinovirus/Enterovirus                         </span><span style=\"color: #008080; text-decoration-color: #008080; background-color: #ffffff; font-weight: bold\">277</span><span style=\"color: #000000; text-decoration-color: #000000; background-color: #ffffff\">           </span><span style=\"color: #008080; text-decoration-color: #008080; background-color: #ffffff; font-weight: bold\">1298</span><span style=\"color: #000000; text-decoration-color: #000000; background-color: #ffffff\">  </span>  <span style=\"color: #7f7f7f; text-decoration-color: #7f7f7f\">             </span>\n",
       "<span style=\"color: #7fbfbf; text-decoration-color: #7fbfbf\">                    </span>         <span style=\"color: #008080; text-decoration-color: #008080; background-color: #ffffff; font-weight: bold\">21.34</span><span style=\"color: #000000; text-decoration-color: #000000; background-color: #ffffff\">%       same      </span><span style=\"color: #008080; text-decoration-color: #008080; background-color: #ffffff; font-weight: bold\">19.6</span><span style=\"color: #000000; text-decoration-color: #000000; background-color: #ffffff\">%</span>                                             <span style=\"color: #7f7f7f; text-decoration-color: #7f7f7f\">             </span>\n",
       "<span style=\"color: #7fbfbf; text-decoration-color: #7fbfbf\">                    </span>         <span style=\"color: #008080; text-decoration-color: #008080; background-color: #ffffff; font-weight: bold\">8</span><span style=\"color: #000000; text-decoration-color: #000000; background-color: #ffffff\">   RSV                                              </span><span style=\"color: #008080; text-decoration-color: #008080; background-color: #ffffff; font-weight: bold\">9</span><span style=\"color: #000000; text-decoration-color: #000000; background-color: #ffffff\">           </span><span style=\"color: #008080; text-decoration-color: #008080; background-color: #ffffff; font-weight: bold\">2424</span><span style=\"color: #000000; text-decoration-color: #000000; background-color: #ffffff\">  </span>  <span style=\"color: #7f7f7f; text-decoration-color: #7f7f7f\">             </span>\n",
       "<span style=\"color: #7fbfbf; text-decoration-color: #7fbfbf\">                    </span>         <span style=\"color: #008080; text-decoration-color: #008080; background-color: #ffffff; font-weight: bold\">0.37</span><span style=\"color: #000000; text-decoration-color: #000000; background-color: #ffffff\">%        up        </span><span style=\"color: #008080; text-decoration-color: #008080; background-color: #ffffff; font-weight: bold\">0.27</span><span style=\"color: #000000; text-decoration-color: #000000; background-color: #ffffff\">%</span>                                             <span style=\"color: #7f7f7f; text-decoration-color: #7f7f7f\">             </span>\n",
       "<span style=\"color: #7fbfbf; text-decoration-color: #7fbfbf\">                    </span>         <span style=\"color: #008080; text-decoration-color: #008080; background-color: #ffffff; font-weight: bold\">9</span><span style=\"color: #000000; text-decoration-color: #000000; background-color: #ffffff\">   Bordetella pertussis                             </span><span style=\"color: #008080; text-decoration-color: #008080; background-color: #ffffff; font-weight: bold\">1</span><span style=\"color: #000000; text-decoration-color: #000000; background-color: #ffffff\">           </span><span style=\"color: #008080; text-decoration-color: #008080; background-color: #ffffff; font-weight: bold\">1257</span><span style=\"color: #000000; text-decoration-color: #000000; background-color: #ffffff\">  </span>  <span style=\"color: #7f7f7f; text-decoration-color: #7f7f7f\">             </span>\n",
       "<span style=\"color: #7fbfbf; text-decoration-color: #7fbfbf\">                    </span>         <span style=\"color: #008080; text-decoration-color: #008080; background-color: #ffffff; font-weight: bold\">0.08</span><span style=\"color: #000000; text-decoration-color: #000000; background-color: #ffffff\">%        same      </span><span style=\"color: #008080; text-decoration-color: #008080; background-color: #ffffff; font-weight: bold\">0.18</span><span style=\"color: #000000; text-decoration-color: #000000; background-color: #ffffff\">%</span>                                             <span style=\"color: #7f7f7f; text-decoration-color: #7f7f7f\">             </span>\n",
       "<span style=\"color: #7fbfbf; text-decoration-color: #7fbfbf\">                    </span>         <span style=\"color: #008080; text-decoration-color: #008080; background-color: #ffffff; font-weight: bold\">10</span><span style=\"color: #000000; text-decoration-color: #000000; background-color: #ffffff\">  Bordetella parapertussis                         </span><span style=\"color: #008080; text-decoration-color: #008080; background-color: #ffffff; font-weight: bold\">0</span><span style=\"color: #000000; text-decoration-color: #000000; background-color: #ffffff\">           </span><span style=\"color: #008080; text-decoration-color: #008080; background-color: #ffffff; font-weight: bold\">1257</span><span style=\"color: #000000; text-decoration-color: #000000; background-color: #ffffff\">  </span>  <span style=\"color: #7f7f7f; text-decoration-color: #7f7f7f\">             </span>\n",
       "<span style=\"color: #7fbfbf; text-decoration-color: #7fbfbf\">                    </span>         <span style=\"color: #008080; text-decoration-color: #008080; background-color: #ffffff; font-weight: bold\">0.0</span><span style=\"color: #000000; text-decoration-color: #000000; background-color: #ffffff\">%         same       </span><span style=\"color: #008080; text-decoration-color: #008080; background-color: #ffffff; font-weight: bold\">0.0</span><span style=\"color: #000000; text-decoration-color: #000000; background-color: #ffffff\">%</span>                                             <span style=\"color: #7f7f7f; text-decoration-color: #7f7f7f\">             </span>\n",
       "<span style=\"color: #7fbfbf; text-decoration-color: #7fbfbf\">                    </span>         <span style=\"color: #008080; text-decoration-color: #008080; background-color: #ffffff; font-weight: bold\">11</span><span style=\"color: #000000; text-decoration-color: #000000; background-color: #ffffff\">  Chlamydia pneumoniae                             </span><span style=\"color: #008080; text-decoration-color: #008080; background-color: #ffffff; font-weight: bold\">0</span><span style=\"color: #000000; text-decoration-color: #000000; background-color: #ffffff\">           </span><span style=\"color: #008080; text-decoration-color: #008080; background-color: #ffffff; font-weight: bold\">1298</span><span style=\"color: #000000; text-decoration-color: #000000; background-color: #ffffff\">  </span>  <span style=\"color: #7f7f7f; text-decoration-color: #7f7f7f\">             </span>\n",
       "<span style=\"color: #7fbfbf; text-decoration-color: #7fbfbf\">                    </span>         <span style=\"color: #008080; text-decoration-color: #008080; background-color: #ffffff; font-weight: bold\">0.0</span><span style=\"color: #000000; text-decoration-color: #000000; background-color: #ffffff\">%         same       </span><span style=\"color: #008080; text-decoration-color: #008080; background-color: #ffffff; font-weight: bold\">0.0</span><span style=\"color: #000000; text-decoration-color: #000000; background-color: #ffffff\">%</span>                                             <span style=\"color: #7f7f7f; text-decoration-color: #7f7f7f\">             </span>\n",
       "<span style=\"color: #7fbfbf; text-decoration-color: #7fbfbf\">                    </span>         <span style=\"color: #008080; text-decoration-color: #008080; background-color: #ffffff; font-weight: bold\">12</span><span style=\"color: #000000; text-decoration-color: #000000; background-color: #ffffff\">  Mycoplasma pneumoniae                           </span><span style=\"color: #008080; text-decoration-color: #008080; background-color: #ffffff; font-weight: bold\">18</span><span style=\"color: #000000; text-decoration-color: #000000; background-color: #ffffff\">           </span><span style=\"color: #008080; text-decoration-color: #008080; background-color: #ffffff; font-weight: bold\">1307</span><span style=\"color: #000000; text-decoration-color: #000000; background-color: #ffffff\">  </span>  <span style=\"color: #7f7f7f; text-decoration-color: #7f7f7f\">             </span>\n",
       "<span style=\"color: #7fbfbf; text-decoration-color: #7fbfbf\">                    </span>         <span style=\"color: #008080; text-decoration-color: #008080; background-color: #ffffff; font-weight: bold\">1.38</span><span style=\"color: #000000; text-decoration-color: #000000; background-color: #ffffff\">%        same      </span><span style=\"color: #008080; text-decoration-color: #008080; background-color: #ffffff; font-weight: bold\">1.49</span><span style=\"color: #000000; text-decoration-color: #000000; background-color: #ffffff\">%</span>                                             <span style=\"color: #7f7f7f; text-decoration-color: #7f7f7f\">             </span>\n",
       "</pre>\n"
      ],
      "text/plain": [
       "\u001b[2;36m                   \u001b[0m\u001b[2;36m \u001b[0m\u001b[34mINFO    \u001b[0m marvin.bug_marvin_kv: Generated df: \u001b[39;49m    Pathogen                        \u001b[0m \u001b]8;id=537513;file:///Users/christophersnyder/opt/anaconda3/envs/digi-path/lib/python3.11/site-packages/marvin/utilities/logging.py\u001b\\\u001b[2mlogging.py\u001b[0m\u001b]8;;\u001b\\\u001b[2m:\u001b[0m\u001b]8;id=505350;file:///Users/christophersnyder/opt/anaconda3/envs/digi-path/lib/python3.11/site-packages/marvin/utilities/logging.py#89\u001b\\\u001b[2m89\u001b[0m\u001b]8;;\u001b\\\n",
       "\u001b[2;36m                    \u001b[0m         \u001b[39;49mNumber Positives   Number Tests   Positivity   Trend  \u001b[0m\u001b[1;36;49m4\u001b[0m\u001b[39;49m Wk Avg\u001b[0m           \u001b[2m             \u001b[0m\n",
       "\u001b[2;36m                    \u001b[0m         \u001b[1;36;49m0\u001b[0m\u001b[39;49m   Adenovirus                                      \u001b[0m\u001b[1;36;49m12\u001b[0m\u001b[39;49m           \u001b[0m\u001b[1;36;49m1299\u001b[0m\u001b[39;49m  \u001b[0m  \u001b[2m             \u001b[0m\n",
       "\u001b[2;36m                    \u001b[0m         \u001b[1;36;49m0.92\u001b[0m\u001b[39;49m%        down      \u001b[0m\u001b[1;36;49m1.13\u001b[0m\u001b[39;49m%\u001b[0m                                             \u001b[2m             \u001b[0m\n",
       "\u001b[2;36m                    \u001b[0m         \u001b[1;36;49m1\u001b[0m\u001b[39;49m   \u001b[0m\u001b[1;39;49m[\u001b[0m\u001b[39;49mGrouped\u001b[0m\u001b[1;39;49m]\u001b[0m\u001b[39;49m Seasonal Coronavirus                  \u001b[0m\u001b[1;36;49m14\u001b[0m\u001b[39;49m           \u001b[0m\u001b[1;36;49m1326\u001b[0m\u001b[39;49m  \u001b[0m  \u001b[2m             \u001b[0m\n",
       "\u001b[2;36m                    \u001b[0m         \u001b[1;36;49m1.06\u001b[0m\u001b[39;49m%        up        \u001b[0m\u001b[1;36;49m0.91\u001b[0m\u001b[39;49m%\u001b[0m                                             \u001b[2m             \u001b[0m\n",
       "\u001b[2;36m                    \u001b[0m         \u001b[1;36;49m2\u001b[0m\u001b[39;49m   COVID-\u001b[0m\u001b[1;36;49m19\u001b[0m\u001b[39;49m                                       \u001b[0m\u001b[1;36;49m261\u001b[0m\u001b[39;49m           \u001b[0m\u001b[1;36;49m2678\u001b[0m\u001b[39;49m  \u001b[0m  \u001b[2m             \u001b[0m\n",
       "\u001b[2;36m                    \u001b[0m         \u001b[1;36;49m9.75\u001b[0m\u001b[39;49m%        down     \u001b[0m\u001b[1;36;49m13.09\u001b[0m\u001b[39;49m%\u001b[0m                                             \u001b[2m             \u001b[0m\n",
       "\u001b[2;36m                    \u001b[0m         \u001b[1;36;49m3\u001b[0m\u001b[39;49m   Metapneumovirus                                  \u001b[0m\u001b[1;36;49m0\u001b[0m\u001b[39;49m           \u001b[0m\u001b[1;36;49m1298\u001b[0m\u001b[39;49m  \u001b[0m  \u001b[2m             \u001b[0m\n",
       "\u001b[2;36m                    \u001b[0m         \u001b[1;36;49m0.0\u001b[0m\u001b[39;49m%         same      \u001b[0m\u001b[1;36;49m0.18\u001b[0m\u001b[39;49m%\u001b[0m                                             \u001b[2m             \u001b[0m\n",
       "\u001b[2;36m                    \u001b[0m         \u001b[1;36;49m4\u001b[0m\u001b[39;49m   \u001b[0m\u001b[1;39;49m[\u001b[0m\u001b[39;49mGrouped\u001b[0m\u001b[1;39;49m]\u001b[0m\u001b[39;49m Influenza A Subtypes                   \u001b[0m\u001b[1;36;49m3\u001b[0m\u001b[39;49m           \u001b[0m\u001b[1;36;49m2424\u001b[0m\u001b[39;49m  \u001b[0m  \u001b[2m             \u001b[0m\n",
       "\u001b[2;36m                    \u001b[0m         \u001b[1;36;49m0.12\u001b[0m\u001b[39;49m%        down      \u001b[0m\u001b[1;36;49m0.23\u001b[0m\u001b[39;49m%\u001b[0m                                             \u001b[2m             \u001b[0m\n",
       "\u001b[2;36m                    \u001b[0m         \u001b[1;36;49m5\u001b[0m\u001b[39;49m   Influenza B                                      \u001b[0m\u001b[1;36;49m0\u001b[0m\u001b[39;49m           \u001b[0m\u001b[1;36;49m2424\u001b[0m\u001b[39;49m  \u001b[0m  \u001b[2m             \u001b[0m\n",
       "\u001b[2;36m                    \u001b[0m         \u001b[1;36;49m0.0\u001b[0m\u001b[39;49m%         same       \u001b[0m\u001b[1;36;49m0.0\u001b[0m\u001b[39;49m%\u001b[0m                                             \u001b[2m             \u001b[0m\n",
       "\u001b[2;36m                    \u001b[0m         \u001b[1;36;49m6\u001b[0m\u001b[39;49m   \u001b[0m\u001b[1;39;49m[\u001b[0m\u001b[39;49mGrouped\u001b[0m\u001b[1;39;49m]\u001b[0m\u001b[39;49m Parainfluenza Virus                   \u001b[0m\u001b[1;36;49m23\u001b[0m\u001b[39;49m           \u001b[0m\u001b[1;36;49m1326\u001b[0m\u001b[39;49m  \u001b[0m  \u001b[2m             \u001b[0m\n",
       "\u001b[2;36m                    \u001b[0m         \u001b[1;36;49m1.73\u001b[0m\u001b[39;49m%        up        \u001b[0m\u001b[1;36;49m1.34\u001b[0m\u001b[39;49m%\u001b[0m                                             \u001b[2m             \u001b[0m\n",
       "\u001b[2;36m                    \u001b[0m         \u001b[1;36;49m7\u001b[0m\u001b[39;49m   Rhinovirus/Enterovirus                         \u001b[0m\u001b[1;36;49m277\u001b[0m\u001b[39;49m           \u001b[0m\u001b[1;36;49m1298\u001b[0m\u001b[39;49m  \u001b[0m  \u001b[2m             \u001b[0m\n",
       "\u001b[2;36m                    \u001b[0m         \u001b[1;36;49m21.34\u001b[0m\u001b[39;49m%       same      \u001b[0m\u001b[1;36;49m19.6\u001b[0m\u001b[39;49m%\u001b[0m                                             \u001b[2m             \u001b[0m\n",
       "\u001b[2;36m                    \u001b[0m         \u001b[1;36;49m8\u001b[0m\u001b[39;49m   RSV                                              \u001b[0m\u001b[1;36;49m9\u001b[0m\u001b[39;49m           \u001b[0m\u001b[1;36;49m2424\u001b[0m\u001b[39;49m  \u001b[0m  \u001b[2m             \u001b[0m\n",
       "\u001b[2;36m                    \u001b[0m         \u001b[1;36;49m0.37\u001b[0m\u001b[39;49m%        up        \u001b[0m\u001b[1;36;49m0.27\u001b[0m\u001b[39;49m%\u001b[0m                                             \u001b[2m             \u001b[0m\n",
       "\u001b[2;36m                    \u001b[0m         \u001b[1;36;49m9\u001b[0m\u001b[39;49m   Bordetella pertussis                             \u001b[0m\u001b[1;36;49m1\u001b[0m\u001b[39;49m           \u001b[0m\u001b[1;36;49m1257\u001b[0m\u001b[39;49m  \u001b[0m  \u001b[2m             \u001b[0m\n",
       "\u001b[2;36m                    \u001b[0m         \u001b[1;36;49m0.08\u001b[0m\u001b[39;49m%        same      \u001b[0m\u001b[1;36;49m0.18\u001b[0m\u001b[39;49m%\u001b[0m                                             \u001b[2m             \u001b[0m\n",
       "\u001b[2;36m                    \u001b[0m         \u001b[1;36;49m10\u001b[0m\u001b[39;49m  Bordetella parapertussis                         \u001b[0m\u001b[1;36;49m0\u001b[0m\u001b[39;49m           \u001b[0m\u001b[1;36;49m1257\u001b[0m\u001b[39;49m  \u001b[0m  \u001b[2m             \u001b[0m\n",
       "\u001b[2;36m                    \u001b[0m         \u001b[1;36;49m0.0\u001b[0m\u001b[39;49m%         same       \u001b[0m\u001b[1;36;49m0.0\u001b[0m\u001b[39;49m%\u001b[0m                                             \u001b[2m             \u001b[0m\n",
       "\u001b[2;36m                    \u001b[0m         \u001b[1;36;49m11\u001b[0m\u001b[39;49m  Chlamydia pneumoniae                             \u001b[0m\u001b[1;36;49m0\u001b[0m\u001b[39;49m           \u001b[0m\u001b[1;36;49m1298\u001b[0m\u001b[39;49m  \u001b[0m  \u001b[2m             \u001b[0m\n",
       "\u001b[2;36m                    \u001b[0m         \u001b[1;36;49m0.0\u001b[0m\u001b[39;49m%         same       \u001b[0m\u001b[1;36;49m0.0\u001b[0m\u001b[39;49m%\u001b[0m                                             \u001b[2m             \u001b[0m\n",
       "\u001b[2;36m                    \u001b[0m         \u001b[1;36;49m12\u001b[0m\u001b[39;49m  Mycoplasma pneumoniae                           \u001b[0m\u001b[1;36;49m18\u001b[0m\u001b[39;49m           \u001b[0m\u001b[1;36;49m1307\u001b[0m\u001b[39;49m  \u001b[0m  \u001b[2m             \u001b[0m\n",
       "\u001b[2;36m                    \u001b[0m         \u001b[1;36;49m1.38\u001b[0m\u001b[39;49m%        same      \u001b[0m\u001b[1;36;49m1.49\u001b[0m\u001b[39;49m%\u001b[0m                                             \u001b[2m             \u001b[0m\n"
      ]
     },
     "metadata": {},
     "output_type": "display_data"
    }
   ],
   "source": [
    "\n",
    "logger.info(f\"Generated code {llm_code=}\")\n",
    "kv_logger.info_kv(\"Generated df\",ai_df,\"bug_marvin_kv\")"
   ]
  },
  {
   "cell_type": "code",
   "execution_count": null,
   "metadata": {},
   "outputs": [],
   "source": []
  },
  {
   "cell_type": "markdown",
   "metadata": {},
   "source": [
    "---"
   ]
  },
  {
   "cell_type": "code",
   "execution_count": 7,
   "metadata": {},
   "outputs": [],
   "source": [
    "# text_data.value = \"only show me viruses\""
   ]
  },
  {
   "cell_type": "code",
   "execution_count": null,
   "metadata": {},
   "outputs": [],
   "source": []
  },
  {
   "cell_type": "code",
   "execution_count": 8,
   "metadata": {},
   "outputs": [],
   "source": [
    "mr.StopExecution()"
   ]
  },
  {
   "cell_type": "code",
   "execution_count": 12,
   "metadata": {},
   "outputs": [
    {
     "name": "stdout",
     "output_type": "stream",
     "text": [
      "                            \n",
      "\n",
      "     _ __ ___   ___ _ __ ___ _   _ _ __ _   _ \n",
      "    | '_ ` _ \\ / _ \\ '__/ __| | | | '__| | | |\n",
      "    | | | | | |  __/ | | (__| |_| | |  | |_| |\n",
      "    |_| |_| |_|\\___|_|  \\___|\\__,_|_|   \\__, |\n",
      "                                         __/ |\n",
      "                                        |___/ \n",
      "        \n",
      "Version: 2.4.3\n",
      "\u001b[1mThe notebook pathogens_to_mercury.ipynb will be updated\u001b[0m\n",
      "\u001b[32;1mSuccessfully updated a notebook (id:1)\u001b[0m\n",
      "\u001b[1mThe notebook bugwidget.ipynb will be updated\u001b[0m\n",
      "\u001b[32;1mSuccessfully updated a notebook (id:2)\u001b[0m\n",
      "Performing system checks...\n",
      "\n",
      "System check identified no issues (0 silenced).\n",
      "September 25, 2024 - 07:24:51\n",
      "Django version 4.2.7, using settings 'server.settings'\n",
      "Starting ASGI/Daphne version 4.1.2 development server at http://127.0.0.1:8000/\n",
      "Quit the server with CONTROL-C.\n",
      "^C\n"
     ]
    }
   ],
   "source": [
    "# !mercury run"
   ]
  },
  {
   "cell_type": "code",
   "execution_count": null,
   "metadata": {},
   "outputs": [],
   "source": []
  }
 ],
 "metadata": {
  "kernelspec": {
   "display_name": "digi-path",
   "language": "python",
   "name": "python3"
  },
  "language_info": {
   "codemirror_mode": {
    "name": "ipython",
    "version": 3
   },
   "file_extension": ".py",
   "mimetype": "text/x-python",
   "name": "python",
   "nbconvert_exporter": "python",
   "pygments_lexer": "ipython3",
   "version": "3.11.9"
  }
 },
 "nbformat": 4,
 "nbformat_minor": 2
}
