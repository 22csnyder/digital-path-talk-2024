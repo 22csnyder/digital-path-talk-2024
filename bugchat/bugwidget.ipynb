{
 "cells": [
  {
   "cell_type": "raw",
   "metadata": {
    "vscode": {
     "languageId": "raw"
    }
   },
   "source": [
    "---\n",
    "title: \"jupyter lab chat\"\n",
    "format: html\n",
    "---"
   ]
  },
  {
   "cell_type": "code",
   "execution_count": 22,
   "metadata": {},
   "outputs": [
    {
     "data": {
      "text/html": [
       "<pre style=\"white-space:pre;overflow-x:auto;line-height:normal;font-family:Menlo,'DejaVu Sans Mono',consolas,'Courier New',monospace\">                          Pathogen  Number Positives  Number Tests Positivity Trend <span style=\"color: #008080; text-decoration-color: #008080; font-weight: bold\">4</span> Wk Avg\n",
       "<span style=\"color: #008080; text-decoration-color: #008080; font-weight: bold\">0</span>                       Adenovirus                <span style=\"color: #008080; text-decoration-color: #008080; font-weight: bold\">12</span>          <span style=\"color: #008080; text-decoration-color: #008080; font-weight: bold\">1299</span>      <span style=\"color: #008080; text-decoration-color: #008080; font-weight: bold\">0.92</span>%  down    <span style=\"color: #008080; text-decoration-color: #008080; font-weight: bold\">1.13</span>%\n",
       "<span style=\"color: #008080; text-decoration-color: #008080; font-weight: bold\">1</span>   <span style=\"font-weight: bold\">[</span>Grouped<span style=\"font-weight: bold\">]</span> Seasonal Coronavirus                <span style=\"color: #008080; text-decoration-color: #008080; font-weight: bold\">14</span>          <span style=\"color: #008080; text-decoration-color: #008080; font-weight: bold\">1326</span>      <span style=\"color: #008080; text-decoration-color: #008080; font-weight: bold\">1.06</span>%    up    <span style=\"color: #008080; text-decoration-color: #008080; font-weight: bold\">0.91</span>%\n",
       "<span style=\"color: #008080; text-decoration-color: #008080; font-weight: bold\">2</span>                         COVID-<span style=\"color: #008080; text-decoration-color: #008080; font-weight: bold\">19</span>               <span style=\"color: #008080; text-decoration-color: #008080; font-weight: bold\">261</span>          <span style=\"color: #008080; text-decoration-color: #008080; font-weight: bold\">2678</span>      <span style=\"color: #008080; text-decoration-color: #008080; font-weight: bold\">9.75</span>%  down   <span style=\"color: #008080; text-decoration-color: #008080; font-weight: bold\">13.09</span>%\n",
       "<span style=\"color: #008080; text-decoration-color: #008080; font-weight: bold\">3</span>                  Metapneumovirus                 <span style=\"color: #008080; text-decoration-color: #008080; font-weight: bold\">0</span>          <span style=\"color: #008080; text-decoration-color: #008080; font-weight: bold\">1298</span>       <span style=\"color: #008080; text-decoration-color: #008080; font-weight: bold\">0.0</span>%  same    <span style=\"color: #008080; text-decoration-color: #008080; font-weight: bold\">0.18</span>%\n",
       "<span style=\"color: #008080; text-decoration-color: #008080; font-weight: bold\">4</span>   <span style=\"font-weight: bold\">[</span>Grouped<span style=\"font-weight: bold\">]</span> Influenza A Subtypes                 <span style=\"color: #008080; text-decoration-color: #008080; font-weight: bold\">3</span>          <span style=\"color: #008080; text-decoration-color: #008080; font-weight: bold\">2424</span>      <span style=\"color: #008080; text-decoration-color: #008080; font-weight: bold\">0.12</span>%  down    <span style=\"color: #008080; text-decoration-color: #008080; font-weight: bold\">0.23</span>%\n",
       "<span style=\"color: #008080; text-decoration-color: #008080; font-weight: bold\">5</span>                      Influenza B                 <span style=\"color: #008080; text-decoration-color: #008080; font-weight: bold\">0</span>          <span style=\"color: #008080; text-decoration-color: #008080; font-weight: bold\">2424</span>       <span style=\"color: #008080; text-decoration-color: #008080; font-weight: bold\">0.0</span>%  same     <span style=\"color: #008080; text-decoration-color: #008080; font-weight: bold\">0.0</span>%\n",
       "<span style=\"color: #008080; text-decoration-color: #008080; font-weight: bold\">6</span>    <span style=\"font-weight: bold\">[</span>Grouped<span style=\"font-weight: bold\">]</span> Parainfluenza Virus                <span style=\"color: #008080; text-decoration-color: #008080; font-weight: bold\">23</span>          <span style=\"color: #008080; text-decoration-color: #008080; font-weight: bold\">1326</span>      <span style=\"color: #008080; text-decoration-color: #008080; font-weight: bold\">1.73</span>%    up    <span style=\"color: #008080; text-decoration-color: #008080; font-weight: bold\">1.34</span>%\n",
       "<span style=\"color: #008080; text-decoration-color: #008080; font-weight: bold\">7</span>           Rhinovirus/Enterovirus               <span style=\"color: #008080; text-decoration-color: #008080; font-weight: bold\">277</span>          <span style=\"color: #008080; text-decoration-color: #008080; font-weight: bold\">1298</span>     <span style=\"color: #008080; text-decoration-color: #008080; font-weight: bold\">21.34</span>%  same    <span style=\"color: #008080; text-decoration-color: #008080; font-weight: bold\">19.6</span>%\n",
       "<span style=\"color: #008080; text-decoration-color: #008080; font-weight: bold\">8</span>                              RSV                 <span style=\"color: #008080; text-decoration-color: #008080; font-weight: bold\">9</span>          <span style=\"color: #008080; text-decoration-color: #008080; font-weight: bold\">2424</span>      <span style=\"color: #008080; text-decoration-color: #008080; font-weight: bold\">0.37</span>%    up    <span style=\"color: #008080; text-decoration-color: #008080; font-weight: bold\">0.27</span>%\n",
       "<span style=\"color: #008080; text-decoration-color: #008080; font-weight: bold\">9</span>             Bordetella pertussis                 <span style=\"color: #008080; text-decoration-color: #008080; font-weight: bold\">1</span>          <span style=\"color: #008080; text-decoration-color: #008080; font-weight: bold\">1257</span>      <span style=\"color: #008080; text-decoration-color: #008080; font-weight: bold\">0.08</span>%  same    <span style=\"color: #008080; text-decoration-color: #008080; font-weight: bold\">0.18</span>%\n",
       "<span style=\"color: #008080; text-decoration-color: #008080; font-weight: bold\">10</span>        Bordetella parapertussis                 <span style=\"color: #008080; text-decoration-color: #008080; font-weight: bold\">0</span>          <span style=\"color: #008080; text-decoration-color: #008080; font-weight: bold\">1257</span>       <span style=\"color: #008080; text-decoration-color: #008080; font-weight: bold\">0.0</span>%  same     <span style=\"color: #008080; text-decoration-color: #008080; font-weight: bold\">0.0</span>%\n",
       "<span style=\"color: #008080; text-decoration-color: #008080; font-weight: bold\">11</span>            Chlamydia pneumoniae                 <span style=\"color: #008080; text-decoration-color: #008080; font-weight: bold\">0</span>          <span style=\"color: #008080; text-decoration-color: #008080; font-weight: bold\">1298</span>       <span style=\"color: #008080; text-decoration-color: #008080; font-weight: bold\">0.0</span>%  same     <span style=\"color: #008080; text-decoration-color: #008080; font-weight: bold\">0.0</span>%\n",
       "<span style=\"color: #008080; text-decoration-color: #008080; font-weight: bold\">12</span>           Mycoplasma pneumoniae                <span style=\"color: #008080; text-decoration-color: #008080; font-weight: bold\">18</span>          <span style=\"color: #008080; text-decoration-color: #008080; font-weight: bold\">1307</span>      <span style=\"color: #008080; text-decoration-color: #008080; font-weight: bold\">1.38</span>%  same    <span style=\"color: #008080; text-decoration-color: #008080; font-weight: bold\">1.49</span>%\n",
       "</pre>\n"
      ],
      "text/plain": [
       "                          Pathogen  Number Positives  Number Tests Positivity Trend \u001b[1;36m4\u001b[0m Wk Avg\n",
       "\u001b[1;36m0\u001b[0m                       Adenovirus                \u001b[1;36m12\u001b[0m          \u001b[1;36m1299\u001b[0m      \u001b[1;36m0.92\u001b[0m%  down    \u001b[1;36m1.13\u001b[0m%\n",
       "\u001b[1;36m1\u001b[0m   \u001b[1m[\u001b[0mGrouped\u001b[1m]\u001b[0m Seasonal Coronavirus                \u001b[1;36m14\u001b[0m          \u001b[1;36m1326\u001b[0m      \u001b[1;36m1.06\u001b[0m%    up    \u001b[1;36m0.91\u001b[0m%\n",
       "\u001b[1;36m2\u001b[0m                         COVID-\u001b[1;36m19\u001b[0m               \u001b[1;36m261\u001b[0m          \u001b[1;36m2678\u001b[0m      \u001b[1;36m9.75\u001b[0m%  down   \u001b[1;36m13.09\u001b[0m%\n",
       "\u001b[1;36m3\u001b[0m                  Metapneumovirus                 \u001b[1;36m0\u001b[0m          \u001b[1;36m1298\u001b[0m       \u001b[1;36m0.0\u001b[0m%  same    \u001b[1;36m0.18\u001b[0m%\n",
       "\u001b[1;36m4\u001b[0m   \u001b[1m[\u001b[0mGrouped\u001b[1m]\u001b[0m Influenza A Subtypes                 \u001b[1;36m3\u001b[0m          \u001b[1;36m2424\u001b[0m      \u001b[1;36m0.12\u001b[0m%  down    \u001b[1;36m0.23\u001b[0m%\n",
       "\u001b[1;36m5\u001b[0m                      Influenza B                 \u001b[1;36m0\u001b[0m          \u001b[1;36m2424\u001b[0m       \u001b[1;36m0.0\u001b[0m%  same     \u001b[1;36m0.0\u001b[0m%\n",
       "\u001b[1;36m6\u001b[0m    \u001b[1m[\u001b[0mGrouped\u001b[1m]\u001b[0m Parainfluenza Virus                \u001b[1;36m23\u001b[0m          \u001b[1;36m1326\u001b[0m      \u001b[1;36m1.73\u001b[0m%    up    \u001b[1;36m1.34\u001b[0m%\n",
       "\u001b[1;36m7\u001b[0m           Rhinovirus/Enterovirus               \u001b[1;36m277\u001b[0m          \u001b[1;36m1298\u001b[0m     \u001b[1;36m21.34\u001b[0m%  same    \u001b[1;36m19.6\u001b[0m%\n",
       "\u001b[1;36m8\u001b[0m                              RSV                 \u001b[1;36m9\u001b[0m          \u001b[1;36m2424\u001b[0m      \u001b[1;36m0.37\u001b[0m%    up    \u001b[1;36m0.27\u001b[0m%\n",
       "\u001b[1;36m9\u001b[0m             Bordetella pertussis                 \u001b[1;36m1\u001b[0m          \u001b[1;36m1257\u001b[0m      \u001b[1;36m0.08\u001b[0m%  same    \u001b[1;36m0.18\u001b[0m%\n",
       "\u001b[1;36m10\u001b[0m        Bordetella parapertussis                 \u001b[1;36m0\u001b[0m          \u001b[1;36m1257\u001b[0m       \u001b[1;36m0.0\u001b[0m%  same     \u001b[1;36m0.0\u001b[0m%\n",
       "\u001b[1;36m11\u001b[0m            Chlamydia pneumoniae                 \u001b[1;36m0\u001b[0m          \u001b[1;36m1298\u001b[0m       \u001b[1;36m0.0\u001b[0m%  same     \u001b[1;36m0.0\u001b[0m%\n",
       "\u001b[1;36m12\u001b[0m           Mycoplasma pneumoniae                \u001b[1;36m18\u001b[0m          \u001b[1;36m1307\u001b[0m      \u001b[1;36m1.38\u001b[0m%  same    \u001b[1;36m1.49\u001b[0m%\n"
      ]
     },
     "metadata": {},
     "output_type": "display_data"
    }
   ],
   "source": [
    "import os, pandas as pd, marvin\n",
    "import sys, json\n",
    "from pprint import pprint\n",
    "from rich import print as rprint\n",
    "from dotenv import load_dotenv\n",
    "from pathlib import Path\n",
    "from loguru import logger\n",
    "load_dotenv()\n",
    "logger.remove()\n",
    "logger.add(sys.stdout, level=\"WARNING\")\n",
    "logger.add(\"bugchat.log\", level=\"INFO\")\n",
    "DATA_PATH = Path(os.getenv(\"DATA\"))\n",
    "logger.info(f\"Data path: {DATA_PATH}\")\n",
    "\n",
    "import marvin, openai\n",
    "from marvin.utilities.logging import get_logger\n",
    "marvin_logger = get_logger(name=\"marvin.bugchat\")\n",
    "\n",
    "\n",
    "from pydantic import BaseModel\n",
    "\n",
    "df = pd.read_csv(DATA_PATH / \"raw\" / \"pathogens.csv\")\n",
    "with pd.option_context('display.max_columns', 100, 'display.width', 1000, 'display.max_colwidth', 200):\n",
    "    rprint(df)\n",
    "\n",
    "\n",
    "from IPython.display import display, HTML, IFrame\n",
    "import ipywidgets as widgets\n",
    "from ipywidgets.embed import embed_minimal_html\n",
    "\n",
    "\n",
    "import numpy as np\n",
    "import pandas as pd\n",
    "import matplotlib.pyplot as plt\n",
    "import seaborn as sns\n"
   ]
  },
  {
   "cell_type": "markdown",
   "metadata": {},
   "source": [
    "--- "
   ]
  },
  {
   "cell_type": "code",
   "execution_count": 17,
   "metadata": {},
   "outputs": [
    {
     "data": {
      "text/html": [
       "<h3>Input:</h3>"
      ],
      "text/plain": [
       "<IPython.core.display.HTML object>"
      ]
     },
     "metadata": {},
     "output_type": "display_data"
    },
    {
     "data": {
      "application/vnd.jupyter.widget-view+json": {
       "model_id": "480f033e6ed740cfbf06253f92bc2cd3",
       "version_major": 2,
       "version_minor": 0
      },
      "text/plain": [
       "IntText(value=7, description='Enter n:')"
      ]
     },
     "metadata": {},
     "output_type": "display_data"
    },
    {
     "data": {
      "text/html": [
       "<h3>Output:</h3>"
      ],
      "text/plain": [
       "<IPython.core.display.HTML object>"
      ]
     },
     "metadata": {},
     "output_type": "display_data"
    },
    {
     "data": {
      "application/vnd.jupyter.widget-view+json": {
       "model_id": "54de59f6866f4838a600029f4125a4eb",
       "version_major": 2,
       "version_minor": 0
      },
      "text/plain": [
       "Output()"
      ]
     },
     "metadata": {},
     "output_type": "display_data"
    },
    {
     "data": {
      "text/html": [
       "\n",
       "        <iframe\n",
       "            width=\"100%\"\n",
       "            height=\"300px\"\n",
       "            src=\"export.html\"\n",
       "            frameborder=\"0\"\n",
       "            allowfullscreen\n",
       "            \n",
       "        ></iframe>\n",
       "        "
      ],
      "text/plain": [
       "<IPython.lib.display.IFrame at 0x1110d5bd0>"
      ]
     },
     "metadata": {},
     "output_type": "display_data"
    }
   ],
   "source": [
    "\n",
    "\n",
    "def plot_sin(n):\n",
    "    x = np.linspace(0, 2 * np.pi, n)\n",
    "    y = np.sin(x)\n",
    "    \n",
    "    fig, ax = plt.subplots()\n",
    "    ax.plot(x, y)\n",
    "    ax.set(title='Sine Wave', xlabel='x', ylabel='sin(x)')\n",
    "    \n",
    "    output = widgets.Output()\n",
    "    with output:\n",
    "        display(fig)\n",
    "    plt.close(fig)\n",
    "    \n",
    "    return output\n",
    "\n",
    "# # def llm_render_widget():\n",
    "output_widget = widgets.Output(description=\"Graph:\")\n",
    "input_widget = widgets.IntText(description=\"Enter n:\", value=7, continuous_update=False)\n",
    "\n",
    "# with output_widget:\n",
    "with output_widget:\n",
    "    output_widget.clear_output()\n",
    "    widgets.interactive(plot_sin, n=input_widget, output=output_widget)\n",
    "\n",
    "display(HTML(\"<h3>Input:</h3>\"))\n",
    "display(input_widget)\n",
    "display(HTML(\"<h3>Output:</h3>\"))\n",
    "display(output_widget)\n",
    "\n",
    "\n",
    "# def on_input_change(change: dict):\n",
    "#     new_value = change['new']\n",
    "#     logger.info(f\"{change=}\")\n",
    "#     with output_widget:\n",
    "#         output_widget.clear_output()\n",
    "#         if new_value > 1:\n",
    "#             result = plot_sin(new_value)\n",
    "#             display(HTML(result))\n",
    "#         else:\n",
    "#             print(\"Please enter a number greater than 1.\")\n",
    "\n",
    "# display(HTML(\"<h3>Input:</h3>\"))\n",
    "# display(input_widget)\n",
    "# display(HTML(\"<h3>Output:</h3>\"))\n",
    "\n",
    "# input_widget.observe(on_input_change, names='value')\n",
    "\n",
    "# Embed the widgets into the HTML\n",
    "embed_minimal_html('export.html', views=[input_widget, output_widget], title=\"sin(x) Interpolation\")\n",
    "display(IFrame(src='export.html', width='100%', height='300px'))\n"
   ]
  },
  {
   "cell_type": "code",
   "execution_count": null,
   "metadata": {},
   "outputs": [],
   "source": []
  },
  {
   "cell_type": "markdown",
   "metadata": {},
   "source": [
    "---"
   ]
  },
  {
   "cell_type": "code",
   "execution_count": 21,
   "metadata": {},
   "outputs": [
    {
     "data": {
      "application/vnd.jupyter.widget-view+json": {
       "model_id": "75a9c94eb49b44d78387c7de7afbc2da",
       "version_major": 2,
       "version_minor": 0
      },
      "text/plain": [
       "IntSlider(value=100, description='Number of points:', max=1000, min=10, step=10)"
      ]
     },
     "metadata": {},
     "output_type": "display_data"
    },
    {
     "data": {
      "application/vnd.jupyter.widget-view+json": {
       "model_id": "a09388c58638429cb9fb04e77c76a140",
       "version_major": 2,
       "version_minor": 0
      },
      "text/plain": [
       "Output()"
      ]
     },
     "metadata": {},
     "output_type": "display_data"
    }
   ],
   "source": [
    "from typing import Callable\n",
    "import numpy as np\n",
    "import matplotlib.pyplot as plt\n",
    "import ipywidgets as widgets\n",
    "from IPython.display import display\n",
    "\n",
    "\n",
    "def plot_sin(n):\n",
    "    x = np.linspace(0, 2 * np.pi, n)\n",
    "    y = np.sin(x)\n",
    "    \n",
    "    fig, ax = plt.subplots()\n",
    "    ax.plot(x, y)\n",
    "    ax.set(title='Sine Wave', xlabel='x', ylabel='sin(x)')\n",
    "    \n",
    "    display(fig)\n",
    "    plt.close(fig)\n",
    "\n",
    "\n",
    "def interactive_slider_plot(fn:Callable[int,None]): # type: ignore\n",
    "    n_slider = widgets.IntSlider(value=100, min=10, max=1000, step=10, description='n pts:')\n",
    "    \n",
    "    def update_plot(n):\n",
    "        output_widget.clear_output()\n",
    "        with output_widget:\n",
    "            display(fn(n))\n",
    "    \n",
    "    output_widget = widgets.Output()\n",
    "    display(n_slider, output_widget)\n",
    "    \n",
    "    widgets.interactive(update_plot, n=n_slider)\n",
    "\n",
    "# Example usage\n",
    "interactive_plot_sin()"
   ]
  },
  {
   "cell_type": "markdown",
   "metadata": {},
   "source": [
    "----"
   ]
  },
  {
   "cell_type": "code",
   "execution_count": 24,
   "metadata": {},
   "outputs": [
    {
     "data": {
      "application/vnd.jupyter.widget-view+json": {
       "model_id": "1dc2cb0632a94b139631da83c0517a73",
       "version_major": 2,
       "version_minor": 0
      },
      "text/plain": [
       "interactive(children=(IntText(value=8, description='Enter n:'), Output()), _dom_classes=('widget-interact',))"
      ]
     },
     "execution_count": 24,
     "metadata": {},
     "output_type": "execute_result"
    }
   ],
   "source": [
    "widgets.interactive(plot_sin, n=input_widget, output=output_widget)"
   ]
  },
  {
   "cell_type": "code",
   "execution_count": null,
   "metadata": {},
   "outputs": [],
   "source": []
  },
  {
   "cell_type": "code",
   "execution_count": 13,
   "metadata": {},
   "outputs": [
    {
     "data": {
      "text/html": [
       "<a href='https://chatgpt.com/share/66f32629-1c48-8005-80b8-f69e0b698c4f'>ChatGPT</a>"
      ],
      "text/plain": [
       "<IPython.core.display.HTML object>"
      ]
     },
     "execution_count": 13,
     "metadata": {},
     "output_type": "execute_result"
    }
   ],
   "source": [
    "HTML(\"<a href='https://chatgpt.com/share/66f32629-1c48-8005-80b8-f69e0b698c4f'>ChatGPT</a>\")"
   ]
  },
  {
   "cell_type": "code",
   "execution_count": null,
   "metadata": {},
   "outputs": [],
   "source": []
  }
 ],
 "metadata": {
  "kernelspec": {
   "display_name": "digi-path",
   "language": "python",
   "name": "python3"
  },
  "language_info": {
   "codemirror_mode": {
    "name": "ipython",
    "version": 3
   },
   "file_extension": ".py",
   "mimetype": "text/x-python",
   "name": "python",
   "nbconvert_exporter": "python",
   "pygments_lexer": "ipython3",
   "version": "3.11.9"
  }
 },
 "nbformat": 4,
 "nbformat_minor": 2
}
